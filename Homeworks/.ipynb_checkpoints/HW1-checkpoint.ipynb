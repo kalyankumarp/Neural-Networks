{
 "cells": [
  {
   "cell_type": "code",
   "execution_count": 80,
   "metadata": {},
   "outputs": [],
   "source": [
    "from random import *\n",
    "import numpy as np\n",
    "import matplotlib.pyplot as plt\n",
    "import seaborn as sns"
   ]
  },
  {
   "cell_type": "code",
   "execution_count": 81,
   "metadata": {},
   "outputs": [
    {
     "name": "stdout",
     "output_type": "stream",
     "text": [
      "[[ 0.16013139 -0.05806223 -0.74375683]]\n"
     ]
    }
   ],
   "source": [
    "b = []\n",
    "w0 = uniform(-0.25, 0.25)\n",
    "w1 = uniform(-1, 1)\n",
    "w2 = uniform(-1, 1)\n",
    "b.append([w0,w1,w2])\n",
    "wopt = np.asarray(b)\n",
    "print(wopt)"
   ]
  },
  {
   "cell_type": "code",
   "execution_count": 82,
   "metadata": {},
   "outputs": [],
   "source": [
    "# n = 100"
   ]
  },
  {
   "cell_type": "code",
   "execution_count": 83,
   "metadata": {},
   "outputs": [],
   "source": [
    "a = []\n",
    "for i in range(0,100):\n",
    "    x1 = uniform(-1, 1)\n",
    "    x2 = uniform(-1, 1)\n",
    "    a.append([1, x1, x2])\n",
    "    i += 1\n",
    "S = np.asarray(a)\n",
    "#print(S)"
   ]
  },
  {
   "cell_type": "code",
   "execution_count": 84,
   "metadata": {},
   "outputs": [],
   "source": [
    "wTopt = np.transpose(wopt)\n",
    "#print(wopt[0][1])"
   ]
  },
  {
   "cell_type": "code",
   "execution_count": 85,
   "metadata": {},
   "outputs": [],
   "source": [
    "S1 = []\n",
    "S2 = []\n",
    "for i in range(0,100):\n",
    "    if np.matmul(S[i], wTopt) >= 0:\n",
    "        S1.append(S[i])\n",
    "    else:\n",
    "        S2.append(S[i])\n",
    "        "
   ]
  },
  {
   "cell_type": "code",
   "execution_count": 86,
   "metadata": {},
   "outputs": [
    {
     "name": "stdout",
     "output_type": "stream",
     "text": [
      "48\n",
      "52\n"
     ]
    }
   ],
   "source": [
    "print(len(S1))\n",
    "print(len(S2))"
   ]
  },
  {
   "cell_type": "code",
   "execution_count": 97,
   "metadata": {},
   "outputs": [
    {
     "data": {
      "text/plain": [
       "Text(0, 0.5, 'x2')"
      ]
     },
     "execution_count": 97,
     "metadata": {},
     "output_type": "execute_result"
    },
    {
     "data": {
      "image/png": "[encoded data removed]",
      "text/plain": [
       "<Figure size 432x288 with 1 Axes>"
      ]
     },
     "metadata": {
      "needs_background": "light"
     },
     "output_type": "display_data"
    }
   ],
   "source": [
    "xs = [x[1] for x in S1]\n",
    "ys = [y[2] for y in S1]\n",
    "\n",
    "plt.scatter(xs, ys, color ='blue', marker  = '^', s = 16)\n",
    "\n",
    "xs = [x[1] for x in S2]\n",
    "ys = [y[2] for y in S2]\n",
    "plt.scatter(xs, ys, color ='red', s = 15)\n",
    "\n",
    "xs = [x[1] for x in S]\n",
    "ys = [y[2] for y in S]\n",
    "#print(len(xs))\n",
    "y = []\n",
    "for i in range(0,100):\n",
    "    y.append(-((wopt[0][0]+(wopt[0][1]*xs[i]))/wopt[0][2]))\n",
    "plt.plot(xs, y)\n",
    "\n",
    "plt.xlabel('x1')\n",
    "plt.ylabel('x2')"
   ]
  },
  {
   "cell_type": "code",
   "execution_count": 98,
   "metadata": {},
   "outputs": [],
   "source": [
    "# PTA "
   ]
  },
  {
   "cell_type": "code",
   "execution_count": 99,
   "metadata": {},
   "outputs": [
    {
     "name": "stdout",
     "output_type": "stream",
     "text": [
      "[[ 0.6169878  -0.18446036 -0.10836545]]\n"
     ]
    }
   ],
   "source": [
    "b = []\n",
    "wa = uniform(-1, 1)\n",
    "wb = uniform(-1, 1)\n",
    "wc = uniform(-1, 1)\n",
    "b. append([wa,wb,wc])\n",
    "w = np.asarray(b)\n",
    "t = w\n",
    "print(w)"
   ]
  },
  {
   "cell_type": "code",
   "execution_count": 100,
   "metadata": {},
   "outputs": [],
   "source": [
    "# Epoch 0\n",
    "m = []\n",
    "e = []\n",
    "wT = np.transpose(w)\n",
    "count = 0\n",
    "for i in range(len(S1)):\n",
    "    if np.matmul(S1[i], wT) < 0:\n",
    "        count += 1\n",
    "    i += 1    \n",
    "for i in range(len(S2)):\n",
    "    if np.matmul(S2[i], wT) >= 0:\n",
    "        count += 1\n",
    "    i += 1\n",
    "\n"
   ]
  },
  {
   "cell_type": "code",
   "execution_count": 101,
   "metadata": {},
   "outputs": [
    {
     "data": {
      "text/plain": [
       "[52]"
      ]
     },
     "execution_count": 101,
     "metadata": {},
     "output_type": "execute_result"
    }
   ],
   "source": [
    "# Learing Rate\n",
    "n = 1\n",
    "\n",
    "# Epoch 1\n",
    "count = 0\n",
    "epoch = 0\n",
    "for i in range(len(S1)):\n",
    "    if np.matmul(S1[i], wT) < 0:\n",
    "        count += 1\n",
    "        w =  w + n*S1[i]\n",
    "        \n",
    "    i += 1\n",
    "for i in range(len(S2)):\n",
    "    if np.matmul(S2[i], wT) >= 0:\n",
    "        count += 1\n",
    "        w =  w - n*S2[i]\n",
    "    i += 1\n",
    "wT= np.transpose(w)\n",
    "e.append(epoch)\n",
    "m.append(count)\n",
    "m"
   ]
  },
  {
   "cell_type": "code",
   "execution_count": 102,
   "metadata": {},
   "outputs": [
    {
     "name": "stdout",
     "output_type": "stream",
     "text": [
      "[[-51.3830122    4.53246816 -27.53475157]]\n"
     ]
    }
   ],
   "source": [
    "print(w)"
   ]
  },
  {
   "cell_type": "code",
   "execution_count": 103,
   "metadata": {},
   "outputs": [],
   "source": [
    "while count != 0:\n",
    "    epoch += 1 \n",
    "    count = 0\n",
    "    for i in range(len(S1)):\n",
    "        if np.matmul(S1[i], wT) < 0:\n",
    "            w =  w + n*S1[i]\n",
    "            count += 1\n",
    "        i += 1\n",
    "    for i in range(len(S2)):\n",
    "        if np.matmul(S2[i], wT) >= 0:\n",
    "            w =  w - n*S2[i]\n",
    "            count += 1\n",
    "        i += 1\n",
    "    m.append(count)\n",
    "    e.append(epoch)\n",
    "    wT = np.transpose(w)"
   ]
  },
  {
   "cell_type": "code",
   "execution_count": 104,
   "metadata": {},
   "outputs": [
    {
     "name": "stdout",
     "output_type": "stream",
     "text": [
      "[[  9.6169878   -2.88175516 -44.73289169]]\n"
     ]
    }
   ],
   "source": [
    "print(w)"
   ]
  },
  {
   "cell_type": "code",
   "execution_count": 105,
   "metadata": {},
   "outputs": [
    {
     "name": "stdout",
     "output_type": "stream",
     "text": [
      "0\n"
     ]
    },
    {
     "data": {
      "text/plain": [
       "0"
      ]
     },
     "execution_count": 105,
     "metadata": {},
     "output_type": "execute_result"
    }
   ],
   "source": [
    "# Testing\n",
    "count = 0\n",
    "for i in range(len(S1)):\n",
    "    if np.matmul(S1[i], wT) < 0:\n",
    "        count += 1\n",
    "    i += 1\n",
    "print(count)    \n",
    "for i in range(len(S2)):\n",
    "    if np.matmul(S2[i], wT) >= 0:\n",
    "        count += 1\n",
    "    i += 1\n",
    "\n",
    "count "
   ]
  },
  {
   "cell_type": "code",
   "execution_count": 106,
   "metadata": {},
   "outputs": [
    {
     "name": "stdout",
     "output_type": "stream",
     "text": [
      "[0, 1, 2, 3, 4, 5, 6, 7, 8, 9, 10, 11, 12, 13, 14, 15, 16, 17, 18, 19, 20]\n",
      "[52, 48, 15, 6, 3, 2, 2, 1, 1, 2, 1, 1, 2, 1, 1, 2, 1, 1, 2, 1, 0]\n"
     ]
    }
   ],
   "source": [
    "print(e)\n",
    "print(m)"
   ]
  },
  {
   "cell_type": "code",
   "execution_count": 107,
   "metadata": {},
   "outputs": [
    {
     "data": {
      "text/plain": [
       "<matplotlib.collections.PathCollection at 0x1eb982c2048>"
      ]
     },
     "execution_count": 107,
     "metadata": {},
     "output_type": "execute_result"
    },
    {
     "data": {
      "image/png": "[encoded data removed]",
      "text/plain": [
       "<Figure size 432x288 with 1 Axes>"
      ]
     },
     "metadata": {
      "needs_background": "light"
     },
     "output_type": "display_data"
    }
   ],
   "source": [
    "plt.scatter(e,m)"
   ]
  },
  {
   "cell_type": "code",
   "execution_count": null,
   "metadata": {},
   "outputs": [],
   "source": []
  },
  {
   "cell_type": "code",
   "execution_count": 108,
   "metadata": {},
   "outputs": [],
   "source": [
    "# Learning Rate 10\n",
    "n = 10\n",
    "w = t\n",
    "wT = np.transpose(w)\n",
    "e= []\n",
    "m =[]\n",
    "# Epoch 1\n",
    "count = 0\n",
    "epoch = 0\n",
    "for i in range(len(S1)):\n",
    "    if np.matmul(S1[i], wT) < 0:\n",
    "        count += 1\n",
    "        w =  w + n*S1[i]\n",
    "        \n",
    "    i += 1\n",
    "for i in range(len(S2)):\n",
    "    if np.matmul(S2[i], wT) >= 0:\n",
    "        count += 1\n",
    "        w =  w - n*S2[i]\n",
    "    i += 1\n",
    "wT= np.transpose(w)\n",
    "e.append(epoch)\n",
    "m.append(count)\n"
   ]
  },
  {
   "cell_type": "code",
   "execution_count": 109,
   "metadata": {},
   "outputs": [
    {
     "name": "stdout",
     "output_type": "stream",
     "text": [
      "[[  90.6169878   -27.18767135 -448.13919675]]\n"
     ]
    }
   ],
   "source": [
    "while count != 0:\n",
    "    epoch += 1 \n",
    "    count = 0\n",
    "    for i in range(len(S1)):\n",
    "        if np.matmul(S1[i], wT) < 0:\n",
    "            w =  w + n*S1[i]\n",
    "            count += 1\n",
    "        i += 1\n",
    "    for i in range(len(S2)):\n",
    "        if np.matmul(S2[i], wT) >= 0:\n",
    "            w =  w - n*S2[i]\n",
    "            count += 1\n",
    "        i += 1\n",
    "    m.append(count)\n",
    "    e.append(epoch)\n",
    "    wT = np.transpose(w)\n",
    "print(w)"
   ]
  },
  {
   "cell_type": "code",
   "execution_count": 110,
   "metadata": {},
   "outputs": [
    {
     "name": "stdout",
     "output_type": "stream",
     "text": [
      "0\n"
     ]
    },
    {
     "data": {
      "text/plain": [
       "0"
      ]
     },
     "execution_count": 110,
     "metadata": {},
     "output_type": "execute_result"
    }
   ],
   "source": [
    "# Testing\n",
    "count = 0\n",
    "for i in range(len(S1)):\n",
    "    if np.matmul(S1[i], wT) < 0:\n",
    "        count += 1\n",
    "    i += 1\n",
    "print(count)    \n",
    "for i in range(len(S2)):\n",
    "    if np.matmul(S2[i], wT) >= 0:\n",
    "        count += 1\n",
    "    i += 1\n",
    "\n",
    "count "
   ]
  },
  {
   "cell_type": "code",
   "execution_count": 111,
   "metadata": {},
   "outputs": [
    {
     "name": "stdout",
     "output_type": "stream",
     "text": [
      "[0, 1, 2, 3, 4, 5, 6, 7, 8, 9, 10, 11]\n",
      "[52, 48, 15, 7, 2, 1, 1, 4, 5, 4, 2, 0]\n"
     ]
    }
   ],
   "source": [
    "print(e)\n",
    "print(m)"
   ]
  },
  {
   "cell_type": "code",
   "execution_count": 112,
   "metadata": {},
   "outputs": [
    {
     "data": {
      "text/plain": [
       "<matplotlib.collections.PathCollection at 0x1eb98326390>"
      ]
     },
     "execution_count": 112,
     "metadata": {},
     "output_type": "execute_result"
    },
    {
     "data": {
      "image/png": "[encoded data removed]",
      "text/plain": [
       "<Figure size 432x288 with 1 Axes>"
      ]
     },
     "metadata": {
      "needs_background": "light"
     },
     "output_type": "display_data"
    }
   ],
   "source": [
    "plt.scatter(e,m)"
   ]
  },
  {
   "cell_type": "code",
   "execution_count": 113,
   "metadata": {},
   "outputs": [],
   "source": [
    "# Learning Rate 10\n",
    "n = 0.1\n",
    "w = t\n",
    "wT = np.transpose(w)\n",
    "e= []\n",
    "m =[]\n",
    "# Epoch 1\n",
    "count = 0\n",
    "epoch = 0\n",
    "for i in range(len(S1)):\n",
    "    if np.matmul(S1[i], wT) < 0:\n",
    "        count += 1\n",
    "        w =  w + n*S1[i]\n",
    "        \n",
    "    i += 1\n",
    "for i in range(len(S2)):\n",
    "    if np.matmul(S2[i], wT) >= 0:\n",
    "        count += 1\n",
    "        w =  w - n*S2[i]\n",
    "    i += 1\n",
    "wT= np.transpose(w)\n",
    "e.append(epoch)\n",
    "m.append(count)\n"
   ]
  },
  {
   "cell_type": "code",
   "execution_count": 114,
   "metadata": {},
   "outputs": [
    {
     "name": "stdout",
     "output_type": "stream",
     "text": [
      "[[ 0.9169878  -0.29191031 -4.51643601]]\n"
     ]
    }
   ],
   "source": [
    "while count != 0:\n",
    "    epoch += 1 \n",
    "    count = 0\n",
    "    for i in range(len(S1)):\n",
    "        if np.matmul(S1[i], wT) < 0:\n",
    "            w =  w + n*S1[i]\n",
    "            count += 1\n",
    "        i += 1\n",
    "    for i in range(len(S2)):\n",
    "        if np.matmul(S2[i], wT) >= 0:\n",
    "            w =  w - n*S2[i]\n",
    "            count += 1\n",
    "        i += 1\n",
    "    m.append(count)\n",
    "    e.append(epoch)\n",
    "    wT = np.transpose(w)\n",
    "print(w)"
   ]
  },
  {
   "cell_type": "code",
   "execution_count": 115,
   "metadata": {},
   "outputs": [
    {
     "name": "stdout",
     "output_type": "stream",
     "text": [
      "0\n"
     ]
    },
    {
     "data": {
      "text/plain": [
       "0"
      ]
     },
     "execution_count": 115,
     "metadata": {},
     "output_type": "execute_result"
    }
   ],
   "source": [
    "# Testing\n",
    "count = 0\n",
    "for i in range(len(S1)):\n",
    "    if np.matmul(S1[i], wT) < 0:\n",
    "        count += 1\n",
    "    i += 1\n",
    "print(count)    \n",
    "for i in range(len(S2)):\n",
    "    if np.matmul(S2[i], wT) >= 0:\n",
    "        count += 1\n",
    "    i += 1\n",
    "\n",
    "count "
   ]
  },
  {
   "cell_type": "code",
   "execution_count": 116,
   "metadata": {},
   "outputs": [
    {
     "name": "stdout",
     "output_type": "stream",
     "text": [
      "[0, 1, 2, 3, 4, 5, 6, 7, 8, 9, 10]\n",
      "[52, 48, 8, 4, 2, 3, 3, 3, 1, 1, 0]\n"
     ]
    }
   ],
   "source": [
    "print(e)\n",
    "print(m)"
   ]
  },
  {
   "cell_type": "code",
   "execution_count": 117,
   "metadata": {},
   "outputs": [
    {
     "data": {
      "text/plain": [
       "<matplotlib.collections.PathCollection at 0x1eb98382668>"
      ]
     },
     "execution_count": 117,
     "metadata": {},
     "output_type": "execute_result"
    },
    {
     "data": {
      "image/png": "[encoded data removed]",
      "text/plain": [
       "<Figure size 432x288 with 1 Axes>"
      ]
     },
     "metadata": {
      "needs_background": "light"
     },
     "output_type": "display_data"
    }
   ],
   "source": [
    "plt.scatter(e,m)"
   ]
  },
  {
   "cell_type": "code",
   "execution_count": null,
   "metadata": {},
   "outputs": [],
   "source": []
  },
  {
   "cell_type": "code",
   "execution_count": 118,
   "metadata": {},
   "outputs": [],
   "source": [
    "# n = 1000\n",
    "\n",
    "a = []\n",
    "for i in range(0,1000):\n",
    "    x1 = uniform(-1, 1)\n",
    "    x2 = uniform(-1, 1)\n",
    "    a.append([1, x1, x2])\n",
    "    i += 1\n",
    "S = np.asarray(a)\n",
    "#print(S)\n"
   ]
  },
  {
   "cell_type": "code",
   "execution_count": 119,
   "metadata": {},
   "outputs": [],
   "source": [
    "wTopt = np.transpose(wopt)"
   ]
  },
  {
   "cell_type": "code",
   "execution_count": 120,
   "metadata": {},
   "outputs": [
    {
     "name": "stdout",
     "output_type": "stream",
     "text": [
      "610\n",
      "390\n"
     ]
    }
   ],
   "source": [
    "S1 = []\n",
    "S2 = []\n",
    "for i in range(0,1000):\n",
    "    if np.matmul(S[i], wTopt) >= 0:\n",
    "        S1.append(S[i])\n",
    "    else:\n",
    "        S2.append(S[i])\n",
    "print(len(S1))\n",
    "print(len(S2))        "
   ]
  },
  {
   "cell_type": "code",
   "execution_count": 121,
   "metadata": {},
   "outputs": [
    {
     "data": {
      "text/plain": [
       "Text(0, 0.5, 'x2')"
      ]
     },
     "execution_count": 121,
     "metadata": {},
     "output_type": "execute_result"
    },
    {
     "data": {
      "image/png": "[encoded data removed]",
      "text/plain": [
       "<Figure size 432x288 with 1 Axes>"
      ]
     },
     "metadata": {
      "needs_background": "light"
     },
     "output_type": "display_data"
    }
   ],
   "source": [
    "xs = [x[1] for x in S1]\n",
    "ys = [y[2] for y in S1]\n",
    "\n",
    "plt.scatter(xs, ys, color ='blue', marker  = '^', s=8)\n",
    "\n",
    "xs = [x[1] for x in S2]\n",
    "ys = [y[2] for y in S2]\n",
    "plt.scatter(xs, ys, color ='red', s=8)\n",
    "\n",
    "xs = [x[1] for x in S]\n",
    "ys = [y[2] for y in S]\n",
    "#print(len(xs))\n",
    "y = []\n",
    "for i in range(len(xs)):\n",
    "    y.append(-((wopt[0][0]+wopt[0][1]*xs[i])/wopt[0][2]))\n",
    "plt.plot(xs, y)\n",
    "\n",
    "plt.xlabel('x1')\n",
    "plt.ylabel('x2')"
   ]
  },
  {
   "cell_type": "code",
   "execution_count": 122,
   "metadata": {},
   "outputs": [],
   "source": [
    "# Epoch 0\n",
    "m = []\n",
    "e = []\n",
    "w = t\n",
    "wT = np.transpose(w)\n",
    "count = 0\n",
    "for i in range(len(S1)):\n",
    "    if np.matmul(S1[i], wT) < 0:\n",
    "        count += 1\n",
    "    i += 1    \n",
    "for i in range(len(S2)):\n",
    "    if np.matmul(S2[i], wT) >= 0:\n",
    "        count += 1\n",
    "    i += 1\n",
    "\n"
   ]
  },
  {
   "cell_type": "code",
   "execution_count": 123,
   "metadata": {},
   "outputs": [
    {
     "name": "stdout",
     "output_type": "stream",
     "text": [
      "[[-389.3830122   -28.30610975 -239.02080914]]\n"
     ]
    }
   ],
   "source": [
    "# Learing Rate\n",
    "n = 1\n",
    "\n",
    "# Epoch 1\n",
    "count = 0\n",
    "epoch = 0\n",
    "for i in range(len(S1)):\n",
    "    if np.matmul(S1[i], wT) < 0:\n",
    "        count += 1\n",
    "        w =  w + n*S1[i]\n",
    "        \n",
    "    i += 1\n",
    "for i in range(len(S2)):\n",
    "    if np.matmul(S2[i], wT) >= 0:\n",
    "        count += 1\n",
    "        w =  w - n*S2[i]\n",
    "    i += 1\n",
    "wT= np.transpose(w)\n",
    "e.append(epoch)\n",
    "m.append(count)\n",
    "print(w)"
   ]
  },
  {
   "cell_type": "code",
   "execution_count": 124,
   "metadata": {},
   "outputs": [
    {
     "name": "stdout",
     "output_type": "stream",
     "text": [
      "[[ 112.6169878   -42.34839356 -516.33077563]]\n"
     ]
    }
   ],
   "source": [
    "while count != 0:\n",
    "    epoch += 1 \n",
    "    count = 0\n",
    "    for i in range(len(S1)):\n",
    "        if np.matmul(S1[i], wT) < 0:\n",
    "            w =  w + n*S1[i]\n",
    "            count += 1\n",
    "        i += 1\n",
    "    for i in range(len(S2)):\n",
    "        if np.matmul(S2[i], wT) >= 0:\n",
    "            w =  w - n*S2[i]\n",
    "            count += 1\n",
    "        i += 1\n",
    "    m.append(count)\n",
    "    e.append(epoch)\n",
    "    wT = np.transpose(w)\n",
    "print(w)"
   ]
  },
  {
   "cell_type": "code",
   "execution_count": 125,
   "metadata": {},
   "outputs": [
    {
     "name": "stdout",
     "output_type": "stream",
     "text": [
      "0\n"
     ]
    },
    {
     "data": {
      "text/plain": [
       "0"
      ]
     },
     "execution_count": 125,
     "metadata": {},
     "output_type": "execute_result"
    }
   ],
   "source": [
    "# Testing\n",
    "count = 0\n",
    "for i in range(len(S1)):\n",
    "    if np.matmul(S1[i], wT) < 0:\n",
    "        count += 1\n",
    "    i += 1\n",
    "print(count)    \n",
    "for i in range(len(S2)):\n",
    "    if np.matmul(S2[i], wT) >= 0:\n",
    "        count += 1\n",
    "    i += 1\n",
    "\n",
    "count "
   ]
  },
  {
   "cell_type": "code",
   "execution_count": 126,
   "metadata": {},
   "outputs": [
    {
     "name": "stdout",
     "output_type": "stream",
     "text": [
      "[0, 1, 2, 3, 4, 5]\n",
      "[390, 610, 119, 12, 1, 0]\n"
     ]
    },
    {
     "data": {
      "text/plain": [
       "<matplotlib.collections.PathCollection at 0x1eb9849b390>"
      ]
     },
     "execution_count": 126,
     "metadata": {},
     "output_type": "execute_result"
    },
    {
     "data": {
      "image/png": "[encoded data removed]",
      "text/plain": [
       "<Figure size 432x288 with 1 Axes>"
      ]
     },
     "metadata": {
      "needs_background": "light"
     },
     "output_type": "display_data"
    }
   ],
   "source": [
    "print(e)\n",
    "print(m)\n",
    "plt.scatter(e,m)"
   ]
  },
  {
   "cell_type": "code",
   "execution_count": 127,
   "metadata": {},
   "outputs": [],
   "source": [
    "# Learning Rate 10\n",
    "n = 10\n",
    "w = t\n",
    "wT = np.transpose(w)\n",
    "e= []\n",
    "m =[]\n",
    "# Epoch 1\n",
    "count = 0\n",
    "epoch = 0\n",
    "for i in range(len(S1)):\n",
    "    if np.matmul(S1[i], wT) < 0:\n",
    "        count += 1\n",
    "        w =  w + n*S1[i]\n",
    "        \n",
    "    i += 1\n",
    "for i in range(len(S2)):\n",
    "    if np.matmul(S2[i], wT) >= 0:\n",
    "        count += 1\n",
    "        w =  w - n*S2[i]\n",
    "    i += 1\n",
    "wT= np.transpose(w)\n",
    "e.append(epoch)\n",
    "m.append(count)\n"
   ]
  },
  {
   "cell_type": "code",
   "execution_count": 128,
   "metadata": {},
   "outputs": [
    {
     "name": "stdout",
     "output_type": "stream",
     "text": [
      "[[ 1130.6169878   -417.22963426 -5158.11081252]]\n"
     ]
    }
   ],
   "source": [
    "while count != 0:\n",
    "    epoch += 1 \n",
    "    count = 0\n",
    "    for i in range(len(S1)):\n",
    "        if np.matmul(S1[i], wT) < 0:\n",
    "            w =  w + n*S1[i]\n",
    "            count += 1\n",
    "        i += 1\n",
    "    for i in range(len(S2)):\n",
    "        if np.matmul(S2[i], wT) >= 0:\n",
    "            w =  w - n*S2[i]\n",
    "            count += 1\n",
    "        i += 1\n",
    "    m.append(count)\n",
    "    e.append(epoch)\n",
    "    wT = np.transpose(w)\n",
    "print(w)"
   ]
  },
  {
   "cell_type": "code",
   "execution_count": 129,
   "metadata": {},
   "outputs": [
    {
     "name": "stdout",
     "output_type": "stream",
     "text": [
      "0\n"
     ]
    },
    {
     "data": {
      "text/plain": [
       "0"
      ]
     },
     "execution_count": 129,
     "metadata": {},
     "output_type": "execute_result"
    }
   ],
   "source": [
    "# Testing\n",
    "count = 0\n",
    "for i in range(len(S1)):\n",
    "    if np.matmul(S1[i], wT) < 0:\n",
    "        count += 1\n",
    "    i += 1\n",
    "print(count)    \n",
    "for i in range(len(S2)):\n",
    "    if np.matmul(S2[i], wT) >= 0:\n",
    "        count += 1\n",
    "    i += 1\n",
    "\n",
    "count "
   ]
  },
  {
   "cell_type": "code",
   "execution_count": 130,
   "metadata": {},
   "outputs": [
    {
     "name": "stdout",
     "output_type": "stream",
     "text": [
      "[0, 1, 2, 3, 4, 5]\n",
      "[390, 610, 118, 12, 1, 0]\n"
     ]
    },
    {
     "data": {
      "text/plain": [
       "<matplotlib.collections.PathCollection at 0x1eb994c5b00>"
      ]
     },
     "execution_count": 130,
     "metadata": {},
     "output_type": "execute_result"
    },
    {
     "data": {
      "image/png": "[encoded data removed]",
      "text/plain": [
       "<Figure size 432x288 with 1 Axes>"
      ]
     },
     "metadata": {
      "needs_background": "light"
     },
     "output_type": "display_data"
    }
   ],
   "source": [
    "print(e)\n",
    "print(m)\n",
    "plt.scatter(e,m)"
   ]
  },
  {
   "cell_type": "code",
   "execution_count": 131,
   "metadata": {},
   "outputs": [],
   "source": [
    "# Learning Rate 10\n",
    "n = 0.1\n",
    "w = t\n",
    "wT = np.transpose(w)\n",
    "e= []\n",
    "m =[]\n",
    "# Epoch 1\n",
    "count = 0\n",
    "epoch = 0\n",
    "for i in range(len(S1)):\n",
    "    if np.matmul(S1[i], wT) < 0:\n",
    "        count += 1\n",
    "        w =  w + n*S1[i]\n",
    "        \n",
    "    i += 1\n",
    "for i in range(len(S2)):\n",
    "    if np.matmul(S2[i], wT) >= 0:\n",
    "        count += 1\n",
    "        w =  w - n*S2[i]\n",
    "    i += 1\n",
    "wT= np.transpose(w)\n",
    "e.append(epoch)\n",
    "m.append(count)\n"
   ]
  },
  {
   "cell_type": "code",
   "execution_count": 132,
   "metadata": {},
   "outputs": [
    {
     "name": "stdout",
     "output_type": "stream",
     "text": [
      "[[ 11.4169878   -4.15839056 -52.17763905]]\n"
     ]
    }
   ],
   "source": [
    "while count != 0:\n",
    "    epoch += 1 \n",
    "    count = 0\n",
    "    for i in range(len(S1)):\n",
    "        if np.matmul(S1[i], wT) < 0:\n",
    "            w =  w + n*S1[i]\n",
    "            count += 1\n",
    "        i += 1\n",
    "    for i in range(len(S2)):\n",
    "        if np.matmul(S2[i], wT) >= 0:\n",
    "            w =  w - n*S2[i]\n",
    "            count += 1\n",
    "        i += 1\n",
    "    m.append(count)\n",
    "    e.append(epoch)\n",
    "    wT = np.transpose(w)\n",
    "print(w)"
   ]
  },
  {
   "cell_type": "code",
   "execution_count": 133,
   "metadata": {},
   "outputs": [
    {
     "name": "stdout",
     "output_type": "stream",
     "text": [
      "0\n"
     ]
    },
    {
     "data": {
      "text/plain": [
       "0"
      ]
     },
     "execution_count": 133,
     "metadata": {},
     "output_type": "execute_result"
    }
   ],
   "source": [
    "# Testing\n",
    "count = 0\n",
    "for i in range(len(S1)):\n",
    "    if np.matmul(S1[i], wT) < 0:\n",
    "        count += 1\n",
    "    i += 1\n",
    "print(count)    \n",
    "for i in range(len(S2)):\n",
    "    if np.matmul(S2[i], wT) >= 0:\n",
    "        count += 1\n",
    "    i += 1\n",
    "\n",
    "count "
   ]
  },
  {
   "cell_type": "code",
   "execution_count": 134,
   "metadata": {},
   "outputs": [
    {
     "name": "stdout",
     "output_type": "stream",
     "text": [
      "[0, 1, 2, 3, 4, 5, 6, 7]\n",
      "[390, 610, 131, 25, 4, 1, 1, 0]\n"
     ]
    },
    {
     "data": {
      "text/plain": [
       "<matplotlib.collections.PathCollection at 0x1eb9952a4a8>"
      ]
     },
     "execution_count": 134,
     "metadata": {},
     "output_type": "execute_result"
    },
    {
     "data": {
      "image/png": "[encoded data removed]",
      "text/plain": [
       "<Figure size 432x288 with 1 Axes>"
      ]
     },
     "metadata": {
      "needs_background": "light"
     },
     "output_type": "display_data"
    }
   ],
   "source": [
    "print(e)\n",
    "print(m)\n",
    "plt.scatter(e,m)"
   ]
  },
  {
   "cell_type": "code",
   "execution_count": null,
   "metadata": {},
   "outputs": [],
   "source": []
  },
  {
   "cell_type": "code",
   "execution_count": null,
   "metadata": {},
   "outputs": [],
   "source": []
  }
 ],
 "metadata": {
  "kernelspec": {
   "display_name": "Python 3",
   "language": "python",
   "name": "python3"
  },
  "language_info": {
   "codemirror_mode": {
    "name": "ipython",
    "version": 3
   },
   "file_extension": ".py",
   "mimetype": "text/x-python",
   "name": "python",
   "nbconvert_exporter": "python",
   "pygments_lexer": "ipython3",
   "version": "3.7.3"
  }
 },
 "nbformat": 4,
 "nbformat_minor": 4
}
