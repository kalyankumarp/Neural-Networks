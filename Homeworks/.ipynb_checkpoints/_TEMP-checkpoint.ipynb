{
 "cells": [
  {
   "cell_type": "code",
   "execution_count": 1,
   "metadata": {},
   "outputs": [],
   "source": [
    "import numpy as np\n",
    "import matplotlib.pyplot as plt\n",
    "import pandas as pd\n",
    "from numpy import random\n",
    "import time\n",
    "from sklearn import *"
   ]
  },
  {
   "cell_type": "code",
   "execution_count": 2,
   "metadata": {},
   "outputs": [
    {
     "data": {
      "text/plain": [
       "(60000, 784)"
      ]
     },
     "execution_count": 2,
     "metadata": {},
     "output_type": "execute_result"
    }
   ],
   "source": [
    "from mnist import MNIST\n",
    "\n",
    "mndata = MNIST(r\"C:\\Users\\kalya\\OneDrive - University of Illinois at Chicago\\!UIC\\!Semesters\\2nd Sem\\Courses\\CS 559 NN\\Homeworks\\HW2\\Q2\\data\\t\")\n",
    "\n",
    "xtrain, ytrain = mndata.load_training()\n",
    "xtest, ytest = mndata.load_testing()\n",
    "xtrain = np.reshape(xtrain,(60000,784))\n",
    "xtest = np.reshape(xtest,(10000,784))\n",
    "ytrain = np.reshape(ytrain,(60000,1))\n",
    "ytest = np.reshape(ytest,(10000,1))\n",
    "xtrain = (xtrain)/255\n",
    "xtest = (xtest)/255\n",
    "xtrain.shape\n",
    "\n",
    "\n"
   ]
  },
  {
   "cell_type": "code",
   "execution_count": 3,
   "metadata": {},
   "outputs": [],
   "source": [
    "x_train = []\n",
    "x_test = []\n",
    "for i in range(len(xtrain)):\n",
    "    x_train.append(np.append(xtrain[i],1))\n",
    "\n",
    "for i in range(len(xtest)):\n",
    "    x_test.append(np.append(xtest[i],1))\n",
    "x_train = np.asarray(x_train)\n",
    "x_test = np.asarray(x_test)\n",
    "\n"
   ]
  },
  {
   "cell_type": "code",
   "execution_count": 4,
   "metadata": {},
   "outputs": [],
   "source": [
    "# x_test1 = pd.DataFrame(data = x_test.reshape(len(x_test),785))\n",
    "# ytest1 = pd.DataFrame(data = ytest.reshape(len(ytest),1))"
   ]
  },
  {
   "cell_type": "code",
   "execution_count": 5,
   "metadata": {},
   "outputs": [],
   "source": [
    "# x_test1.head()"
   ]
  },
  {
   "cell_type": "code",
   "execution_count": 6,
   "metadata": {},
   "outputs": [],
   "source": [
    "# x=[1,1]\n",
    "# np.linalg.norm(x)"
   ]
  },
  {
   "cell_type": "code",
   "execution_count": 7,
   "metadata": {},
   "outputs": [
    {
     "data": {
      "text/plain": [
       "array([[5],\n",
       "       [0],\n",
       "       [4],\n",
       "       ...,\n",
       "       [5],\n",
       "       [6],\n",
       "       [8]], dtype=uint8)"
      ]
     },
     "execution_count": 7,
     "metadata": {},
     "output_type": "execute_result"
    }
   ],
   "source": [
    "ytrain"
   ]
  },
  {
   "cell_type": "code",
   "execution_count": 8,
   "metadata": {},
   "outputs": [
    {
     "data": {
      "text/plain": [
       "array([0., 0., 0., 0., 0., 1., 0., 0., 0., 0.])"
      ]
     },
     "execution_count": 8,
     "metadata": {},
     "output_type": "execute_result"
    }
   ],
   "source": [
    "# x =[[0,1, 1],[1,0, 0],[1,1, 0], [0,0, 0]]\n",
    "# y=[4,1,2,3]\n",
    "# x = np.asarray(x)\n",
    "# y = np.asarray(y)\n",
    "\n",
    "d = np.zeros(shape = (len(xtrain),10))\n",
    "\n",
    "for i in range(len(ytrain)):\n",
    "    d[i][ytrain[i]] = 1\n",
    "\n",
    "dt = np.zeros(shape = (len(xtest),10))\n",
    "for i in range(len(ytest)):\n",
    "    dt[i][ytest[i]] = 1\n",
    "\n",
    "# d = np.zeros(shape = (len(x),10))\n",
    "# for i in range(len(y)):\n",
    "#     d[i][y[i]] = 1\n",
    "# xtrain = x\n",
    "# xtrain\n",
    "d[0]"
   ]
  },
  {
   "cell_type": "code",
   "execution_count": 9,
   "metadata": {},
   "outputs": [],
   "source": [
    "# # # d = np.zeros(shape = (len(xtrain),10))\n",
    "# # # for i in range(len(ytrain)):\n",
    "# # #     d[i][ytrain[i]] = 1\n",
    "\n",
    "# # # dt = np.zeros(shape = (len(xtest),10))\n",
    "# # # for i in range(len(ytest)):\n",
    "# # #     dt[i][ytest[i]] = 1\n",
    "\n",
    "# # #w = random.normal(size = (10,784))\n",
    "\n",
    "# d = np.zeros(shape = (len(xtrain)))\n",
    "# for i in range(len(ytrain)):\n",
    "#     d[i] = ytrain[i][0]\n",
    "\n",
    "# dt = np.zeros(shape = (len(xtest)))\n",
    "# for i in range(len(ytest)):\n",
    "#     dt[i] = ytest[i][0]"
   ]
  },
  {
   "cell_type": "code",
   "execution_count": 10,
   "metadata": {},
   "outputs": [
    {
     "data": {
      "text/plain": [
       "array([[0., 0., 0., ..., 0., 0., 0.],\n",
       "       [1., 0., 0., ..., 0., 0., 0.],\n",
       "       [0., 0., 0., ..., 0., 0., 0.],\n",
       "       ...,\n",
       "       [0., 0., 0., ..., 0., 0., 0.],\n",
       "       [0., 0., 0., ..., 0., 0., 0.],\n",
       "       [0., 0., 0., ..., 0., 1., 0.]])"
      ]
     },
     "execution_count": 10,
     "metadata": {},
     "output_type": "execute_result"
    }
   ],
   "source": [
    "d"
   ]
  },
  {
   "cell_type": "code",
   "execution_count": 11,
   "metadata": {},
   "outputs": [
    {
     "data": {
      "text/plain": [
       "array([[2., 2.],\n",
       "       [3., 3.]])"
      ]
     },
     "execution_count": 11,
     "metadata": {},
     "output_type": "execute_result"
    }
   ],
   "source": [
    "a = [[1.5, 2.5], [2.6, 3.3]]\n",
    "np.around(a)"
   ]
  },
  {
   "cell_type": "code",
   "execution_count": 12,
   "metadata": {},
   "outputs": [],
   "source": [
    "# weights = np.random.uniform(low =-2, high = 2, size = (784, 60000))\n",
    "# np.matmul(weights, x_train)"
   ]
  },
  {
   "cell_type": "code",
   "execution_count": 13,
   "metadata": {},
   "outputs": [
    {
     "data": {
      "text/plain": [
       "array([[0., 0., 0., ..., 0., 0., 0.],\n",
       "       [1., 0., 0., ..., 0., 0., 0.],\n",
       "       [0., 0., 0., ..., 0., 0., 0.],\n",
       "       ...,\n",
       "       [0., 0., 0., ..., 0., 0., 0.],\n",
       "       [0., 0., 0., ..., 0., 0., 0.],\n",
       "       [0., 0., 0., ..., 0., 1., 0.]])"
      ]
     },
     "execution_count": 13,
     "metadata": {},
     "output_type": "execute_result"
    }
   ],
   "source": [
    "d"
   ]
  },
  {
   "cell_type": "code",
   "execution_count": 14,
   "metadata": {},
   "outputs": [],
   "source": [
    "# t = np.asarray([1,2,3])*(np.asarray([4,5,6]))\n",
    "# t"
   ]
  },
  {
   "cell_type": "code",
   "execution_count": 15,
   "metadata": {},
   "outputs": [
    {
     "name": "stdout",
     "output_type": "stream",
     "text": [
      "[[1 2 3]]\n"
     ]
    },
    {
     "data": {
      "text/plain": [
       "array([[1, 2, 3],\n",
       "       [4, 5, 6],\n",
       "       [7, 8, 9]])"
      ]
     },
     "execution_count": 15,
     "metadata": {},
     "output_type": "execute_result"
    }
   ],
   "source": [
    "a=np.asarray([[1,2,3], [4,5,6]])\n",
    "print(a[:-1])\n",
    "c = np.asarray([[7,8,9]])\n",
    "b =np.append(a,c, axis=0)\n",
    "b"
   ]
  },
  {
   "cell_type": "code",
   "execution_count": 29,
   "metadata": {},
   "outputs": [],
   "source": [
    "class Neural_Network():\n",
    "    \n",
    "    def __init__(self, x=[[]], y=[], p=[[]], q=[], nHiddenLayers = 0, nHiddenNodes =0, numOutputs = 0, eta = 1, iter = 0, prec = 0):\n",
    "        self.data = x\n",
    "        self.labels = y\n",
    "        self.test = p\n",
    "        self.testlabels = q\n",
    "        self.nInputNodes = x.shape[1]\n",
    "        self.nHiddenLayers = nHiddenLayers\n",
    "        self.nHiddenNodes = nHiddenNodes\n",
    "        self.numOutputs = numOutputs\n",
    "        self.eta = eta\n",
    "        self.maxIt = iter\n",
    "        self.prec = prec\n",
    "        self.weights=[np.random.uniform(low = -1, high = 1, size = (self.nHiddenNodes, self.nInputNodes))]\n",
    "        for i in range(self.nHiddenLayers-1):\n",
    "            self.weights.append(np.random.uniform(low =-1, high = 1, size =(self.nHiddenNodes, self.nHiddenNodes+1))) \n",
    "        self.weights.append(np.random.uniform(low =-1, high = 1, size = (self.numOutputs, self.nHiddenNodes+1)))\n",
    "\n",
    "    # Tanh activation function for all layers except the output layer\n",
    "    def tanh(self, s):      \n",
    "        return np.tanh(s)\n",
    "\n",
    "    # Derivative of tanh for all layers\n",
    "    def tanhPrime(self, s):\n",
    "        return (1 - s**2)\n",
    "\n",
    "    # Activation function for all the input data\n",
    "    def af_predict(self,t): \n",
    "#         t = np.tanh(t)\n",
    "        p =[]\n",
    "        for i in range(len(t)):\n",
    "            max = np.argmax(t[i])\n",
    "            y = np.zeros(len(t[i]))\n",
    "            y[max] = 1\n",
    "            p.append(y)\n",
    "        return np.asarray(p)\n",
    "    \n",
    "    # Activation function for the output layer of the feedforward graph\n",
    "    def af(self,t):\n",
    "#         t = np.tanh(t)\n",
    "        max = np.argmax(t[0])\n",
    "        y = np.zeros(self.numOutputs)\n",
    "        y[max] = 1\n",
    "#         temp = np.asarray(y).reshape(1,self.numOutputs)\n",
    "        return np.asarray(y)   \n",
    "\n",
    "#     # Derivative of sigmoid for the output layer\n",
    "#     def sigmoidPrime(self, s):\n",
    "#         return s * (1 - s)\n",
    "    \n",
    "#     def decision_A(self,x):\n",
    "#         out =[]\n",
    "# #         print(x.shape)\n",
    "# #         print(f)\n",
    "#         for i in range(x.shape[0]):\n",
    "#             s =np.zeros(x.shape[1])            \n",
    "#             max = np.argmax(x[i])\n",
    "#             #print(max)\n",
    "#             s[max] = 1\n",
    "#             out.append(s)\n",
    "#         out = np.asarray(out)\n",
    "#         print(out.shape)\n",
    "#         print(f)\n",
    "#         return out\n",
    "\n",
    "    def misclassifications(self, x,y):\n",
    "        count = 0\n",
    "        for i in range(y.shape[0]): \n",
    "            if np.any(x[i]-y[i]):\n",
    "                count += 1                \n",
    "        return count\n",
    "    \n",
    "    def predict(self, data=[]):\n",
    "        prev = data.T\n",
    "             \n",
    "        for i in range(len(self.weights)-1):\n",
    "            temp = (np.matmul(self.weights[i], prev))\n",
    "            temp2 = self.tanh(temp)\n",
    "            y=[np.ones(temp2.shape[1])]\n",
    "            prev = np.append(y, temp2, axis = 0)\n",
    "#             print(prev.shape)\n",
    "#             print(f)\n",
    "        temp_f = np.matmul(self.weights[self.nHiddenLayers], prev)\n",
    "        temp4 = self.af_predict(np.transpose(temp_f))\n",
    "        return temp4\n",
    "    \n",
    "    def feedforward(self, x):\n",
    "#         print(x)\n",
    "        self.r = []\n",
    "        self.r.append(x)\n",
    "#         print(self.r)\n",
    "#         print(f)\n",
    "        prev = x.T        \n",
    "        for i in range(len(self.weights)-1):\n",
    "#             print(self.weights[i])\n",
    "#             print(prev)\n",
    "            temp = np.matmul(self.weights[i], prev)\n",
    "#             print(temp)\n",
    "            temp2 = self.tanh(temp)\n",
    "            prev = np.append([[1]], temp2).reshape(temp2.shape[0]+1,1)\n",
    "#             print(prev.shape)\n",
    "#             print(f)\n",
    "            self.r.append(prev)\n",
    "#             print(self.r)\n",
    "#             print('\\n')\n",
    "            \n",
    "#         print(self.weights[self.nHiddenLayers])\n",
    "#         print(prev)\n",
    "        temp_f = np.matmul(self.weights[self.nHiddenLayers], prev)\n",
    "        temp4 =self.af(temp_f.T)\n",
    "        return temp4\n",
    "\n",
    "    def backward(self, x, y):\n",
    "        self.gradient=[]\n",
    "#         print(x)\n",
    "#         print(y)\n",
    "#         print(f)\n",
    "        o = self.feedforward(x)\n",
    "#         print(o)\n",
    "        self.out_error = y - o\n",
    "#         print(self.out_error)\n",
    "#         print(f)\n",
    "\n",
    "        for i in reversed(range(len(self.weights))):\n",
    "            if i == 0 and i != len(self.weights)-1:\n",
    "                temp2 = temp.T.dot(self.weights[i+1]).T\n",
    "#                 print(self.sigmoidPrime(self.r[i+1]))\n",
    "                temp3 = temp2*self.tanhPrime(self.r[i+1])\n",
    "                temp4 = (temp3.dot(self.r[i]))*2/len(self.data)\n",
    "#                 print('w')\n",
    "#                 print(self.weights[i])\n",
    "#                 print((self.eta*temp4*2)/len(self.data))\n",
    "                self.gradient.append(self.eta*temp4[1:])\n",
    "                    \n",
    "            elif i > 0 and i<len(self.weights)-1:\n",
    "                temp2 = temp.T.dot(self.weights[i+1]).T\n",
    "                \n",
    "#                 print(self.sigmoidPrime(self.r[i+1]))\n",
    "                temp3 = temp2*self.tanhPrime(self.r[i+1])\n",
    "#                 print(temp3.shape)\n",
    "                temp4 = (temp3.dot(self.r[i].T))*2/len(self.data)\n",
    "#                 print('w')\n",
    "#                 print(self.weights[i])\n",
    "#                 print((self.eta*temp4*2)/len(self.data))\n",
    "                self.gradient.append(self.eta*temp4[1:])\n",
    "                temp = temp3[1:]\n",
    "                    \n",
    "            elif i == len(self.weights)-1:\n",
    "#                 print(self.weights)\n",
    "#                 print(self.out_error)\n",
    "#                 print(o)\n",
    "#                 print(self.af_derivative(o).T)\n",
    "                temp = self.out_error.reshape(self.numOutputs,1)\n",
    "#                 temp = (self.out_error*self.tanhPrime(o)).reshape(self.numOutputs,1)\n",
    "#                 print(temp.shape)\n",
    "#                 print(f)\n",
    "#                 print(self.weights[i])\n",
    "                temp2 = self.r[i].dot(temp.T)*2/len(self.data)\n",
    "                self.gradient.append(self.eta*temp2.T)\n",
    "#                 print(self.weights[i])\n",
    "#                 print('\\n')\n",
    "\n",
    "        self.gradient = self.gradient[::-1]\n",
    "    \n",
    "        for i in range(len(self.weights)):\n",
    "            self.weights[i] += self.gradient[i]\n",
    "#         print(self.weights)\n",
    "#         print(f)\n",
    "\n",
    "    def train (self):        \n",
    "        #print(self.eta)\n",
    "#         print(self.weights[0].shape)\n",
    "#         print(f)\n",
    "        e = 0\n",
    "        obj_training =[]\n",
    "        obj_testing = []\n",
    "        epoch = []\n",
    "        mis_training = []\n",
    "        mis_testing =[]\n",
    "        epoch.append(e)\n",
    "        pred_train = self.predict(self.data)\n",
    "        pred_test = self.predict(self.test)\n",
    "        obj_training.append(((np.linalg.norm(self.labels - pred_train))**2)/len(self.data))\n",
    "        obj_testing.append(((np.linalg.norm(self.testlabels - pred_test))**2)/len(self.test))\n",
    "        mis_training.append(self.misclassifications(self.labels, pred_train))\n",
    "        mis_testing.append(self.misclassifications(self.testlabels, pred_test))\n",
    "        mse = 100000000000\n",
    "#         while e <= self.maxIt and mse >= self.prec:\n",
    "        while e <= self.maxIt:\n",
    "            prev = mse\n",
    "#             print(prev)\n",
    "#             print(f)\n",
    "            e += 1\n",
    "            for i in range(len(self.data)):\n",
    "                self.backward(self.data[i].reshape(1,self.nInputNodes), self.labels[i])                \n",
    "#                 print(self.delta)\n",
    "#             print(self.weights)\n",
    "#             print(f)                \n",
    "#             print('after')\n",
    "#             print(self.weights)\n",
    "            pred_train = self.predict(self.data)\n",
    "            pred_test = self.predict(self.test)\n",
    "            mse = ((np.linalg.norm(self.labels - pred_train))**2)/len(self.data)\n",
    "            mse_test = ((np.linalg.norm(self.testlabels - pred_test))**2)/len(self.test)\n",
    "#             print(mse)\n",
    "#             print(f)            \n",
    "            obj_training.append(mse)\n",
    "            obj_testing.append(mse_test)\n",
    "            epoch.append(e)\n",
    "            mis_training.append(self.misclassifications(self.labels, pred_train))\n",
    "            mis_testing.append(self.misclassifications(self.testlabels, pred_test))\n",
    "            if mse >= prev:\n",
    "                self.eta = 0.7*self.eta\n",
    "            prev = mse\n",
    "        return self.weights, epoch, obj_training, mis_training, obj_testing, mis_testing"
   ]
  },
  {
   "cell_type": "markdown",
   "metadata": {},
   "source": [
    "# Hyperparameter Selection"
   ]
  },
  {
   "cell_type": "code",
   "execution_count": 32,
   "metadata": {},
   "outputs": [
    {
     "name": "stdout",
     "output_type": "stream",
     "text": [
      "[1, 150, 10]\n"
     ]
    },
    {
     "ename": "KeyboardInterrupt",
     "evalue": "",
     "output_type": "error",
     "traceback": [
      "\u001b[1;31m---------------------------------------------------------------------------\u001b[0m",
      "\u001b[1;31mKeyboardInterrupt\u001b[0m                         Traceback (most recent call last)",
      "\u001b[1;32m<ipython-input-32-3a6b388b0856>\u001b[0m in \u001b[0;36m<module>\u001b[1;34m\u001b[0m\n\u001b[0;32m     26\u001b[0m             \u001b[0mprint\u001b[0m\u001b[1;33m(\u001b[0m\u001b[1;33m[\u001b[0m\u001b[0mhid\u001b[0m\u001b[1;33m[\u001b[0m\u001b[0mi\u001b[0m\u001b[1;33m]\u001b[0m\u001b[1;33m,\u001b[0m\u001b[0mhidnodes\u001b[0m\u001b[1;33m[\u001b[0m\u001b[0mj\u001b[0m\u001b[1;33m]\u001b[0m\u001b[1;33m,\u001b[0m\u001b[0mlrate\u001b[0m\u001b[1;33m[\u001b[0m\u001b[0mk\u001b[0m\u001b[1;33m]\u001b[0m\u001b[1;33m]\u001b[0m\u001b[1;33m)\u001b[0m\u001b[1;33m\u001b[0m\u001b[1;33m\u001b[0m\u001b[0m\n\u001b[0;32m     27\u001b[0m             \u001b[0mNN\u001b[0m \u001b[1;33m=\u001b[0m \u001b[0mNeural_Network\u001b[0m\u001b[1;33m(\u001b[0m\u001b[0mx_train\u001b[0m\u001b[1;33m,\u001b[0m \u001b[0md\u001b[0m\u001b[1;33m,\u001b[0m \u001b[0mx_test\u001b[0m\u001b[1;33m,\u001b[0m \u001b[0mdt\u001b[0m\u001b[1;33m,\u001b[0m \u001b[0mhid\u001b[0m\u001b[1;33m[\u001b[0m\u001b[0mi\u001b[0m\u001b[1;33m]\u001b[0m\u001b[1;33m,\u001b[0m \u001b[0mhidnodes\u001b[0m\u001b[1;33m[\u001b[0m\u001b[0mj\u001b[0m\u001b[1;33m]\u001b[0m\u001b[1;33m,\u001b[0m \u001b[0mnumOutputs\u001b[0m\u001b[1;33m,\u001b[0m \u001b[0mlrate\u001b[0m\u001b[1;33m[\u001b[0m\u001b[0mk\u001b[0m\u001b[1;33m]\u001b[0m\u001b[1;33m,\u001b[0m \u001b[0miter\u001b[0m\u001b[1;33m,\u001b[0m \u001b[0mprec\u001b[0m\u001b[1;33m)\u001b[0m\u001b[1;33m\u001b[0m\u001b[1;33m\u001b[0m\u001b[0m\n\u001b[1;32m---> 28\u001b[1;33m             \u001b[0mw\u001b[0m\u001b[1;33m,\u001b[0m \u001b[0mepoch\u001b[0m\u001b[1;33m,\u001b[0m \u001b[0mobj_training\u001b[0m\u001b[1;33m,\u001b[0m \u001b[0mmis_training\u001b[0m\u001b[1;33m,\u001b[0m \u001b[0mobj_testing\u001b[0m\u001b[1;33m,\u001b[0m \u001b[0mmis_testing\u001b[0m \u001b[1;33m=\u001b[0m \u001b[0mNN\u001b[0m\u001b[1;33m.\u001b[0m\u001b[0mtrain\u001b[0m\u001b[1;33m(\u001b[0m\u001b[1;33m)\u001b[0m\u001b[1;33m\u001b[0m\u001b[1;33m\u001b[0m\u001b[0m\n\u001b[0m\u001b[0;32m     29\u001b[0m             \u001b[0mweights\u001b[0m\u001b[1;33m.\u001b[0m\u001b[0mappend\u001b[0m\u001b[1;33m(\u001b[0m\u001b[0mw\u001b[0m\u001b[1;33m)\u001b[0m\u001b[1;33m\u001b[0m\u001b[1;33m\u001b[0m\u001b[0m\n\u001b[0;32m     30\u001b[0m             \u001b[0ma\u001b[0m\u001b[1;33m.\u001b[0m\u001b[0mappend\u001b[0m\u001b[1;33m(\u001b[0m\u001b[0mobj_training\u001b[0m\u001b[1;33m)\u001b[0m\u001b[1;33m\u001b[0m\u001b[1;33m\u001b[0m\u001b[0m\n",
      "\u001b[1;32m<ipython-input-29-1ecccf3ccaf7>\u001b[0m in \u001b[0;36mtrain\u001b[1;34m(self)\u001b[0m\n\u001b[0;32m    194\u001b[0m             \u001b[0me\u001b[0m \u001b[1;33m+=\u001b[0m \u001b[1;36m1\u001b[0m\u001b[1;33m\u001b[0m\u001b[1;33m\u001b[0m\u001b[0m\n\u001b[0;32m    195\u001b[0m             \u001b[1;32mfor\u001b[0m \u001b[0mi\u001b[0m \u001b[1;32min\u001b[0m \u001b[0mrange\u001b[0m\u001b[1;33m(\u001b[0m\u001b[0mlen\u001b[0m\u001b[1;33m(\u001b[0m\u001b[0mself\u001b[0m\u001b[1;33m.\u001b[0m\u001b[0mdata\u001b[0m\u001b[1;33m)\u001b[0m\u001b[1;33m)\u001b[0m\u001b[1;33m:\u001b[0m\u001b[1;33m\u001b[0m\u001b[1;33m\u001b[0m\u001b[0m\n\u001b[1;32m--> 196\u001b[1;33m                 \u001b[0mself\u001b[0m\u001b[1;33m.\u001b[0m\u001b[0mbackward\u001b[0m\u001b[1;33m(\u001b[0m\u001b[0mself\u001b[0m\u001b[1;33m.\u001b[0m\u001b[0mdata\u001b[0m\u001b[1;33m[\u001b[0m\u001b[0mi\u001b[0m\u001b[1;33m]\u001b[0m\u001b[1;33m.\u001b[0m\u001b[0mreshape\u001b[0m\u001b[1;33m(\u001b[0m\u001b[1;36m1\u001b[0m\u001b[1;33m,\u001b[0m\u001b[0mself\u001b[0m\u001b[1;33m.\u001b[0m\u001b[0mnInputNodes\u001b[0m\u001b[1;33m)\u001b[0m\u001b[1;33m,\u001b[0m \u001b[0mself\u001b[0m\u001b[1;33m.\u001b[0m\u001b[0mlabels\u001b[0m\u001b[1;33m[\u001b[0m\u001b[0mi\u001b[0m\u001b[1;33m]\u001b[0m\u001b[1;33m)\u001b[0m\u001b[1;33m\u001b[0m\u001b[1;33m\u001b[0m\u001b[0m\n\u001b[0m\u001b[0;32m    197\u001b[0m \u001b[1;31m#                 print(self.delta)\u001b[0m\u001b[1;33m\u001b[0m\u001b[1;33m\u001b[0m\u001b[1;33m\u001b[0m\u001b[0m\n\u001b[0;32m    198\u001b[0m \u001b[1;31m#             print(self.weights)\u001b[0m\u001b[1;33m\u001b[0m\u001b[1;33m\u001b[0m\u001b[1;33m\u001b[0m\u001b[0m\n",
      "\u001b[1;32m<ipython-input-29-1ecccf3ccaf7>\u001b[0m in \u001b[0;36mbackward\u001b[1;34m(self, x, y)\u001b[0m\n\u001b[0;32m    157\u001b[0m \u001b[1;31m#                 print(f)\u001b[0m\u001b[1;33m\u001b[0m\u001b[1;33m\u001b[0m\u001b[1;33m\u001b[0m\u001b[0m\n\u001b[0;32m    158\u001b[0m \u001b[1;31m#                 print(self.weights[i])\u001b[0m\u001b[1;33m\u001b[0m\u001b[1;33m\u001b[0m\u001b[1;33m\u001b[0m\u001b[0m\n\u001b[1;32m--> 159\u001b[1;33m                 \u001b[0mtemp2\u001b[0m \u001b[1;33m=\u001b[0m \u001b[0mself\u001b[0m\u001b[1;33m.\u001b[0m\u001b[0mr\u001b[0m\u001b[1;33m[\u001b[0m\u001b[0mi\u001b[0m\u001b[1;33m]\u001b[0m\u001b[1;33m.\u001b[0m\u001b[0mdot\u001b[0m\u001b[1;33m(\u001b[0m\u001b[0mtemp\u001b[0m\u001b[1;33m.\u001b[0m\u001b[0mT\u001b[0m\u001b[1;33m)\u001b[0m\u001b[1;33m*\u001b[0m\u001b[1;36m2\u001b[0m\u001b[1;33m/\u001b[0m\u001b[0mlen\u001b[0m\u001b[1;33m(\u001b[0m\u001b[0mself\u001b[0m\u001b[1;33m.\u001b[0m\u001b[0mdata\u001b[0m\u001b[1;33m)\u001b[0m\u001b[1;33m\u001b[0m\u001b[1;33m\u001b[0m\u001b[0m\n\u001b[0m\u001b[0;32m    160\u001b[0m                 \u001b[0mself\u001b[0m\u001b[1;33m.\u001b[0m\u001b[0mgradient\u001b[0m\u001b[1;33m.\u001b[0m\u001b[0mappend\u001b[0m\u001b[1;33m(\u001b[0m\u001b[0mself\u001b[0m\u001b[1;33m.\u001b[0m\u001b[0meta\u001b[0m\u001b[1;33m*\u001b[0m\u001b[0mtemp2\u001b[0m\u001b[1;33m.\u001b[0m\u001b[0mT\u001b[0m\u001b[1;33m)\u001b[0m\u001b[1;33m\u001b[0m\u001b[1;33m\u001b[0m\u001b[0m\n\u001b[0;32m    161\u001b[0m \u001b[1;31m#                 print(self.weights[i])\u001b[0m\u001b[1;33m\u001b[0m\u001b[1;33m\u001b[0m\u001b[1;33m\u001b[0m\u001b[0m\n",
      "\u001b[1;31mKeyboardInterrupt\u001b[0m: "
     ]
    }
   ],
   "source": [
    "# nHiddenLayers = 1\n",
    "# nHiddenNodes =2\n",
    "# numOutputs = 10\n",
    "# eta = 1\n",
    "# iter = 100\n",
    "# prec = 1.6\n",
    "#print(xtrain.shape)\n",
    "\n",
    "hid = [1]\n",
    "hidnodes= [150]\n",
    "lrate = [10]\n",
    "a =[]\n",
    "b =[]\n",
    "c =[]\n",
    "q =[]\n",
    "\n",
    "weights =[]\n",
    "u =[]\n",
    "iter = 20\n",
    "numOutputs = 10\n",
    "prec = 0.2\n",
    "for i in range(len(hid)):\n",
    "    for j in range(len(hidnodes)):\n",
    "        for k in range(len(lrate)):\n",
    "            u.append([hid[i],hidnodes[j],lrate[k]])\n",
    "            print([hid[i],hidnodes[j],lrate[k]])            \n",
    "            NN = Neural_Network(x_train, d, x_test, dt, hid[i], hidnodes[j], numOutputs, lrate[k], iter, prec)\n",
    "            w, epoch, obj_training, mis_training, obj_testing, mis_testing = NN.train()\n",
    "            weights.append(w)\n",
    "            a.append(obj_training)\n",
    "            b.append(mis_training)\n",
    "            c.append(obj_testing)\n",
    "            q.append(mis_testing)"
   ]
  },
  {
   "cell_type": "code",
   "execution_count": null,
   "metadata": {},
   "outputs": [],
   "source": [
    "fig, ax = plt.subplots(2,4,figsize = (20,10))\n",
    "\n",
    "# for i in range(len(hid)):\n",
    "#     for j in range(len(hidnodes)):\n",
    "#         for k in range(len(lta)):\n",
    "k = 0\n",
    "for i in range(2):\n",
    "    for j in range(4):        \n",
    "        ax[i,j].scatter(epoch,a[k], s  = 7)        \n",
    "        ax[i,j].plot(epoch,a[k], label='Training')\n",
    "        ax[i,j].scatter(epoch,c[k], s  = 7, c ='r')\n",
    "        ax[i,j].plot(epoch, c[k], c='r',label='Testing')\n",
    "        ax[i,j].legend()\n",
    "        ax[i,j].title.set_text('Plot for the combination ' + str(u[k]))\n",
    "        k += 1        "
   ]
  },
  {
   "cell_type": "code",
   "execution_count": null,
   "metadata": {},
   "outputs": [],
   "source": [
    "fig, ax = plt.subplots(8,2,figsize = (20,30))\n",
    "k = 0\n",
    "i = 0\n",
    "p=0\n",
    "while i < 8:\n",
    "    ax[i,0].scatter(epoch,b[k], s  = 7)\n",
    "    ax[i,0].plot(epoch,b[k], label='Training')\n",
    "    ax[i,0].legend()\n",
    "    ax[i,0].title.set_text('Training Plot for the combination ' + str(u[k]))\n",
    "\n",
    "    ax[i,1].scatter(epoch,q[k], s  = 7, c ='r')\n",
    "    ax[i,1].plot(epoch, q[k], c='r',label='Testing')\n",
    "    ax[i,1].legend()\n",
    "    ax[i,1].title.set_text('Testing Plot for the combination ' + str(u[k]))\n",
    "    i += 1\n",
    "    k += 1"
   ]
  },
  {
   "cell_type": "code",
   "execution_count": null,
   "metadata": {},
   "outputs": [],
   "source": [
    "# Tanh activation function for all layers except the output layer\n",
    "def tanh(s):      \n",
    "    return np.tanh(s)\n",
    "\n",
    "# Derivative of tanh for all layers except the output layer\n",
    "def tanhPrime(s):\n",
    "    return (1 - s**2)\n",
    "\n",
    "# Activation function for all the input data\n",
    "def af_predict(s): \n",
    "    t = np.tanh(s)\n",
    "    p =[]\n",
    "    for i in range(len(t)):\n",
    "        max = np.argmax(t[i])\n",
    "        y = np.zeros(len(t[i]))\n",
    "        y[max] = 1\n",
    "        p.append(y)\n",
    "    return np.asarray(p)\n",
    "    \n",
    "# Activation function for the output layer of the feedforward graph\n",
    "def af(s):\n",
    "    t = np.tanh(s)\n",
    "    max = np.argmax(t[0])\n",
    "    y = np.zeros(numOutputs)\n",
    "    y[max] = 1\n",
    "#         temp = np.asarray(y).reshape(1,self.numOutputs)\n",
    "    return np.asarray(y)  \n",
    "\n",
    "def misclassifications(x,y):\n",
    "    count = 0\n",
    "    for i in range(y.shape[0]): \n",
    "        if np.any(x[i]-y[i]):\n",
    "            count += 1                \n",
    "    return count\n",
    "    \n",
    "def predict(data, weights):\n",
    "    prev = data.T\n",
    "\n",
    "    for i in range(len(weights)-1):\n",
    "        temp = (np.matmul(weights[i], prev))\n",
    "        temp2 = tanh(temp)\n",
    "        y=[np.ones(temp2.shape[1])]\n",
    "        prev = np.append(y, temp2, axis = 0)\n",
    "#             print(prev.shape)\n",
    "#             print(f)\n",
    "    temp_f = np.matmul(weights[nHiddenLayers], prev)\n",
    "    temp4 = af_predict(np.transpose(temp_f))\n",
    "    return temp4"
   ]
  },
  {
   "cell_type": "code",
   "execution_count": null,
   "metadata": {},
   "outputs": [],
   "source": [
    "nHiddenLayers = 1\n",
    "nHiddenNodes =128\n",
    "numOutputs = 10\n",
    "eta = 12\n",
    "iter =50\n",
    "\n",
    "\n",
    "NN = Neural_Network(x_train, d, x_test, dt, nHiddenLayers, nHiddenNodes, numOutputs, eta, iter, prec)\n",
    "w, epoch, obj_training, mis_training, obj_testing, mis_testing = NN.train()"
   ]
  },
  {
   "cell_type": "code",
   "execution_count": null,
   "metadata": {},
   "outputs": [],
   "source": [
    "\n",
    "y = predict(x_test, w)\n",
    "y\n",
    "misclassifications(dt, y)"
   ]
  },
  {
   "cell_type": "code",
   "execution_count": 280,
   "metadata": {},
   "outputs": [],
   "source": [
    "\n",
    "# fig, ax = plt.subplots(figsize = (20,5))\n",
    "# plt.scatter(epoch,mis_training, s  = 7)\n",
    "# plt.plot(epoch,mis_training, label = 'training')\n",
    "# plt.title('Legend inside')\n",
    "# plt.show()\n",
    "\n",
    "# fig, ax = plt.subplots(figsize = (20,5))\n",
    "# plt.scatter(epoch,mis_testing, s  = 7, c ='r')\n",
    "# plt.plot(epoch,mis_testing, c='r',label='Testing')\n",
    "# plt.title('Legend inside')\n",
    "# ax.legend()\n",
    "\n",
    "# plt.xlabel(\"Epoch\")\n",
    "# plt.ylabel(\"MISC\")\n",
    "# plt.title('Plot: the number of epochs vs the misclassifications')\n",
    "# plt.show()"
   ]
  },
  {
   "cell_type": "code",
   "execution_count": null,
   "metadata": {},
   "outputs": [],
   "source": [
    "\n",
    "# fig, ax = plt.subplots(4,2,figsize = (20,5))\n",
    "\n",
    "# # for i in range(len(hid)):\n",
    "# #     for j in range(len(hidnodes)):\n",
    "# #         for k in range(len(lta)):\n",
    "            \n",
    "# plt.scatter(epoch,obj_training, s  = 7)\n",
    "# plt.scatter(epoch,obj_testing, s  = 7, c ='r')\n",
    "\n",
    "# ax[0,0].plot(epoch,obj_training, label='Training')\n",
    "# ax[0,0].plot(epoch,obj_testing, c='r',label='Testing')\n",
    "# plt.title('Legend inside')\n",
    "# ax.legend()\n",
    "\n",
    "\n",
    "# plt.xlabel(\"Epoch\")\n",
    "# plt.ylabel(\"MSE\")\n",
    "# plt.title('Plot: the number of epochs vs the MSE')\n",
    "# plt.show()"
   ]
  }
 ],
 "metadata": {
  "kernelspec": {
   "display_name": "Python 3",
   "language": "python",
   "name": "python3"
  },
  "language_info": {
   "codemirror_mode": {
    "name": "ipython",
    "version": 3
   },
   "file_extension": ".py",
   "mimetype": "text/x-python",
   "name": "python",
   "nbconvert_exporter": "python",
   "pygments_lexer": "ipython3",
   "version": "3.7.3"
  }
 },
 "nbformat": 4,
 "nbformat_minor": 4
}
