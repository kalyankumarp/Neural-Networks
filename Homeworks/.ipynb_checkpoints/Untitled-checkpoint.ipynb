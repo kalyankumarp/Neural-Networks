{
 "cells": [
  {
   "cell_type": "code",
   "execution_count": 1,
   "metadata": {},
   "outputs": [],
   "source": [
    "from random import *\n",
    "import numpy as np\n",
    "import matplotlib.pyplot as plt\n",
    "import seaborn as sns"
   ]
  },
  {
   "cell_type": "code",
   "execution_count": 2,
   "metadata": {},
   "outputs": [],
   "source": [
    "b = []\n",
    "w0 = uniform(-0.25, 0.25)\n",
    "w1 = uniform(-1, 1)\n",
    "w2 = uniform(-1, 1)\n",
    "b. append([w0,w1,w2])\n",
    "wopt = np.asarray(b)\n"
   ]
  },
  {
   "cell_type": "code",
   "execution_count": 4,
   "metadata": {},
   "outputs": [],
   "source": [
    "a = []\n",
    "for i in range(0,100):\n",
    "    x1 = uniform(-1, 1)\n",
    "    x2 = uniform(-1, 1)\n",
    "    a.append([1, x1, x2])\n",
    "    i += 1\n",
    "S = np.asarray(a)\n",
    "#print(S)"
   ]
  },
  {
   "cell_type": "code",
   "execution_count": 5,
   "metadata": {},
   "outputs": [],
   "source": [
    "wTopt = np.transpose(wopt)"
   ]
  },
  {
   "cell_type": "code",
   "execution_count": 6,
   "metadata": {},
   "outputs": [],
   "source": [
    "S1 = []\n",
    "S2 = []\n",
    "for i in range(0,100):\n",
    "    if np.matmul(S[i], wTopt) >= 0:\n",
    "        S1.append(S[i])\n",
    "    else:\n",
    "        S2.append(S[i])\n",
    "        \n",
    "print(len(S1))\n",
    "print(len(S2))"
   ]
  },
  {
   "cell_type": "code",
   "execution_count": 8,
   "metadata": {},
   "outputs": [
    {
     "data": {
      "text/plain": [
       "Text(0, 0.5, 'x2')"
      ]
     },
     "execution_count": 8,
     "metadata": {},
     "output_type": "execute_result"
    },
    {
     "data": {
      "image/png": "[encoded data removed]",
      "text/plain": [
       "<Figure size 432x288 with 1 Axes>"
      ]
     },
     "metadata": {
      "needs_background": "light"
     },
     "output_type": "display_data"
    }
   ],
   "source": [
    "xs = [x[1] for x in S1]\n",
    "ys = [y[2] for y in S1]\n",
    "\n",
    "plt.scatter(xs, ys, color ='blue', marker  = '^')\n",
    "\n",
    "xs = [x[1] for x in S2]\n",
    "ys = [y[2] for y in S2]\n",
    "plt.scatter(xs, ys, color ='red')\n",
    "\n",
    "xs = [x[1] for x in S]\n",
    "ys = [y[2] for y in S]\n",
    "#print(len(xs))\n",
    "y = []\n",
    "for i in range(0,100):\n",
    "    y.append(-((wopt[0]+wopt[1]*xs[i])/wopt[2]))\n",
    "plt.plot(xs, y)\n",
    "\n",
    "plt.xlabel('x1')\n",
    "plt.ylabel('x2')"
   ]
  },
  {
   "cell_type": "code",
   "execution_count": 99,
   "metadata": {},
   "outputs": [],
   "source": [
    "# PTA "
   ]
  },
  {
   "cell_type": "code",
   "execution_count": 172,
   "metadata": {},
   "outputs": [
    {
     "name": "stdout",
     "output_type": "stream",
     "text": [
      "[[-0.87048727  0.23740636 -0.23800102]]\n"
     ]
    }
   ],
   "source": [
    "b = []\n",
    "wa = uniform(-1, 1)\n",
    "wb = uniform(-1, 1)\n",
    "wc = uniform(-1, 1)\n",
    "b. append([wa,wb,wc])\n",
    "w = np.asarray(b)\n",
    "t = w\n",
    "print(w)"
   ]
  },
  {
   "cell_type": "code",
   "execution_count": 173,
   "metadata": {},
   "outputs": [],
   "source": [
    "# Epoch 0\n",
    "m = []\n",
    "e = []\n",
    "wT = np.transpose(w)\n",
    "count = 0\n",
    "for i in range(len(S1)):\n",
    "    if np.matmul(S1[i], wT) < 0:\n",
    "        count += 1\n",
    "    i += 1    \n",
    "for i in range(len(S2)):\n",
    "    if np.matmul(S2[i], wT) >= 0:\n",
    "        count += 1\n",
    "    i += 1\n",
    "\n"
   ]
  },
  {
   "cell_type": "code",
   "execution_count": 174,
   "metadata": {},
   "outputs": [
    {
     "data": {
      "text/plain": [
       "[41]"
      ]
     },
     "execution_count": 174,
     "metadata": {},
     "output_type": "execute_result"
    }
   ],
   "source": [
    "# Learing Rate\n",
    "n = 1\n",
    "\n",
    "# Epoch 1\n",
    "count = 0\n",
    "epoch = 0\n",
    "for i in range(len(S1)):\n",
    "    if np.matmul(S1[i], wT) < 0:\n",
    "        count += 1\n",
    "        w =  w + n*S1[i]\n",
    "        \n",
    "    i += 1\n",
    "for i in range(len(S2)):\n",
    "    if np.matmul(S2[i], wT) >= 0:\n",
    "        count += 1\n",
    "        w =  w - n*S2[i]\n",
    "    i += 1\n",
    "wT= np.transpose(w)\n",
    "e.append(epoch)\n",
    "m.append(count)\n",
    "m"
   ]
  },
  {
   "cell_type": "code",
   "execution_count": 175,
   "metadata": {},
   "outputs": [
    {
     "name": "stdout",
     "output_type": "stream",
     "text": [
      "[[40.12951273 16.34974902 14.70904867]]\n"
     ]
    }
   ],
   "source": [
    "print(w)"
   ]
  },
  {
   "cell_type": "code",
   "execution_count": 176,
   "metadata": {},
   "outputs": [],
   "source": [
    "while count != 0:\n",
    "    epoch += 1 \n",
    "    count = 0\n",
    "    for i in range(len(S1)):\n",
    "        if np.matmul(S1[i], wT) < 0:\n",
    "            w =  w + n*S1[i]\n",
    "            count += 1\n",
    "        i += 1\n",
    "    for i in range(len(S2)):\n",
    "        if np.matmul(S2[i], wT) >= 0:\n",
    "            w =  w - n*S2[i]\n",
    "            count += 1\n",
    "        i += 1\n",
    "    m.append(count)\n",
    "    e.append(epoch)\n",
    "    wT = np.transpose(w)"
   ]
  },
  {
   "cell_type": "code",
   "execution_count": 177,
   "metadata": {},
   "outputs": [
    {
     "name": "stdout",
     "output_type": "stream",
     "text": [
      "[[-2.87048727 45.31279114 39.06575562]]\n"
     ]
    }
   ],
   "source": [
    "print(w)"
   ]
  },
  {
   "cell_type": "code",
   "execution_count": 178,
   "metadata": {},
   "outputs": [
    {
     "name": "stdout",
     "output_type": "stream",
     "text": [
      "0\n"
     ]
    },
    {
     "data": {
      "text/plain": [
       "0"
      ]
     },
     "execution_count": 178,
     "metadata": {},
     "output_type": "execute_result"
    }
   ],
   "source": [
    "# Testing\n",
    "count = 0\n",
    "for i in range(len(S1)):\n",
    "    if np.matmul(S1[i], wT) < 0:\n",
    "        count += 1\n",
    "    i += 1\n",
    "print(count)    \n",
    "for i in range(len(S2)):\n",
    "    if np.matmul(S2[i], wT) >= 0:\n",
    "        count += 1\n",
    "    i += 1\n",
    "\n",
    "count "
   ]
  },
  {
   "cell_type": "code",
   "execution_count": 179,
   "metadata": {},
   "outputs": [
    {
     "name": "stdout",
     "output_type": "stream",
     "text": [
      "[0, 1, 2, 3, 4, 5, 6, 7, 8, 9, 10, 11, 12, 13, 14, 15, 16, 17, 18, 19, 20, 21, 22, 23, 24, 25, 26, 27, 28, 29, 30, 31, 32, 33, 34, 35, 36, 37, 38, 39, 40, 41, 42, 43, 44, 45, 46, 47, 48, 49, 50, 51, 52, 53, 54, 55, 56, 57, 58, 59, 60, 61, 62, 63, 64, 65, 66, 67, 68, 69, 70, 71, 72, 73, 74, 75, 76, 77, 78, 79, 80, 81, 82, 83, 84, 85, 86, 87, 88, 89, 90, 91, 92, 93, 94, 95, 96, 97, 98, 99, 100, 101, 102, 103, 104, 105, 106, 107, 108, 109, 110, 111, 112, 113, 114, 115, 116, 117, 118, 119, 120, 121, 122, 123, 124, 125, 126, 127, 128, 129, 130, 131, 132, 133, 134, 135, 136]\n",
      "[41, 59, 18, 6, 1, 1, 1, 1, 1, 1, 2, 4, 5, 5, 5, 4, 5, 5, 5, 5, 5, 6, 5, 5, 5, 5, 5, 4, 5, 5, 5, 6, 5, 5, 5, 5, 5, 4, 5, 5, 5, 5, 5, 6, 5, 5, 5, 4, 5, 5, 5, 5, 5, 6, 5, 5, 5, 5, 5, 4, 5, 5, 5, 4, 3, 4, 5, 5, 5, 5, 4, 3, 2, 3, 4, 5, 5, 4, 5, 5, 3, 3, 4, 4, 4, 5, 5, 4, 3, 3, 3, 3, 3, 4, 5, 5, 5, 4, 2, 2, 2, 2, 2, 2, 2, 2, 2, 2, 2, 2, 2, 2, 2, 2, 2, 2, 2, 2, 2, 2, 1, 1, 2, 1, 1, 2, 1, 1, 2, 1, 1, 2, 1, 1, 2, 1, 0]\n"
     ]
    }
   ],
   "source": [
    "print(e)\n",
    "print(m)"
   ]
  },
  {
   "cell_type": "code",
   "execution_count": 180,
   "metadata": {},
   "outputs": [
    {
     "data": {
      "text/plain": [
       "<matplotlib.collections.PathCollection at 0x1b7538bc160>"
      ]
     },
     "execution_count": 180,
     "metadata": {},
     "output_type": "execute_result"
    },
    {
     "data": {
      "image/png": "[encoded data removed]",
      "text/plain": [
       "<Figure size 432x288 with 1 Axes>"
      ]
     },
     "metadata": {
      "needs_background": "light"
     },
     "output_type": "display_data"
    }
   ],
   "source": [
    "plt.scatter(e,m)"
   ]
  },
  {
   "cell_type": "code",
   "execution_count": null,
   "metadata": {},
   "outputs": [],
   "source": []
  },
  {
   "cell_type": "code",
   "execution_count": 181,
   "metadata": {},
   "outputs": [],
   "source": [
    "# Learning Rate 10\n",
    "n = 10\n",
    "w = t\n",
    "wT = np.transpose(w)\n",
    "e= []\n",
    "m =[]\n",
    "# Epoch 1\n",
    "count = 0\n",
    "epoch = 0\n",
    "for i in range(len(S1)):\n",
    "    if np.matmul(S1[i], wT) < 0:\n",
    "        count += 1\n",
    "        w =  w + n*S1[i]\n",
    "        \n",
    "    i += 1\n",
    "for i in range(len(S2)):\n",
    "    if np.matmul(S2[i], wT) >= 0:\n",
    "        count += 1\n",
    "        w =  w - n*S2[i]\n",
    "    i += 1\n",
    "wT= np.transpose(w)\n",
    "e.append(epoch)\n",
    "m.append(count)\n"
   ]
  },
  {
   "cell_type": "code",
   "execution_count": 182,
   "metadata": {},
   "outputs": [
    {
     "name": "stdout",
     "output_type": "stream",
     "text": [
      "[[-20.87048727 416.61951011 362.18849848]]\n"
     ]
    }
   ],
   "source": [
    "while count != 0:\n",
    "    epoch += 1 \n",
    "    count = 0\n",
    "    for i in range(len(S1)):\n",
    "        if np.matmul(S1[i], wT) < 0:\n",
    "            w =  w + n*S1[i]\n",
    "            count += 1\n",
    "        i += 1\n",
    "    for i in range(len(S2)):\n",
    "        if np.matmul(S2[i], wT) >= 0:\n",
    "            w =  w - n*S2[i]\n",
    "            count += 1\n",
    "        i += 1\n",
    "    m.append(count)\n",
    "    e.append(epoch)\n",
    "    wT = np.transpose(w)\n",
    "print(w)"
   ]
  },
  {
   "cell_type": "code",
   "execution_count": 183,
   "metadata": {},
   "outputs": [
    {
     "name": "stdout",
     "output_type": "stream",
     "text": [
      "0\n"
     ]
    },
    {
     "data": {
      "text/plain": [
       "0"
      ]
     },
     "execution_count": 183,
     "metadata": {},
     "output_type": "execute_result"
    }
   ],
   "source": [
    "# Testing\n",
    "count = 0\n",
    "for i in range(len(S1)):\n",
    "    if np.matmul(S1[i], wT) < 0:\n",
    "        count += 1\n",
    "    i += 1\n",
    "print(count)    \n",
    "for i in range(len(S2)):\n",
    "    if np.matmul(S2[i], wT) >= 0:\n",
    "        count += 1\n",
    "    i += 1\n",
    "\n",
    "count "
   ]
  },
  {
   "cell_type": "code",
   "execution_count": 184,
   "metadata": {},
   "outputs": [
    {
     "name": "stdout",
     "output_type": "stream",
     "text": [
      "[0, 1, 2, 3, 4, 5, 6, 7, 8, 9, 10, 11, 12, 13, 14, 15, 16, 17, 18, 19, 20, 21, 22, 23, 24, 25, 26, 27, 28, 29, 30, 31, 32, 33, 34, 35, 36, 37, 38, 39, 40, 41, 42, 43, 44, 45, 46, 47, 48, 49, 50, 51, 52, 53, 54, 55, 56, 57, 58, 59, 60, 61, 62, 63, 64, 65]\n",
      "[41, 59, 18, 5, 1, 1, 2, 4, 5, 5, 5, 4, 5, 5, 5, 5, 5, 4, 3, 3, 2, 3, 4, 5, 5, 5, 5, 4, 5, 5, 5, 4, 3, 4, 5, 5, 5, 5, 5, 5, 3, 3, 4, 5, 5, 4, 5, 5, 5, 5, 5, 5, 3, 3, 4, 5, 5, 4, 5, 5, 5, 5, 5, 4, 1, 0]\n"
     ]
    }
   ],
   "source": [
    "print(e)\n",
    "print(m)\n",
    "plt.scatter(e,m)"
   ]
  },
  {
   "cell_type": "code",
   "execution_count": 186,
   "metadata": {},
   "outputs": [],
   "source": [
    "# Learning Rate 10\n",
    "n = 0.1\n",
    "w = t\n",
    "wT = np.transpose(w)\n",
    "e= []\n",
    "m =[]\n",
    "# Epoch 1\n",
    "count = 0\n",
    "epoch = 0\n",
    "for i in range(len(S1)):\n",
    "    if np.matmul(S1[i], wT) < 0:\n",
    "        count += 1\n",
    "        w =  w + n*S1[i]\n",
    "        \n",
    "    i += 1\n",
    "for i in range(len(S2)):\n",
    "    if np.matmul(S2[i], wT) >= 0:\n",
    "        count += 1\n",
    "        w =  w - n*S2[i]\n",
    "    i += 1\n",
    "wT= np.transpose(w)\n",
    "e.append(epoch)\n",
    "m.append(count)\n"
   ]
  },
  {
   "cell_type": "code",
   "execution_count": 187,
   "metadata": {},
   "outputs": [
    {
     "name": "stdout",
     "output_type": "stream",
     "text": [
      "[[-0.27048727  4.40689296  3.79913545]]\n"
     ]
    }
   ],
   "source": [
    "while count != 0:\n",
    "    epoch += 1 \n",
    "    count = 0\n",
    "    for i in range(len(S1)):\n",
    "        if np.matmul(S1[i], wT) < 0:\n",
    "            w =  w + n*S1[i]\n",
    "            count += 1\n",
    "        i += 1\n",
    "    for i in range(len(S2)):\n",
    "        if np.matmul(S2[i], wT) >= 0:\n",
    "            w =  w - n*S2[i]\n",
    "            count += 1\n",
    "        i += 1\n",
    "    m.append(count)\n",
    "    e.append(epoch)\n",
    "    wT = np.transpose(w)\n",
    "print(w)"
   ]
  },
  {
   "cell_type": "code",
   "execution_count": 188,
   "metadata": {},
   "outputs": [
    {
     "name": "stdout",
     "output_type": "stream",
     "text": [
      "0\n"
     ]
    },
    {
     "data": {
      "text/plain": [
       "0"
      ]
     },
     "execution_count": 188,
     "metadata": {},
     "output_type": "execute_result"
    }
   ],
   "source": [
    "# Testing\n",
    "count = 0\n",
    "for i in range(len(S1)):\n",
    "    if np.matmul(S1[i], wT) < 0:\n",
    "        count += 1\n",
    "    i += 1\n",
    "print(count)    \n",
    "for i in range(len(S2)):\n",
    "    if np.matmul(S2[i], wT) >= 0:\n",
    "        count += 1\n",
    "    i += 1\n",
    "\n",
    "count "
   ]
  },
  {
   "cell_type": "code",
   "execution_count": 189,
   "metadata": {},
   "outputs": [
    {
     "name": "stdout",
     "output_type": "stream",
     "text": [
      "[0, 1, 2, 3, 4, 5, 6, 7, 8, 9, 10, 11, 12, 13, 14, 15, 16, 17, 18, 19, 20, 21, 22, 23, 24, 25, 26, 27, 28, 29, 30, 31, 32, 33, 34, 35, 36, 37, 38, 39, 40, 41, 42, 43, 44, 45, 46, 47, 48, 49, 50, 51, 52, 53, 54, 55, 56, 57, 58, 59, 60]\n",
      "[41, 59, 24, 2, 3, 4, 5, 5, 4, 5, 5, 5, 6, 5, 5, 5, 5, 5, 4, 5, 5, 5, 7, 5, 4, 5, 5, 5, 4, 5, 5, 3, 3, 4, 5, 5, 4, 3, 4, 5, 5, 5, 4, 3, 4, 5, 5, 5, 4, 3, 4, 5, 5, 5, 5, 5, 4, 3, 3, 1, 0]\n"
     ]
    }
   ],
   "source": [
    "print(e)\n",
    "print(m)\n",
    "plt.scatter(e,m)"
   ]
  },
  {
   "cell_type": "code",
   "execution_count": null,
   "metadata": {},
   "outputs": [],
   "source": []
  },
  {
   "cell_type": "code",
   "execution_count": null,
   "metadata": {},
   "outputs": [],
   "source": []
  }
 ],
 "metadata": {
  "kernelspec": {
   "display_name": "Python 3",
   "language": "python",
   "name": "python3"
  },
  "language_info": {
   "codemirror_mode": {
    "name": "ipython",
    "version": 3
   },
   "file_extension": ".py",
   "mimetype": "text/x-python",
   "name": "python",
   "nbconvert_exporter": "python",
   "pygments_lexer": "ipython3",
   "version": "3.7.3"
  }
 },
 "nbformat": 4,
 "nbformat_minor": 4
}
