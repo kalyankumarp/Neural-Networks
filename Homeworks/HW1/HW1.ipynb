{
 "cells": [
  {
   "cell_type": "code",
   "execution_count": 1,
   "metadata": {},
   "outputs": [],
   "source": [
    "from random import *\n",
    "import numpy as np\n",
    "import matplotlib.pyplot as plt\n",
    "import seaborn as sns"
   ]
  },
  {
   "cell_type": "code",
   "execution_count": 2,
   "metadata": {},
   "outputs": [
    {
     "name": "stdout",
     "output_type": "stream",
     "text": [
      "[[ 0.07398882 -0.15041019  0.28511816]]\n"
     ]
    }
   ],
   "source": [
    "b = []\n",
    "w0 = uniform(-0.25, 0.25)\n",
    "w1 = uniform(-1, 1)\n",
    "w2 = uniform(-1, 1)\n",
    "b.append([w0,w1,w2])\n",
    "wopt = np.asarray(b)\n",
    "print(wopt)"
   ]
  },
  {
   "cell_type": "code",
   "execution_count": 3,
   "metadata": {},
   "outputs": [],
   "source": [
    "# n = 100"
   ]
  },
  {
   "cell_type": "code",
   "execution_count": 4,
   "metadata": {},
   "outputs": [],
   "source": [
    "a = []\n",
    "for i in range(0,100):\n",
    "    x1 = uniform(-1, 1)\n",
    "    x2 = uniform(-1, 1)\n",
    "    a.append([1, x1, x2])\n",
    "    i += 1\n",
    "S = np.asarray(a)\n",
    "#print(S)"
   ]
  },
  {
   "cell_type": "code",
   "execution_count": 5,
   "metadata": {},
   "outputs": [],
   "source": [
    "wTopt = np.transpose(wopt)\n",
    "#print(wopt[0][1])"
   ]
  },
  {
   "cell_type": "code",
   "execution_count": 6,
   "metadata": {},
   "outputs": [],
   "source": [
    "S1 = []\n",
    "S2 = []\n",
    "for i in range(0,100):\n",
    "    if np.matmul(S[i], wTopt) >= 0:\n",
    "        S1.append(S[i])\n",
    "    else:\n",
    "        S2.append(S[i])\n",
    "        "
   ]
  },
  {
   "cell_type": "code",
   "execution_count": 7,
   "metadata": {},
   "outputs": [
    {
     "name": "stdout",
     "output_type": "stream",
     "text": [
      "59\n",
      "41\n"
     ]
    }
   ],
   "source": [
    "print(len(S1))\n",
    "print(len(S2))"
   ]
  },
  {
   "cell_type": "code",
   "execution_count": 8,
   "metadata": {},
   "outputs": [
    {
     "data": {
      "image/png": "[encoded data removed]",
      "text/plain": [
       "<Figure size 432x288 with 1 Axes>"
      ]
     },
     "metadata": {
      "needs_background": "light"
     },
     "output_type": "display_data"
    }
   ],
   "source": [
    "fig, ax = plt.subplots()\n",
    "xs = [x[1] for x in S1]\n",
    "ys = [y[2] for y in S1]\n",
    "\n",
    "# produce a legend with the unique colors from the scatter\n",
    "scatter1 = plt.scatter(xs, ys, color ='blue', marker  = '^', s = 16)\n",
    "\n",
    "\n",
    "\n",
    "\n",
    "xs = [x[1] for x in S2]\n",
    "ys = [y[2] for y in S2]\n",
    "scatter2 = plt.scatter(xs, ys, color ='red', s = 15)\n",
    "\n",
    "plt.legend((scatter1, scatter2),\n",
    "           ('CLass 1', 'Class 2'),\n",
    "           scatterpoints=1,\n",
    "           loc='upper right',\n",
    "           ncol=3,\n",
    "           fontsize=8)\n",
    "\n",
    "xs = [x[1] for x in S]\n",
    "ys = [y[2] for y in S]\n",
    "#print(len(xs))\n",
    "y = []\n",
    "for i in range(len(S)):\n",
    "    y.append(-((wopt[0][0]+(wopt[0][1]*xs[i]))/wopt[0][2]))\n",
    "\n",
    "\n",
    "\n",
    "\n",
    "plt.plot(xs, y)\n",
    "\n",
    "plt.xlabel('x1')\n",
    "plt.ylabel('x2')\n",
    "plt.show()"
   ]
  },
  {
   "cell_type": "code",
   "execution_count": 9,
   "metadata": {},
   "outputs": [],
   "source": [
    "# PTA "
   ]
  },
  {
   "cell_type": "code",
   "execution_count": 10,
   "metadata": {},
   "outputs": [
    {
     "name": "stdout",
     "output_type": "stream",
     "text": [
      "[[ 0.07611122  0.26930747 -0.57670416]]\n"
     ]
    }
   ],
   "source": [
    "b = []\n",
    "wa = uniform(-1, 1)\n",
    "wb = uniform(-1, 1)\n",
    "wc = uniform(-1, 1)\n",
    "b. append([wa,wb,wc])\n",
    "w = np.asarray(b)\n",
    "t = w\n",
    "print(w)"
   ]
  },
  {
   "cell_type": "code",
   "execution_count": 11,
   "metadata": {},
   "outputs": [],
   "source": [
    "# Epoch 0\n",
    "m = []\n",
    "e = []\n",
    "wT = np.transpose(w)\n",
    "count = 0\n",
    "for i in range(len(S1)):\n",
    "    if np.matmul(S1[i], wT) < 0:\n",
    "        count += 1\n",
    "    i += 1    \n",
    "for i in range(len(S2)):\n",
    "    if np.matmul(S2[i], wT) >= 0:\n",
    "        count += 1\n",
    "    i += 1\n",
    "\n"
   ]
  },
  {
   "cell_type": "code",
   "execution_count": 12,
   "metadata": {},
   "outputs": [
    {
     "data": {
      "text/plain": [
       "[77]"
      ]
     },
     "execution_count": 12,
     "metadata": {},
     "output_type": "execute_result"
    }
   ],
   "source": [
    "# Learing Rate 1\n",
    "n = 1\n",
    "\n",
    "# Epoch 1\n",
    "count = 0\n",
    "epoch = 0\n",
    "for i in range(len(S1)):\n",
    "    if np.matmul(S1[i], wT) < 0:\n",
    "        count += 1\n",
    "        w =  w + n*S1[i]\n",
    "        \n",
    "    i += 1\n",
    "for i in range(len(S2)):\n",
    "    if np.matmul(S2[i], wT) >= 0:\n",
    "        count += 1\n",
    "        w =  w - n*S2[i]\n",
    "    i += 1\n",
    "wT= np.transpose(w)\n",
    "e.append(epoch)\n",
    "m.append(count)\n",
    "m"
   ]
  },
  {
   "cell_type": "code",
   "execution_count": 13,
   "metadata": {},
   "outputs": [
    {
     "name": "stdout",
     "output_type": "stream",
     "text": [
      "Final weights for learing rate 1 [[ 11.07611122 -22.19536636  42.95259398]]\n"
     ]
    }
   ],
   "source": [
    "while count != 0:\n",
    "    epoch += 1 \n",
    "    count = 0\n",
    "    for i in range(len(S1)):\n",
    "        if np.matmul(S1[i], wT) < 0:\n",
    "            w =  w + n*S1[i]\n",
    "            count += 1\n",
    "        i += 1\n",
    "    for i in range(len(S2)):\n",
    "        if np.matmul(S2[i], wT) >= 0:\n",
    "            w =  w - n*S2[i]\n",
    "            count += 1\n",
    "        i += 1\n",
    "    m.append(count)\n",
    "    e.append(epoch)\n",
    "    wT = np.transpose(w)\n",
    "print(\"Final weights for learing rate 1 \" + str(w))"
   ]
  },
  {
   "cell_type": "code",
   "execution_count": 14,
   "metadata": {},
   "outputs": [
    {
     "name": "stdout",
     "output_type": "stream",
     "text": [
      "0\n"
     ]
    },
    {
     "data": {
      "text/plain": [
       "0"
      ]
     },
     "execution_count": 14,
     "metadata": {},
     "output_type": "execute_result"
    }
   ],
   "source": [
    "# Testing\n",
    "count = 0\n",
    "for i in range(len(S1)):\n",
    "    if np.matmul(S1[i], wT) < 0:\n",
    "        count += 1\n",
    "    i += 1\n",
    "print(count)    \n",
    "for i in range(len(S2)):\n",
    "    if np.matmul(S2[i], wT) >= 0:\n",
    "        count += 1\n",
    "    i += 1\n",
    "\n",
    "count "
   ]
  },
  {
   "cell_type": "code",
   "execution_count": 15,
   "metadata": {},
   "outputs": [
    {
     "name": "stdout",
     "output_type": "stream",
     "text": [
      "[0, 1, 2, 3, 4, 5, 6, 7, 8, 9, 10]\n",
      "[77, 23, 16, 17, 14, 8, 3, 1, 1, 1, 0]\n"
     ]
    },
    {
     "data": {
      "text/plain": [
       "<matplotlib.collections.PathCollection at 0x196a7c3d0f0>"
      ]
     },
     "execution_count": 15,
     "metadata": {},
     "output_type": "execute_result"
    },
    {
     "data": {
      "image/png": "[encoded data removed]",
      "text/plain": [
       "<Figure size 432x288 with 1 Axes>"
      ]
     },
     "metadata": {
      "needs_background": "light"
     },
     "output_type": "display_data"
    }
   ],
   "source": [
    "print(e)\n",
    "print(m)\n",
    "plt.scatter(e,m)"
   ]
  },
  {
   "cell_type": "code",
   "execution_count": 16,
   "metadata": {},
   "outputs": [],
   "source": [
    "# Learning Rate 10\n",
    "n = 10\n",
    "w = t\n",
    "wT = np.transpose(w)\n",
    "e= []\n",
    "m =[]\n",
    "# Epoch 1\n",
    "count = 0\n",
    "epoch = 0\n",
    "for i in range(len(S1)):\n",
    "    if np.matmul(S1[i], wT) < 0:\n",
    "        count += 1\n",
    "        w =  w + n*S1[i]\n",
    "        \n",
    "    i += 1\n",
    "for i in range(len(S2)):\n",
    "    if np.matmul(S2[i], wT) >= 0:\n",
    "        count += 1\n",
    "        w =  w - n*S2[i]\n",
    "    i += 1\n",
    "wT= np.transpose(w)\n",
    "e.append(epoch)\n",
    "m.append(count)\n"
   ]
  },
  {
   "cell_type": "code",
   "execution_count": 17,
   "metadata": {},
   "outputs": [
    {
     "name": "stdout",
     "output_type": "stream",
     "text": [
      "Final weights for learing rate 10 [[ 110.07611122 -221.60765386  432.90900933]]\n"
     ]
    }
   ],
   "source": [
    "while count != 0:\n",
    "    epoch += 1 \n",
    "    count = 0\n",
    "    for i in range(len(S1)):\n",
    "        if np.matmul(S1[i], wT) < 0:\n",
    "            w =  w + n*S1[i]\n",
    "            count += 1\n",
    "        i += 1\n",
    "    for i in range(len(S2)):\n",
    "        if np.matmul(S2[i], wT) >= 0:\n",
    "            w =  w - n*S2[i]\n",
    "            count += 1\n",
    "        i += 1\n",
    "    m.append(count)\n",
    "    e.append(epoch)\n",
    "    wT = np.transpose(w)\n",
    "print(\"Final weights for learing rate 10 \" + str(w))"
   ]
  },
  {
   "cell_type": "code",
   "execution_count": 18,
   "metadata": {},
   "outputs": [
    {
     "name": "stdout",
     "output_type": "stream",
     "text": [
      "0\n"
     ]
    },
    {
     "data": {
      "text/plain": [
       "0"
      ]
     },
     "execution_count": 18,
     "metadata": {},
     "output_type": "execute_result"
    }
   ],
   "source": [
    "# Testing\n",
    "count = 0\n",
    "for i in range(len(S1)):\n",
    "    if np.matmul(S1[i], wT) < 0:\n",
    "        count += 1\n",
    "    i += 1\n",
    "print(count)    \n",
    "for i in range(len(S2)):\n",
    "    if np.matmul(S2[i], wT) >= 0:\n",
    "        count += 1\n",
    "    i += 1\n",
    "\n",
    "count "
   ]
  },
  {
   "cell_type": "code",
   "execution_count": 19,
   "metadata": {},
   "outputs": [
    {
     "name": "stdout",
     "output_type": "stream",
     "text": [
      "[0, 1, 2, 3, 4, 5, 6, 7, 8, 9, 10, 11]\n",
      "[77, 23, 16, 17, 13, 7, 3, 2, 1, 1, 1, 0]\n"
     ]
    },
    {
     "data": {
      "text/plain": [
       "<matplotlib.collections.PathCollection at 0x196a7ca9080>"
      ]
     },
     "execution_count": 19,
     "metadata": {},
     "output_type": "execute_result"
    },
    {
     "data": {
      "image/png": "[encoded data removed]",
      "text/plain": [
       "<Figure size 432x288 with 1 Axes>"
      ]
     },
     "metadata": {
      "needs_background": "light"
     },
     "output_type": "display_data"
    }
   ],
   "source": [
    "print(e)\n",
    "print(m)\n",
    "plt.scatter(e,m)"
   ]
  },
  {
   "cell_type": "code",
   "execution_count": 20,
   "metadata": {},
   "outputs": [],
   "source": [
    "# Learning Rate 0.1\n",
    "n = 0.1\n",
    "w = t\n",
    "wT = np.transpose(w)\n",
    "e= []\n",
    "m =[]\n",
    "# Epoch 1\n",
    "count = 0\n",
    "epoch = 0\n",
    "for i in range(len(S1)):\n",
    "    if np.matmul(S1[i], wT) < 0:\n",
    "        count += 1\n",
    "        w =  w + n*S1[i]\n",
    "        \n",
    "    i += 1\n",
    "for i in range(len(S2)):\n",
    "    if np.matmul(S2[i], wT) >= 0:\n",
    "        count += 1\n",
    "        w =  w - n*S2[i]\n",
    "    i += 1\n",
    "wT= np.transpose(w)\n",
    "e.append(epoch)\n",
    "m.append(count)\n"
   ]
  },
  {
   "cell_type": "code",
   "execution_count": 21,
   "metadata": {},
   "outputs": [
    {
     "name": "stdout",
     "output_type": "stream",
     "text": [
      "Final weights for learing rate 0.1 [[ 1.17611122 -2.33942677  4.49016557]]\n"
     ]
    }
   ],
   "source": [
    "while count != 0:\n",
    "    epoch += 1 \n",
    "    count = 0\n",
    "    for i in range(len(S1)):\n",
    "        if np.matmul(S1[i], wT) < 0:\n",
    "            w =  w + n*S1[i]\n",
    "            count += 1\n",
    "        i += 1\n",
    "    for i in range(len(S2)):\n",
    "        if np.matmul(S2[i], wT) >= 0:\n",
    "            w =  w - n*S2[i]\n",
    "            count += 1\n",
    "        i += 1\n",
    "    m.append(count)\n",
    "    e.append(epoch)\n",
    "    wT = np.transpose(w)\n",
    "print(\"Final weights for learing rate 0.1 \" + str(w))"
   ]
  },
  {
   "cell_type": "code",
   "execution_count": 22,
   "metadata": {},
   "outputs": [
    {
     "name": "stdout",
     "output_type": "stream",
     "text": [
      "0\n"
     ]
    },
    {
     "data": {
      "text/plain": [
       "0"
      ]
     },
     "execution_count": 22,
     "metadata": {},
     "output_type": "execute_result"
    }
   ],
   "source": [
    "# Testing\n",
    "count = 0\n",
    "for i in range(len(S1)):\n",
    "    if np.matmul(S1[i], wT) < 0:\n",
    "        count += 1\n",
    "    i += 1\n",
    "print(count)    \n",
    "for i in range(len(S2)):\n",
    "    if np.matmul(S2[i], wT) >= 0:\n",
    "        count += 1\n",
    "    i += 1\n",
    "\n",
    "count "
   ]
  },
  {
   "cell_type": "code",
   "execution_count": 23,
   "metadata": {},
   "outputs": [
    {
     "name": "stdout",
     "output_type": "stream",
     "text": [
      "[0, 1, 2, 3, 4, 5, 6, 7, 8, 9, 10, 11]\n",
      "[77, 23, 23, 25, 20, 18, 9, 2, 1, 2, 1, 0]\n"
     ]
    },
    {
     "data": {
      "text/plain": [
       "<matplotlib.collections.PathCollection at 0x196a7d11e80>"
      ]
     },
     "execution_count": 23,
     "metadata": {},
     "output_type": "execute_result"
    },
    {
     "data": {
      "image/png": "[encoded data removed]",
      "text/plain": [
       "<Figure size 432x288 with 1 Axes>"
      ]
     },
     "metadata": {
      "needs_background": "light"
     },
     "output_type": "display_data"
    }
   ],
   "source": [
    "print(e)\n",
    "print(m)\n",
    "plt.scatter(e,m)"
   ]
  },
  {
   "cell_type": "code",
   "execution_count": null,
   "metadata": {},
   "outputs": [],
   "source": []
  },
  {
   "cell_type": "code",
   "execution_count": 24,
   "metadata": {},
   "outputs": [],
   "source": [
    "# n = 1000\n",
    "\n",
    "a = []\n",
    "for i in range(0,1000):\n",
    "    x1 = uniform(-1, 1)\n",
    "    x2 = uniform(-1, 1)\n",
    "    a.append([1, x1, x2])\n",
    "    i += 1\n",
    "S = np.asarray(a)\n",
    "#print(S)\n"
   ]
  },
  {
   "cell_type": "code",
   "execution_count": 25,
   "metadata": {},
   "outputs": [],
   "source": [
    "wTopt = np.transpose(wopt)"
   ]
  },
  {
   "cell_type": "code",
   "execution_count": 26,
   "metadata": {},
   "outputs": [
    {
     "name": "stdout",
     "output_type": "stream",
     "text": [
      "638\n",
      "362\n"
     ]
    }
   ],
   "source": [
    "S1 = []\n",
    "S2 = []\n",
    "for i in range(0,1000):\n",
    "    if np.matmul(S[i], wTopt) >= 0:\n",
    "        S1.append(S[i])\n",
    "    else:\n",
    "        S2.append(S[i])\n",
    "print(len(S1))\n",
    "print(len(S2))        "
   ]
  },
  {
   "cell_type": "code",
   "execution_count": 27,
   "metadata": {},
   "outputs": [
    {
     "data": {
      "image/png": "[encoded data removed]",
      "text/plain": [
       "<Figure size 432x288 with 1 Axes>"
      ]
     },
     "metadata": {
      "needs_background": "light"
     },
     "output_type": "display_data"
    }
   ],
   "source": [
    "fig, ax = plt.subplots()\n",
    "xs = [x[1] for x in S1]\n",
    "ys = [y[2] for y in S1]\n",
    "\n",
    "# produce a legend with the unique colors from the scatter\n",
    "scatter1 = plt.scatter(xs, ys, color ='blue', marker  = '^', s = 10)\n",
    "\n",
    "\n",
    "\n",
    "\n",
    "xs = [x[1] for x in S2]\n",
    "ys = [y[2] for y in S2]\n",
    "scatter2 = plt.scatter(xs, ys, color ='red', s = 10)\n",
    "\n",
    "plt.legend((scatter1, scatter2),\n",
    "           ('CLass 1', 'Class 2'),\n",
    "           scatterpoints=1,\n",
    "           loc='upper right',\n",
    "           ncol=3,\n",
    "           fontsize=8)\n",
    "\n",
    "xs = [x[1] for x in S]\n",
    "ys = [y[2] for y in S]\n",
    "#print(len(xs))\n",
    "y = []\n",
    "for i in range(len(S)):\n",
    "    y.append(-((wopt[0][0]+(wopt[0][1]*xs[i]))/wopt[0][2]))\n",
    "\n",
    "\n",
    "\n",
    "\n",
    "plt.plot(xs, y)\n",
    "\n",
    "plt.xlabel('x1')\n",
    "plt.ylabel('x2')\n",
    "plt.show()"
   ]
  },
  {
   "cell_type": "code",
   "execution_count": 28,
   "metadata": {},
   "outputs": [],
   "source": [
    "# Epoch 0\n",
    "m = []\n",
    "e = []\n",
    "w = t\n",
    "wT = np.transpose(w)\n",
    "count = 0\n",
    "for i in range(len(S1)):\n",
    "    if np.matmul(S1[i], wT) < 0:\n",
    "        count += 1\n",
    "    i += 1    \n",
    "for i in range(len(S2)):\n",
    "    if np.matmul(S2[i], wT) >= 0:\n",
    "        count += 1\n",
    "    i += 1\n",
    "\n"
   ]
  },
  {
   "cell_type": "code",
   "execution_count": 29,
   "metadata": {},
   "outputs": [],
   "source": [
    "# Learing Rate 1\n",
    "n = 1 \n",
    "\n",
    "# Epoch 1\n",
    "count = 0\n",
    "epoch = 0\n",
    "for i in range(len(S1)):\n",
    "    if np.matmul(S1[i], wT) < 0:\n",
    "        count += 1\n",
    "        w =  w + n*S1[i]\n",
    "        \n",
    "    i += 1\n",
    "for i in range(len(S2)):\n",
    "    if np.matmul(S2[i], wT) >= 0:\n",
    "        count += 1\n",
    "        w =  w - n*S2[i]\n",
    "    i += 1\n",
    "wT= np.transpose(w)\n",
    "e.append(epoch)\n",
    "m.append(count)\n"
   ]
  },
  {
   "cell_type": "code",
   "execution_count": 30,
   "metadata": {},
   "outputs": [
    {
     "name": "stdout",
     "output_type": "stream",
     "text": [
      "Final weights for learing rate 1 [[ 105.07611122 -215.03790194  409.4783406 ]]\n"
     ]
    }
   ],
   "source": [
    "while count != 0:\n",
    "    epoch += 1 \n",
    "    count = 0\n",
    "    for i in range(len(S1)):\n",
    "        if np.matmul(S1[i], wT) < 0:\n",
    "            w =  w + n*S1[i]\n",
    "            count += 1\n",
    "        i += 1\n",
    "    for i in range(len(S2)):\n",
    "        if np.matmul(S2[i], wT) >= 0:\n",
    "            w =  w - n*S2[i]\n",
    "            count += 1\n",
    "        i += 1\n",
    "    m.append(count)\n",
    "    e.append(epoch)\n",
    "    wT = np.transpose(w)\n",
    "print(\"Final weights for learing rate 1 \" + str(w))"
   ]
  },
  {
   "cell_type": "code",
   "execution_count": 31,
   "metadata": {},
   "outputs": [
    {
     "name": "stdout",
     "output_type": "stream",
     "text": [
      "0\n"
     ]
    },
    {
     "data": {
      "text/plain": [
       "0"
      ]
     },
     "execution_count": 31,
     "metadata": {},
     "output_type": "execute_result"
    }
   ],
   "source": [
    "# Testing\n",
    "count = 0\n",
    "for i in range(len(S1)):\n",
    "    if np.matmul(S1[i], wT) < 0:\n",
    "        count += 1\n",
    "    i += 1\n",
    "print(count)    \n",
    "for i in range(len(S2)):\n",
    "    if np.matmul(S2[i], wT) >= 0:\n",
    "        count += 1\n",
    "    i += 1\n",
    "\n",
    "count "
   ]
  },
  {
   "cell_type": "code",
   "execution_count": 32,
   "metadata": {},
   "outputs": [
    {
     "name": "stdout",
     "output_type": "stream",
     "text": [
      "[0, 1, 2, 3, 4, 5, 6, 7, 8, 9, 10]\n",
      "[800, 41, 13, 7, 4, 2, 2, 2, 2, 2, 0]\n"
     ]
    },
    {
     "data": {
      "text/plain": [
       "<matplotlib.collections.PathCollection at 0x196a7e3f0f0>"
      ]
     },
     "execution_count": 32,
     "metadata": {},
     "output_type": "execute_result"
    },
    {
     "data": {
      "image/png": "[encoded data removed]",
      "text/plain": [
       "<Figure size 432x288 with 1 Axes>"
      ]
     },
     "metadata": {
      "needs_background": "light"
     },
     "output_type": "display_data"
    }
   ],
   "source": [
    "print(e)\n",
    "print(m)\n",
    "plt.scatter(e,m)"
   ]
  },
  {
   "cell_type": "code",
   "execution_count": 33,
   "metadata": {},
   "outputs": [],
   "source": [
    "# Learning Rate 10\n",
    "n = 10\n",
    "w = t\n",
    "wT = np.transpose(w)\n",
    "e= []\n",
    "m =[]\n",
    "# Epoch 1\n",
    "count = 0\n",
    "epoch = 0\n",
    "for i in range(len(S1)):\n",
    "    if np.matmul(S1[i], wT) < 0:\n",
    "        count += 1\n",
    "        w =  w + n*S1[i]\n",
    "        \n",
    "    i += 1\n",
    "for i in range(len(S2)):\n",
    "    if np.matmul(S2[i], wT) >= 0:\n",
    "        count += 1\n",
    "        w =  w - n*S2[i]\n",
    "    i += 1\n",
    "wT= np.transpose(w)\n",
    "e.append(epoch)\n",
    "m.append(count)\n"
   ]
  },
  {
   "cell_type": "code",
   "execution_count": 34,
   "metadata": {},
   "outputs": [
    {
     "name": "stdout",
     "output_type": "stream",
     "text": [
      "Final weights for learing rate 10 [[ 1060.07611122 -2160.25697083  4093.18590864]]\n"
     ]
    }
   ],
   "source": [
    "while count != 0:\n",
    "    epoch += 1 \n",
    "    count = 0\n",
    "    for i in range(len(S1)):\n",
    "        if np.matmul(S1[i], wT) < 0:\n",
    "            w =  w + n*S1[i]\n",
    "            count += 1\n",
    "        i += 1\n",
    "    for i in range(len(S2)):\n",
    "        if np.matmul(S2[i], wT) >= 0:\n",
    "            w =  w - n*S2[i]\n",
    "            count += 1\n",
    "        i += 1\n",
    "    m.append(count)\n",
    "    e.append(epoch)\n",
    "    wT = np.transpose(w)\n",
    "print(\"Final weights for learing rate 10 \" + str(w))"
   ]
  },
  {
   "cell_type": "code",
   "execution_count": 35,
   "metadata": {},
   "outputs": [
    {
     "name": "stdout",
     "output_type": "stream",
     "text": [
      "0\n"
     ]
    },
    {
     "data": {
      "text/plain": [
       "0"
      ]
     },
     "execution_count": 35,
     "metadata": {},
     "output_type": "execute_result"
    }
   ],
   "source": [
    "# Testing\n",
    "count = 0\n",
    "for i in range(len(S1)):\n",
    "    if np.matmul(S1[i], wT) < 0:\n",
    "        count += 1\n",
    "    i += 1\n",
    "print(count)    \n",
    "for i in range(len(S2)):\n",
    "    if np.matmul(S2[i], wT) >= 0:\n",
    "        count += 1\n",
    "    i += 1\n",
    "\n",
    "count "
   ]
  },
  {
   "cell_type": "code",
   "execution_count": 36,
   "metadata": {},
   "outputs": [
    {
     "name": "stdout",
     "output_type": "stream",
     "text": [
      "[0, 1, 2, 3, 4, 5, 6, 7, 8, 9, 10]\n",
      "[800, 41, 12, 8, 4, 2, 2, 2, 2, 1, 0]\n"
     ]
    },
    {
     "data": {
      "text/plain": [
       "<matplotlib.collections.PathCollection at 0x196a7e9eb70>"
      ]
     },
     "execution_count": 36,
     "metadata": {},
     "output_type": "execute_result"
    },
    {
     "data": {
      "image/png": "[encoded data removed]",
      "text/plain": [
       "<Figure size 432x288 with 1 Axes>"
      ]
     },
     "metadata": {
      "needs_background": "light"
     },
     "output_type": "display_data"
    }
   ],
   "source": [
    "print(e)\n",
    "print(m)\n",
    "plt.scatter(e,m)"
   ]
  },
  {
   "cell_type": "code",
   "execution_count": 37,
   "metadata": {},
   "outputs": [],
   "source": [
    "# Learning Rate 0.1\n",
    "n = 0.1\n",
    "w = t\n",
    "wT = np.transpose(w)\n",
    "e= []\n",
    "m =[]\n",
    "# Epoch 1\n",
    "count = 0\n",
    "epoch = 0\n",
    "for i in range(len(S1)):\n",
    "    if np.matmul(S1[i], wT) < 0:\n",
    "        count += 1\n",
    "        w =  w + n*S1[i]\n",
    "        \n",
    "    i += 1\n",
    "for i in range(len(S2)):\n",
    "    if np.matmul(S2[i], wT) >= 0:\n",
    "        count += 1\n",
    "        w =  w - n*S2[i]\n",
    "    i += 1\n",
    "wT= np.transpose(w)\n",
    "e.append(epoch)\n",
    "m.append(count)\n"
   ]
  },
  {
   "cell_type": "code",
   "execution_count": 38,
   "metadata": {},
   "outputs": [
    {
     "name": "stdout",
     "output_type": "stream",
     "text": [
      "Final weights for learing rate 0.1 [[ 10.47611122 -21.29689005  40.43167596]]\n"
     ]
    }
   ],
   "source": [
    "while count != 0:\n",
    "    epoch += 1 \n",
    "    count = 0\n",
    "    for i in range(len(S1)):\n",
    "        if np.matmul(S1[i], wT) < 0:\n",
    "            w =  w + n*S1[i]\n",
    "            count += 1\n",
    "        i += 1\n",
    "    for i in range(len(S2)):\n",
    "        if np.matmul(S2[i], wT) >= 0:\n",
    "            w =  w - n*S2[i]\n",
    "            count += 1\n",
    "        i += 1\n",
    "    m.append(count)\n",
    "    e.append(epoch)\n",
    "    wT = np.transpose(w)\n",
    "print(\"Final weights for learing rate 0.1 \" + str(w))"
   ]
  },
  {
   "cell_type": "code",
   "execution_count": 39,
   "metadata": {},
   "outputs": [
    {
     "name": "stdout",
     "output_type": "stream",
     "text": [
      "0\n"
     ]
    },
    {
     "data": {
      "text/plain": [
       "0"
      ]
     },
     "execution_count": 39,
     "metadata": {},
     "output_type": "execute_result"
    }
   ],
   "source": [
    "# Testing\n",
    "count = 0\n",
    "for i in range(len(S1)):\n",
    "    if np.matmul(S1[i], wT) < 0:\n",
    "        count += 1\n",
    "    i += 1\n",
    "print(count)    \n",
    "for i in range(len(S2)):\n",
    "    if np.matmul(S2[i], wT) >= 0:\n",
    "        count += 1\n",
    "    i += 1\n",
    "\n",
    "count "
   ]
  },
  {
   "cell_type": "code",
   "execution_count": 40,
   "metadata": {},
   "outputs": [
    {
     "name": "stdout",
     "output_type": "stream",
     "text": [
      "[0, 1, 2, 3, 4, 5]\n",
      "[800, 40, 13, 7, 2, 0]\n"
     ]
    },
    {
     "data": {
      "text/plain": [
       "<matplotlib.collections.PathCollection at 0x196a7f0a7b8>"
      ]
     },
     "execution_count": 40,
     "metadata": {},
     "output_type": "execute_result"
    },
    {
     "data": {
      "image/png": "[encoded data removed]",
      "text/plain": [
       "<Figure size 432x288 with 1 Axes>"
      ]
     },
     "metadata": {
      "needs_background": "light"
     },
     "output_type": "display_data"
    }
   ],
   "source": [
    "print(e)\n",
    "print(m)\n",
    "plt.scatter(e,m)"
   ]
  },
  {
   "cell_type": "code",
   "execution_count": null,
   "metadata": {},
   "outputs": [],
   "source": []
  }
 ],
 "metadata": {
  "kernelspec": {
   "display_name": "Python 3",
   "language": "python",
   "name": "python3"
  },
  "language_info": {
   "codemirror_mode": {
    "name": "ipython",
    "version": 3
   },
   "file_extension": ".py",
   "mimetype": "text/x-python",
   "name": "python",
   "nbconvert_exporter": "python",
   "pygments_lexer": "ipython3",
   "version": "3.7.3"
  }
 },
 "nbformat": 4,
 "nbformat_minor": 4
}
