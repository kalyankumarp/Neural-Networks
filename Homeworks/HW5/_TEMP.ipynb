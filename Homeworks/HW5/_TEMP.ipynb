{
 "cells": [
  {
   "cell_type": "code",
   "execution_count": 1,
   "metadata": {},
   "outputs": [],
   "source": [
    "import numpy as np\n",
    "import matplotlib.pyplot as plt\n",
    "import pandas as pd\n",
    "from numpy import random\n",
    "import time"
   ]
  },
  {
   "cell_type": "code",
   "execution_count": 2,
   "metadata": {},
   "outputs": [
    {
     "data": {
      "text/plain": [
       "(60000, 784)"
      ]
     },
     "execution_count": 2,
     "metadata": {},
     "output_type": "execute_result"
    }
   ],
   "source": [
    "from mnist import MNIST\n",
    "\n",
    "mndata = MNIST(r\"C:\\Users\\kalya\\OneDrive - University of Illinois at Chicago\\!UIC\\!Semesters\\2nd Sem\\Courses\\CS 559 NN\\Homeworks\\HW2\\Q2\\data\\t\")\n",
    "\n",
    "xtrain, ytrain = mndata.load_training()\n",
    "xtest, ytest = mndata.load_testing()\n",
    "xtrain = np.reshape(xtrain,(60000,784))\n",
    "xtest = np.reshape(xtest,(10000,784))\n",
    "ytrain = np.reshape(ytrain,(60000,1))\n",
    "ytest = np.reshape(ytest,(10000,1))\n",
    "xtrain = (xtrain)/255\n",
    "xtest = (xtest)/255\n",
    "xtrain.shape\n",
    "\n",
    "\n"
   ]
  },
  {
   "cell_type": "code",
   "execution_count": 3,
   "metadata": {},
   "outputs": [],
   "source": [
    "x_train = []\n",
    "x_test = []\n",
    "for i in range(len(xtrain)):\n",
    "    x_train.append(np.append(xtrain[i],1))\n",
    "\n",
    "for i in range(len(xtest)):\n",
    "    x_test.append(np.append(xtest[i],1))\n",
    "x_train = np.asarray(x_train)\n",
    "x_test = np.asarray(x_test)\n",
    "\n"
   ]
  },
  {
   "cell_type": "code",
   "execution_count": 4,
   "metadata": {},
   "outputs": [],
   "source": [
    "# x_test1 = pd.DataFrame(data = x_test.reshape(len(x_test),785))\n",
    "# ytest1 = pd.DataFrame(data = ytest.reshape(len(ytest),1))"
   ]
  },
  {
   "cell_type": "code",
   "execution_count": 5,
   "metadata": {},
   "outputs": [],
   "source": [
    "# x_test1.head()"
   ]
  },
  {
   "cell_type": "code",
   "execution_count": 6,
   "metadata": {},
   "outputs": [],
   "source": [
    "# x=[1,1]\n",
    "# np.linalg.norm(x)"
   ]
  },
  {
   "cell_type": "code",
   "execution_count": null,
   "metadata": {},
   "outputs": [],
   "source": [
    "ytrain"
   ]
  },
  {
   "cell_type": "code",
   "execution_count": 7,
   "metadata": {},
   "outputs": [],
   "source": [
    "# x =[[0,1, 1],[1,0, 0],[1,1, 0], [0,0, 0]]\n",
    "# y=[4,1,2,3]\n",
    "# x = np.asarray(x)\n",
    "# y = np.asarray(y)\n",
    "# d = np.zeros(shape = (len(x),10))\n",
    "# print(d)\n",
    "# for i in range(len(y)):\n",
    "#     d[i][y[i]] = 1\n",
    "\n",
    "# # dt = np.zeros(shape = (len(x),10))\n",
    "# # for i in range(len(ytest)):\n",
    "# #     dt[i][ytest[i]] = 1\n",
    "\n",
    "# d = np.zeros(shape = (len(x),10))\n",
    "# for i in range(len(y)):\n",
    "#     d[i][y[i]] = 1\n",
    "# xtrain = x\n",
    "# xtrain\n",
    "# d"
   ]
  },
  {
   "cell_type": "code",
   "execution_count": 394,
   "metadata": {},
   "outputs": [],
   "source": [
    "# d = np.zeros(shape = (len(xtrain),10))\n",
    "# for i in range(len(ytrain)):\n",
    "#     d[i][ytrain[i]] = 1\n",
    "\n",
    "# dt = np.zeros(shape = (len(xtest),10))\n",
    "# for i in range(len(ytest)):\n",
    "#     dt[i][ytest[i]] = 1\n",
    "\n",
    "#w = random.normal(size = (10,784))\n",
    "\n",
    "d = np.zeros(shape = (len(xtrain)))\n",
    "for i in range(len(ytrain)):\n",
    "    d[i] = ytrain[i][0]\n",
    "\n",
    "dt = np.zeros(shape = (len(xtest)))\n",
    "for i in range(len(ytest)):\n",
    "    dt[i] = ytest[i][0]"
   ]
  },
  {
   "cell_type": "code",
   "execution_count": 48,
   "metadata": {},
   "outputs": [
    {
     "data": {
      "text/plain": [
       "array([[2., 2.],\n",
       "       [3., 3.]])"
      ]
     },
     "execution_count": 48,
     "metadata": {},
     "output_type": "execute_result"
    }
   ],
   "source": [
    "a = [[1.5, 2.5], [2.6, 3.3]]\n",
    "np.around(a)"
   ]
  },
  {
   "cell_type": "code",
   "execution_count": 65,
   "metadata": {},
   "outputs": [],
   "source": [
    "# weights = np.random.uniform(low =-2, high = 2, size = (784, 60000))\n",
    "# np.matmul(weights, x_train)"
   ]
  },
  {
   "cell_type": "code",
   "execution_count": 395,
   "metadata": {},
   "outputs": [
    {
     "data": {
      "text/plain": [
       "array([5., 0., 4., ..., 5., 6., 8.])"
      ]
     },
     "execution_count": 395,
     "metadata": {},
     "output_type": "execute_result"
    }
   ],
   "source": [
    "d"
   ]
  },
  {
   "cell_type": "code",
   "execution_count": 67,
   "metadata": {},
   "outputs": [
    {
     "data": {
      "text/plain": [
       "array([ 4, 10, 18])"
      ]
     },
     "execution_count": 67,
     "metadata": {},
     "output_type": "execute_result"
    }
   ],
   "source": [
    "t = np.asarray([1,2,3])*(np.asarray([4,5,6]))\n",
    "t"
   ]
  },
  {
   "cell_type": "code",
   "execution_count": 384,
   "metadata": {},
   "outputs": [],
   "source": [
    "# x = np.asarray([[0,1],[1,0], [0,0], [1,1]])\n",
    "# d = np.asarray([15,20,0,0])"
   ]
  },
  {
   "cell_type": "code",
   "execution_count": 407,
   "metadata": {},
   "outputs": [],
   "source": [
    "import numpy as np\n",
    "np.random.seed(100)\n",
    "class Neural_Network():\n",
    "    \n",
    "    def __init__(self, x=[[]], y=[], nHiddenLayers = 0, nHiddenNodes =0, numOutputs = 0, eta = 1, iter = 0, prec = 0):\n",
    "        self.data = x\n",
    "        self.labels = y\n",
    "        self.nInputNodes = x.shape[1]\n",
    "        self.nHiddenLayers = nHiddenLayers\n",
    "        self.nHiddenNodes = nHiddenNodes\n",
    "        self.numOutputs = numOutputs\n",
    "        self.eta = eta\n",
    "        self.maxIt = iter\n",
    "        self.prec = prec\n",
    "\n",
    "        self.weights=[np.random.uniform(low = -1, high = 1, size = (self.nHiddenNodes, self.nInputNodes))]\n",
    "        for i in range(self.nHiddenLayers-1):\n",
    "            self.weights.append(np.random.uniform(low =-1, high = 1, size =(self.nHiddenNodes, self.nHiddenNodes))) \n",
    "        self.weights.append(np.random.uniform(low =-1, high = 1, size = (self.numOutputs, self.nHiddenNodes)))\n",
    "\n",
    "        # Sigmoid activation function\n",
    "\n",
    "    def sigmoid(self, s):      \n",
    "        return 1/(1+np.exp(-s))\n",
    "\n",
    "    #derivative of sigmoid\n",
    "    def sigmoidPrime(self, s):\n",
    "        return s * (1 - s)\n",
    "    \n",
    "    def af(self,s):\n",
    "        return np.round(1/(1+np.exp(-s))*10)\n",
    "    \n",
    "    def af_derivative(self,s):\n",
    "        return s * (1 - s)*10\n",
    "        \n",
    "    \n",
    "#     def decision_A(self,x):\n",
    "#         out =[]\n",
    "# #         print(x.shape)\n",
    "# #         print(f)\n",
    "#         for i in range(x.shape[0]):\n",
    "#             s =np.zeros(x.shape[1])\n",
    "            \n",
    "            \n",
    "#             max = np.argmax(x[i])\n",
    "#             #print(max)\n",
    "\n",
    "#             s[max] = 1\n",
    "#             out.append(s)\n",
    "#         out = np.asarray(out)\n",
    "#         print(out.shape)\n",
    "#         print(f)\n",
    "#         return out\n",
    "\n",
    "    def misclassifications(self, x,y):\n",
    "        count = 0\n",
    "        for i in range(y.shape[0]): \n",
    "            if np.any(x[i]-y[i]):\n",
    "                count += 1\n",
    "                \n",
    "        return count\n",
    "    \n",
    "    def predict(self):\n",
    "        prev = self.data.T\n",
    "        for i in range(len(self.weights)-1): \n",
    "            temp = (np.matmul(self.weights[i], prev))\n",
    "            temp2 = self.sigmoid(temp)\n",
    "            prev = temp2\n",
    "\n",
    "        temp_f = np.matmul(self.weights[self.nHiddenLayers], prev)\n",
    "        temp4 = self.af(np.transpose(temp_f))  \n",
    "        return temp4[:,0]\n",
    "    \n",
    "    def feedforward(self, x):\n",
    "        self.r = []\n",
    "        self.r.append(x)\n",
    "        prev = x.T\n",
    "        \n",
    "        for i in range(len(self.weights)-1):\n",
    "            temp = np.matmul(self.weights[i], prev)\n",
    "            temp2 = self.sigmoid(temp)\n",
    "            self.r.append(temp2)\n",
    "            prev = temp2\n",
    "            \n",
    "        temp_f = np.matmul(self.weights[self.nHiddenLayers], prev)\n",
    "        temp4 =self.af(temp_f.T) \n",
    "        return temp4[0][0]\n",
    "\n",
    "    def backward(self, x, y):        \n",
    "        o = self.feedforward(x)\n",
    "        self.out_error = y - o\n",
    "\n",
    "        for i in reversed(range(len(self.weights))):\n",
    "            if i == 0 and i != len(self.weights)-1:\n",
    "                temp2 = self.weights[i+1].T.dot(temp)\n",
    "                temp3 = temp2*self.sigmoidPrime(self.r[i+1]) \n",
    "                temp4 = temp3.dot(x)\n",
    "                self.weights[i] += (self.eta*temp4*2)/len(self.data)\n",
    "                temp = temp3\n",
    "                    \n",
    "            elif i > 0 and i<len(self.weights)-1:\n",
    "                temp2 = self.weights[i+1].T.dot(temp) \n",
    "                temp3 = temp2*self.sigmoidPrime(self.r[i+1])\n",
    "                temp4 = temp3.dot(self.r[i].T)\n",
    "                temp = temp3\n",
    "                self.weights[i] += (self.eta*temp4*2)/len(self.data)\n",
    "                    \n",
    "            elif i == len(self.weights)-1:\n",
    "                temp = self.out_error*self.af_derivative(o)\n",
    "                temp2 = temp*self.r[i].T          \n",
    "                self.weights[i] += (self.eta*temp2*2)/len(self.data)\n",
    "\n",
    "                \n",
    "\n",
    "\n",
    "    def train (self):\n",
    "        #print(self.eta)\n",
    "        print(self.weights)\n",
    "        e = 0\n",
    "        obj =[]\n",
    "        epoch = []\n",
    "        mis = []\n",
    "        epoch.append(e)\n",
    "        pred = self.predict()\n",
    "        obj.append(((np.linalg.norm(self.labels - pred))**2)/len(self.data))\n",
    "        mis.append(self.misclassifications(self.labels, pred))\n",
    "        mse = 100000000000\n",
    "        while e <= self.maxIt: \n",
    "            prev = mse\n",
    "            e += 1\n",
    "            for i in range(len(self.data)):                \n",
    "                self.backward(self.data[i].reshape(1,self.nInputNodes), self.labels[i])\n",
    "                \n",
    "            pred = self.predict()\n",
    "            mse = ((np.linalg.norm(self.labels - pred))**2)/len(self.data)\n",
    "            if mse >= prev:\n",
    "                self.eta = 0.8*self.eta\n",
    "            \n",
    "            obj.append(mse)\n",
    "            epoch.append(e)\n",
    "            mis.append(self.misclassifications(self.labels, pred))\n",
    "            prev = mse\n",
    "        return self.weights, epoch, obj, mis\n",
    "\n"
   ]
  },
  {
   "cell_type": "code",
   "execution_count": 409,
   "metadata": {},
   "outputs": [
    {
     "name": "stdout",
     "output_type": "stream",
     "text": [
      "[array([[ 0.74510151, -0.97257056, -0.96672134, ...,  0.0824183 ,\n",
      "         0.75222183, -0.95279818],\n",
      "       [-0.21910406,  0.20002094,  0.39458123, ..., -0.54673155,\n",
      "        -0.92968872, -0.46497605]]), array([[-0.58450461,  0.30241058]])]\n"
     ]
    }
   ],
   "source": [
    "nHiddenLayers = 1\n",
    "nHiddenNodes =2\n",
    "numOutputs = 1\n",
    "eta = 10\n",
    "iter = 10\n",
    "prec = 0.5\n",
    "#print(xtrain.shape)\n",
    "NN = Neural_Network(xtrain, d, nHiddenLayers, nHiddenNodes, numOutputs, eta, iter, prec)\n",
    "\n",
    "w, epoch, obj, mis = NN.train()"
   ]
  },
  {
   "cell_type": "code",
   "execution_count": 410,
   "metadata": {},
   "outputs": [],
   "source": [
    "def af_derivative(s):\n",
    "    return s * (1 - s)\n"
   ]
  },
  {
   "cell_type": "code",
   "execution_count": 411,
   "metadata": {},
   "outputs": [
    {
     "data": {
      "text/plain": [
       "0.20625761813189175"
      ]
     },
     "execution_count": 411,
     "metadata": {},
     "output_type": "execute_result"
    }
   ],
   "source": [
    "af_derivative(0.7091467950223198)"
   ]
  },
  {
   "cell_type": "code",
   "execution_count": 412,
   "metadata": {},
   "outputs": [
    {
     "data": {
      "image/png": "[encoded data removed]",
      "text/plain": [
       "<Figure size 1440x360 with 1 Axes>"
      ]
     },
     "metadata": {
      "needs_background": "light"
     },
     "output_type": "display_data"
    }
   ],
   "source": [
    "\n",
    "fig, ax = plt.subplots(figsize = (20,5))\n",
    "plt.scatter(epoch,obj, s  = 7)\n",
    "plt.plot(epoch,obj)\n",
    "plt.xlabel(\"Epoch\")\n",
    "plt.ylabel(\"MSE\")\n",
    "plt.title('Plot: the number of epochs vs the MSE')\n",
    "plt.show()"
   ]
  },
  {
   "cell_type": "code",
   "execution_count": 413,
   "metadata": {},
   "outputs": [
    {
     "data": {
      "image/png": "[encoded data removed]",
      "text/plain": [
       "<Figure size 1440x360 with 1 Axes>"
      ]
     },
     "metadata": {
      "needs_background": "light"
     },
     "output_type": "display_data"
    }
   ],
   "source": [
    "\n",
    "fig, ax = plt.subplots(figsize = (20,5))\n",
    "plt.scatter(epoch,mis, s  = 7)\n",
    "plt.plot(epoch,mis)\n",
    "plt.xlabel(\"Epoch\")\n",
    "plt.ylabel(\"MISC\")\n",
    "plt.title('Plot: the number of epochs vs the misclassifications')\n",
    "plt.show()"
   ]
  },
  {
   "cell_type": "code",
   "execution_count": 366,
   "metadata": {},
   "outputs": [],
   "source": [
    "# Sigmoid activation function\n",
    "\n",
    "def sigmoid(s):      \n",
    "    return 1/(1+np.exp(-s))\n",
    "\n",
    "\n",
    "\n",
    "def predict(x,w, nHiddenLayers):\n",
    "    prev = x.T\n",
    "    for i in range(len(w)-1):\n",
    "        temp = np.matmul(w[i], prev)\n",
    "        temp2 = sigmoid(temp)\n",
    "        prev = temp2\n",
    "    temp_f = np.matmul(w[nHiddenLayers], prev)\n",
    "    temp4 = sigmoid(np.transpose(temp_f))      \n",
    "    return temp4"
   ]
  },
  {
   "cell_type": "code",
   "execution_count": 367,
   "metadata": {},
   "outputs": [
    {
     "data": {
      "text/plain": [
       "array([[0.01666751],\n",
       "       [0.99648967],\n",
       "       [0.11520181],\n",
       "       [0.01676155]])"
      ]
     },
     "execution_count": 367,
     "metadata": {},
     "output_type": "execute_result"
    }
   ],
   "source": [
    "predict(x, w, 1)"
   ]
  },
  {
   "cell_type": "code",
   "execution_count": 356,
   "metadata": {},
   "outputs": [],
   "source": [
    "# import numpy as np\n",
    "# np.random.seed(105)\n",
    "# class Neural_Network():\n",
    "    \n",
    "#     def __init__(self, x=[[]], y=[], nHiddenLayers = 0, nHiddenNodes =0, numOutputs = 0, eta = 1, iter = 0, prec = 0):\n",
    "#         self.data = x\n",
    "#         self.labels = y\n",
    "#         self.nInputNodes = x.shape[1]\n",
    "#         self.nHiddenLayers = nHiddenLayers\n",
    "#         self.nHiddenNodes = nHiddenNodes\n",
    "#         self.numOutputs = numOutputs\n",
    "#         self.eta = eta\n",
    "#         self.maxIt = iter\n",
    "#         self.prec = prec\n",
    "        \n",
    "#         #weights\n",
    "#         self.weights=[np.random.uniform(low = -1, high = 1, size = (self.nHiddenNodes, self.nInputNodes))]\n",
    "#         for i in range(self.nHiddenLayers-1):\n",
    "#             self.weights.append(np.random.uniform(low =-1, high = 1, size =(self.nHiddenNodes, self.nHiddenNodes))) \n",
    "#         self.weights.append(np.random.uniform(low =-1, high = 1, size = (self.numOutputs, self.nHiddenNodes)))\n",
    "\n",
    "#         # Sigmoid activation function\n",
    "\n",
    "#     def sigmoid(self, s):      \n",
    "#         return 1/(1+np.exp(-s))\n",
    "\n",
    "\n",
    "#     #derivative of sigmoid\n",
    "#     def sigmoidPrime(self, s):\n",
    "#         return s * (1 - s)\n",
    "    \n",
    "#     def af(self,x):\n",
    "#         x = x.T\n",
    "#         #print(x)\n",
    "\n",
    "#         max = np.argmax(x)          \n",
    "#         y = np.zeros(x.shape[1])\n",
    "#         y[max] = 1\n",
    "#         return np.asarray(y)\n",
    "    \n",
    "#     def decision_A(self,x):\n",
    "#         out =[]\n",
    "# #         print(x.shape)\n",
    "# #         print(f)\n",
    "#         for i in range(x.shape[0]):\n",
    "#             s =np.zeros(x.shape[1])\n",
    "            \n",
    "            \n",
    "#             max = np.argmax(x[i])\n",
    "#             #print(max)\n",
    "\n",
    "#             s[max] = 1\n",
    "#             out.append(s)\n",
    "#         out = np.asarray(out)\n",
    "#         print(out.shape)\n",
    "#         print(f)\n",
    "#         return out\n",
    "\n",
    "#     def misclassifications(self, x,y):\n",
    "# #         print(x)\n",
    "# #         print(y)\n",
    "#         #print(f)\n",
    "#         count = 0\n",
    "# #         x = x.reshape(1,y.shape[1])\n",
    "#         for i in range(y.shape[0]): \n",
    "#             if np.any(x[i]-y[i]):\n",
    "#                 count += 1\n",
    "#         return count\n",
    "    \n",
    "#     def predict(self):\n",
    "# #         print(self.data.shape)\n",
    "# #         print(f)\n",
    "#         prev = self.data.T\n",
    "#         for i in range(len(self.weights)-1): \n",
    "\n",
    "#             temp = (np.matmul(self.weights[i], prev))\n",
    "# #             print(temp.shape)\n",
    "# #             print(f)\n",
    "#             temp2 = self.sigmoid(temp)\n",
    "#             prev = temp2\n",
    "# #         print(temp)\n",
    "# #         print(prev)\n",
    "# #         print(f)\n",
    "#         temp_f = np.matmul(self.weights[self.nHiddenLayers], prev)\n",
    "#         #print(temp_f)\n",
    "#         temp4 = np.transpose(temp_f)\n",
    "#         print(temp4)\n",
    "#         print(f)       \n",
    "#         return temp4[:,0]\n",
    "# #         return temp_f\n",
    "    \n",
    "#     def feedforward(self, x):\n",
    "#         self.r = []\n",
    "#         self.r.append(x)\n",
    "# #         print(x)\n",
    "# #         print(x.shape)\n",
    "# #         print(f)\n",
    "#         prev = x.T\n",
    "#         for i in range(len(self.weights)-1):\n",
    "#             #print(prev)\n",
    "# #             print(self.weights[i])\n",
    "#             temp = np.matmul(self.weights[i], prev)\n",
    "# #             print(temp)\n",
    "# #             print(f)\n",
    "\n",
    "#             temp2 = self.sigmoid(temp)\n",
    "#             self.r.append(temp2)\n",
    "#             prev = temp2\n",
    "#             #print(prev.shape)\n",
    "            \n",
    "# #         print(self.weights[self.nHiddenLayers])\n",
    "# #         print(prev)        \n",
    "#         temp_f = np.matmul(self.weights[self.nHiddenLayers], prev)\n",
    "#         #print(temp_f)\n",
    "#         temp4 =temp_f.T \n",
    "#         print(temp4)\n",
    "#         print(f)\n",
    "#         return temp4\n",
    "# #         return temp_f\n",
    "\n",
    "#     def backward(self, x, y):\n",
    "# #         print(y)\n",
    "        \n",
    "#         o = self.feedforward(x)\n",
    "# #         print(o[0,:])\n",
    "\n",
    "\n",
    "\n",
    "#         self.out_error = y - o[0,:]\n",
    "\n",
    "#         #print(self.out_error)\n",
    "# #         print(f)\n",
    "#         #o = o.reshape(self.numOutputs,1)\n",
    "\n",
    "#         for i in reversed(range(len(self.weights))):\n",
    "#             if i == 0 and i != len(self.weights)-1:\n",
    "#                 temp2 = self.weights[i+1].T.dot(temp) \n",
    "#                 print(temp2)\n",
    "#                 #print(self.sigmoidPrime(self.r[i+1]).shape)\n",
    "#                 temp3 = temp2*self.sigmoidPrime(self.r[i+1])\n",
    "#                 print(temp3)\n",
    "#                 print(x.shape)\n",
    "                \n",
    "#                 temp4 = temp3.dot(x)\n",
    "                \n",
    "#                 print(temp4)\n",
    "#                 print(f)\n",
    "                \n",
    "#                 print(self.weights[i])\n",
    "#                 self.weights[i] += (self.eta*temp4*2)/len(self.data)\n",
    "# #                 print(self.weights[i])\n",
    "# #                 print(f)\n",
    "#                 temp = temp3\n",
    "                    \n",
    "#             elif i > 0 and i<len(self.weights)-1:\n",
    "#                 temp2 = self.weights[i+1].T.dot(temp) \n",
    "# #                 print(temp2.shape)\n",
    "# #                 print(self.sigmoidPrime(self.r[i+1]).shape)\n",
    "#                 temp3 = temp2*self.sigmoidPrime(self.r[i+1])\n",
    "# #                 print(temp3.shape)\n",
    "#                 temp4 = temp3.dot(self.r[i])\n",
    "# #                 print(self.weights[i])\n",
    "# #                 print(temp4)\n",
    "\n",
    "#                 self.weights[i] += (self.eta*temp4*2)/len(self.data)\n",
    "# #                 print(self.weights[i])\n",
    "# #                 print(f)\n",
    "# #                 temp = temp3\n",
    "    \n",
    "# #                 temp2 = temp.dot(self.weights[i+1])\n",
    "# #                 temp3 = temp2*self.sigmoidPrime(self.r[i+1].T)\n",
    "# #                 self.weights[i] += self.eta*(temp3.T.dot(self.r[i].T)*2/len(self.data))\n",
    "# #                 temp = temp3\n",
    "                    \n",
    "#             elif i == len(self.weights)-1:\n",
    "# #                 print(o)\n",
    "# #                 print(self.sigmoidPrime(o).reshape(1,10))\n",
    "#                 temp = self.out_error.reshape(self.numOutputs,1)*self.sigmoidPrime(o)\n",
    "# #                 print(temp)\n",
    "# #                 print(self.r[i].T)\n",
    "#                 temp2 = temp.dot(self.r[i].T)\n",
    "# #                 print(temp.dot(self.r[i].T))\n",
    "# #                 print(self.weights[i])\n",
    "# #                 print(temp2)\n",
    "# #                 print(f)\n",
    "#                 self.weights[i] += (self.eta*temp2*2)/len(self.data)\n",
    "# #                 print(self.weights[i])\n",
    "# #                 print(f)\n",
    "\n",
    "                \n",
    "\n",
    "\n",
    "#     def train (self):\n",
    "#         #print(self.eta)\n",
    "#         #print(self.weights)\n",
    "#         e = 0\n",
    "#         obj =[]\n",
    "#         epoch = []\n",
    "#         mis = []\n",
    "#         epoch.append(e)\n",
    "#         pred = self.predict()\n",
    "# #         print(self.labels)\n",
    "# #         print(pred)\n",
    "# #         print(f)\n",
    "#         obj.append(((np.linalg.norm(self.labels - pred))**2)/len(self.data))\n",
    "#         print(obj)\n",
    "#         print(f)\n",
    "#         mis.append(self.misclassifications(self.labels, pred))\n",
    "#         mse = 100000000000\n",
    "#         while mse >= self.prec and e <= self.maxIt: \n",
    "#             prev = mse\n",
    "#             e += 1\n",
    "#             for i in range(len(self.data)):\n",
    "                \n",
    "#                 self.backward(self.data[i].reshape(1,self.nInputNodes), self.labels[i])\n",
    "#             pred = self.predict()\n",
    "\n",
    "#             mse = ((np.linalg.norm(self.labels - pred))**2)/len(self.data)\n",
    "#             if mse >= prev:\n",
    "#                 self.eta = 0.9*self.eta\n",
    "            \n",
    "#             obj.append(mse)\n",
    "#             epoch.append(e)\n",
    "#             mis.append(self.misclassifications(self.labels, pred))\n",
    "#             prev = mse\n",
    "#         return self.weights, epoch, obj, mis\n",
    "\n"
   ]
  },
  {
   "cell_type": "code",
   "execution_count": 16,
   "metadata": {},
   "outputs": [],
   "source": [
    "import numpy as np\n",
    "#np.random.seed(100)\n",
    "\n",
    "\n",
    "# # Rectified linear Unit Activation Function\n",
    "# def af(t):\n",
    "#     if t >= 0: \n",
    "#         return t\n",
    "#     else:\n",
    "#         return 0\n",
    "\n",
    "# # Its derivative\n",
    "# def af_derivative(p):\n",
    "#     if p >= 0:\n",
    "#         return 1\n",
    "#     else:\n",
    "#         return 0\n",
    "\n",
    "# Sigmoid is the activation Function\n",
    "def af(t):\n",
    "    return 1 / (1 + np.exp(-t))\n",
    "\n",
    "def af_derivative(p):\n",
    "    return af(p) * (1 -af(p))\n",
    "\n",
    "def decision(x):\n",
    "    if x >= 0.5:\n",
    "        return 1\n",
    "    else:\n",
    "        return 0\n",
    "    \n",
    "def mse_misclassifications(x, d, w, nLayers, nNodes):\n",
    "    c = 0\n",
    "    count = 0\n",
    "    n = len(x)\n",
    "    for i in range(0,n):\n",
    "        prev = x[i]             \n",
    "        for j in range(nLayers):\n",
    "            u =[]\n",
    "            p =[]\n",
    "            for k in range(nNodes):\n",
    "                t = np.dot(w[j]['weights'][k], prev)\n",
    "                u.append(t)\n",
    "            for l in u:\n",
    "                p.append(af(l))\n",
    "            p.append(1)\n",
    "            prev = np.asarray(p)\n",
    "        #print(w[nLayers][\"weights\"][0])\n",
    "        y = np.dot(w[nLayers][\"weights\"][0], prev)\n",
    "        if np.any(d[i] - y):\n",
    "            count += 1\n",
    "        c += np.linalg.norm(d[i] - y)**2           \n",
    "    return c/n, count\n",
    "\n",
    "\n",
    "\n",
    "#np.random.seed(100)\n",
    "class NeuralNetwork:\n",
    "    \n",
    "    def __init__(self,x=[],y=[],numLayers=2,numNodes=2, numOutputs = 1, eta=0.001,maxIter=10000, ep = 0):\n",
    "        self.labels = y\n",
    "        self.nLayers = numLayers\n",
    "        self.nNodes = numNodes\n",
    "        self.numOutputs = numOutputs\n",
    "        self.eta = eta\n",
    "        self.temp_eta = eta\n",
    "        self.maxIt = maxIter\n",
    "        self.ep = ep\n",
    "        #self.train()\n",
    "        #self.g = len(self.data[0])*numLayers + numLayers*numNodes + numNodes*numOutputs\n",
    "#         newdata = []\n",
    "#         for i in range(len(x)):\n",
    "#             newdata.append(np.append(x[i],1))     \n",
    "        self.data = x\n",
    "        self.weights = [{\"weights\":np.random.uniform(low =-2, high = 2, size = (self.nNodes, len(self.data[0])))}] \n",
    "        for i in range(self.nLayers):\n",
    "            self.weights.append({\"weights\":np.random.uniform(low =-2, high = 2, size = (self.nNodes,self.nNodes+1))})             \n",
    "        if self.nLayers >= 0:            \n",
    "            self.weights.append({\"weights\":np.random.uniform(low =-2, high = 2, size = (self.numOutputs,self.nNodes+1))})\n",
    "        self.temp_weights = self.weights\n",
    "         \n",
    "        \n",
    "    def train(self):\n",
    "        np.random.shuffle(self.data)\n",
    "        #print(self.weights[0]['weights'][0])\n",
    "        \n",
    "        temp_weights = self.weights\n",
    "        temp_eta = self.temp_eta\n",
    "        temp2, temp3 = mse_misclassifications(self.data, self.labels, self.weights, self.nLayers + 1, self.nNodes)\n",
    "        print(temp2)\n",
    "        print(temp3)\n",
    "#         print(f)\n",
    "        e = 0\n",
    "        obj =[]\n",
    "        epoch = []\n",
    "        mis = []\n",
    "        epoch.append(e)\n",
    "        obj.append(temp2)\n",
    "        mis.append(temp3)\n",
    "        cos = 100000000\n",
    "        while e < self.maxIt:\n",
    "            print(e)\n",
    "            #print(\"K\")\n",
    "#         while cos >= self.ep and e <= self.maxIt:\n",
    "            #start = time.time()\n",
    "            #print(start)\n",
    "            prev = cos\n",
    "            np.random.shuffle(self.data)\n",
    "            i = 0\n",
    "            while i < len(self.data):\n",
    "                #print(i)\n",
    "                #print(len(self.data[i]))\n",
    "                self.backprop(self.labels[i], self.data[i]) \n",
    "                for m in range(len(self.weights)):\n",
    "                    for j in range(len(self.weights[m]['weights'])):\n",
    "                        for k in range(len(self.weights[m]['weights'][j])):\n",
    "                            self.weights[m]['weights'][j][k] -= self.eta *self.weights[m]['g'][j][k]\n",
    "                i += 1\n",
    "                #end = time.time()\n",
    "                #print(end - start)\n",
    "#                 if end - start > 720:\n",
    "#                     i = len(self.data)\n",
    "                #print(f)\n",
    "#             start = time.time()\n",
    "#             print(start)\n",
    "            cos, misc = mse_misclassifications(self.data, self.labels, self.weights, self.nLayers + 1,self.nNodes)\n",
    "#             end = time.time()\n",
    "#             print(end - start)            \n",
    "            epoch.append(e)\n",
    "            obj.append(cos)\n",
    "            mis.append(misc)\n",
    "            e += 1\n",
    "\n",
    "#             if cos > prev:\n",
    "#                 self.eta = 0.9*self.eta\n",
    "# #                 obj =[]\n",
    "# #                 epoch = []\n",
    "# #                 e = 0\n",
    "# #                 cos = 100000000\n",
    "# #                 self.weights = temp_weights\n",
    "# #                 print(temp_weights)\n",
    "                \n",
    "#                 if self.eta <= 0.00001:                    \n",
    "#                     self.eta = temp_eta  \n",
    "# #                     obj =[]\n",
    "# #                     epoch = []\n",
    "# #                     e = 0\n",
    "# #                     cos = 100000000\n",
    "#                     self.weights = [{\"weights\":np.random.uniform(low =-2, high = 2, size = (self.nNodes, len(self.data[0])))}] \n",
    "#                     for i in range(self.nLayers):\n",
    "#                         self.weights.append({\"weights\":np.random.uniform(low =-2, high =2, size = (self.nNodes,self.nNodes+1))})             \n",
    "#                     if self.nLayers >= 0:            \n",
    "#                         self.weights.append({\"weights\":np.random.uniform(low =-2, high = 2, size = (self.numOutputs,self.nNodes+1))})\n",
    "                   \n",
    "#             elif cos <= prev:\n",
    "#                 epoch.append(e)\n",
    "#                 obj.append(cos)\n",
    "#                 e += 1\n",
    "        return self.weights, obj, epoch, mis   \n",
    "       \n",
    "\n",
    "    def feedforward(self,x=[]):\n",
    "        #print(x)\n",
    "        prev = x\n",
    "        r =[]      \n",
    "        r.append(prev)\n",
    "        t =[]\n",
    "        for j in range(self.nLayers + 1):\n",
    "            l = []\n",
    "            s = []\n",
    "            for m in range(self.nNodes):\n",
    "                #print(self.weights[j][\"weights\"][m])\n",
    "                s.append(np.matmul(self.weights[j][\"weights\"][m], prev)) \n",
    "#                 print(s)\n",
    "#                 print(f)\n",
    "            for k in s:\n",
    "                l.append(af(k))\n",
    "            l.append(1)\n",
    "            #print(\"S= \" +str(s))\n",
    "            prev = np.asarray(l)\n",
    "            t.append(s)\n",
    "            r.append(l)\n",
    "            \n",
    "        s =[]\n",
    "        for i in range(self.numOutputs):\n",
    "            \n",
    "            p = np.matmul(self.weights[self.nLayers + 1][\"weights\"][i], l)\n",
    "            s.append(decision(af(p)))\n",
    "        t.append(s)              \n",
    "        return t,r        \n",
    "\n",
    "    def backprop(self, d, data):\n",
    "        der = []  \n",
    "        \n",
    "        t,r = self.feedforward(data)\n",
    "#         print('\\n')\n",
    "#         print(\"t = \" + str(t))\n",
    "#         print('\\n')\n",
    "#         print('r = ' + str(r))\n",
    "        \n",
    "        for i in range(self.nLayers + 1):\n",
    "            a =[]\n",
    "            for m in range(self.nNodes):\n",
    "                a.append(af_derivative(t[i][m]))\n",
    "            der.append(a)\n",
    "#         print(\"Labels = \" +str(d))\n",
    "#         print(\"Expected = \" +str(t[self.nLayers]))\n",
    "        diff = d - t[self.nLayers + 1]\n",
    "#         print(diff)\n",
    "#         print(f)\n",
    "        s =[]\n",
    "        for k in range(self.numOutputs):\n",
    "            s.append(af_derivative(t[self.nLayers + 1][k]))\n",
    "\n",
    "        der.append(s)\n",
    "    \n",
    "        for i in reversed(range(len(self.weights))):\n",
    "            layer = self.weights[i]\n",
    "            errors = []\n",
    "            if i != len(self.weights)-1:\n",
    "                for j in range(len(layer['weights'])):\n",
    "                    error = 0\n",
    "                    \n",
    "                    for k in range(len(self.weights[i + 1]['weights'])):\n",
    "                        error += (self.weights[i + 1]['weights'][k][j] * self.weights[i + 1]['s'][k])\n",
    "                    errors.append(error)\n",
    "                layer['s'] = []\n",
    "                for j in range(len(layer['weights'])):\n",
    "                    layer['s'].append(errors[j]*der[i][j])\n",
    "            else:\n",
    "                errors.append(diff)\n",
    "\n",
    "                layer['s'] = []\n",
    "                for j in range(len(layer['weights'])):\n",
    "                    layer['s'].append(errors[0][j]*der[i][j])\n",
    "\n",
    "\n",
    "\n",
    "# Finding the corresponding gradient vector\n",
    "                \n",
    "        for j in range(len(self.weights)):\n",
    "            layer = self.weights[j]\n",
    "            layer['g'] = []\n",
    "            for k in range(len(self.weights[j]['weights'])):\n",
    "                s =[]\n",
    "                for m in range(len(self.weights[j]['weights'][k])):\n",
    "                    s.append(((-(r[j][m])*self.weights[j]['s'][k])*2)/len(self.data))\n",
    "                layer['g'].append(s)\n",
    "\n",
    "        return 0.0"
   ]
  },
  {
   "cell_type": "code",
   "execution_count": null,
   "metadata": {},
   "outputs": [
    {
     "name": "stdout",
     "output_type": "stream",
     "text": [
      "1184.1032128316233\n",
      "60000\n",
      "0\n"
     ]
    }
   ],
   "source": [
    "numHiddenLayers = 0\n",
    "nNodes = 784\n",
    "nOut = 10\n",
    "eta = 1\n",
    "iter = 2\n",
    "epd = 1\n",
    "w, obj ,epoch = NeuralNetwork(x_train,d, numHiddenLayers, nNodes, nOut, eta, iter, epd).train()"
   ]
  },
  {
   "cell_type": "code",
   "execution_count": 33,
   "metadata": {},
   "outputs": [
    {
     "data": {
      "text/plain": [
       "6"
      ]
     },
     "execution_count": 33,
     "metadata": {},
     "output_type": "execute_result"
    }
   ],
   "source": [
    "len(epoch)"
   ]
  },
  {
   "cell_type": "code",
   "execution_count": 31,
   "metadata": {},
   "outputs": [
    {
     "ename": "ValueError",
     "evalue": "x and y must be the same size",
     "output_type": "error",
     "traceback": [
      "\u001b[1;31m---------------------------------------------------------------------------\u001b[0m",
      "\u001b[1;31mValueError\u001b[0m                                Traceback (most recent call last)",
      "\u001b[1;32m<ipython-input-31-775df8a45dbd>\u001b[0m in \u001b[0;36m<module>\u001b[1;34m\u001b[0m\n\u001b[1;32m----> 1\u001b[1;33m \u001b[0mplt\u001b[0m\u001b[1;33m.\u001b[0m\u001b[0mscatter\u001b[0m\u001b[1;33m(\u001b[0m\u001b[0mepoch\u001b[0m\u001b[1;33m,\u001b[0m\u001b[0mobj\u001b[0m\u001b[1;33m)\u001b[0m\u001b[1;33m\u001b[0m\u001b[1;33m\u001b[0m\u001b[0m\n\u001b[0m\u001b[0;32m      2\u001b[0m \u001b[1;31m#print(np.array_equal(wopt,w))\u001b[0m\u001b[1;33m\u001b[0m\u001b[1;33m\u001b[0m\u001b[1;33m\u001b[0m\u001b[0m\n\u001b[0;32m      3\u001b[0m \u001b[0mplt\u001b[0m\u001b[1;33m.\u001b[0m\u001b[0mtitle\u001b[0m\u001b[1;33m(\u001b[0m\u001b[1;34m\"Scatter Plot for n = 50, e = 0, learning rate = 1\"\u001b[0m\u001b[1;33m)\u001b[0m\u001b[1;33m\u001b[0m\u001b[1;33m\u001b[0m\u001b[0m\n\u001b[0;32m      4\u001b[0m \u001b[0mplt\u001b[0m\u001b[1;33m.\u001b[0m\u001b[0mylabel\u001b[0m\u001b[1;33m(\u001b[0m\u001b[1;34m\"Errors\"\u001b[0m\u001b[1;33m)\u001b[0m\u001b[1;33m\u001b[0m\u001b[1;33m\u001b[0m\u001b[0m\n\u001b[0;32m      5\u001b[0m \u001b[0mplt\u001b[0m\u001b[1;33m.\u001b[0m\u001b[0mxlabel\u001b[0m\u001b[1;33m(\u001b[0m\u001b[1;34m\"Epoch\"\u001b[0m\u001b[1;33m)\u001b[0m\u001b[1;33m\u001b[0m\u001b[1;33m\u001b[0m\u001b[0m\n",
      "\u001b[1;32m~\\Anaconda3\\lib\\site-packages\\matplotlib\\pyplot.py\u001b[0m in \u001b[0;36mscatter\u001b[1;34m(x, y, s, c, marker, cmap, norm, vmin, vmax, alpha, linewidths, verts, edgecolors, plotnonfinite, data, **kwargs)\u001b[0m\n\u001b[0;32m   2839\u001b[0m         \u001b[0mverts\u001b[0m\u001b[1;33m=\u001b[0m\u001b[0mverts\u001b[0m\u001b[1;33m,\u001b[0m \u001b[0medgecolors\u001b[0m\u001b[1;33m=\u001b[0m\u001b[0medgecolors\u001b[0m\u001b[1;33m,\u001b[0m\u001b[1;33m\u001b[0m\u001b[1;33m\u001b[0m\u001b[0m\n\u001b[0;32m   2840\u001b[0m         plotnonfinite=plotnonfinite, **({\"data\": data} if data is not\n\u001b[1;32m-> 2841\u001b[1;33m         None else {}), **kwargs)\n\u001b[0m\u001b[0;32m   2842\u001b[0m     \u001b[0msci\u001b[0m\u001b[1;33m(\u001b[0m\u001b[0m__ret\u001b[0m\u001b[1;33m)\u001b[0m\u001b[1;33m\u001b[0m\u001b[1;33m\u001b[0m\u001b[0m\n\u001b[0;32m   2843\u001b[0m     \u001b[1;32mreturn\u001b[0m \u001b[0m__ret\u001b[0m\u001b[1;33m\u001b[0m\u001b[1;33m\u001b[0m\u001b[0m\n",
      "\u001b[1;32m~\\Anaconda3\\lib\\site-packages\\matplotlib\\__init__.py\u001b[0m in \u001b[0;36minner\u001b[1;34m(ax, data, *args, **kwargs)\u001b[0m\n\u001b[0;32m   1597\u001b[0m     \u001b[1;32mdef\u001b[0m \u001b[0minner\u001b[0m\u001b[1;33m(\u001b[0m\u001b[0max\u001b[0m\u001b[1;33m,\u001b[0m \u001b[1;33m*\u001b[0m\u001b[0margs\u001b[0m\u001b[1;33m,\u001b[0m \u001b[0mdata\u001b[0m\u001b[1;33m=\u001b[0m\u001b[1;32mNone\u001b[0m\u001b[1;33m,\u001b[0m \u001b[1;33m**\u001b[0m\u001b[0mkwargs\u001b[0m\u001b[1;33m)\u001b[0m\u001b[1;33m:\u001b[0m\u001b[1;33m\u001b[0m\u001b[1;33m\u001b[0m\u001b[0m\n\u001b[0;32m   1598\u001b[0m         \u001b[1;32mif\u001b[0m \u001b[0mdata\u001b[0m \u001b[1;32mis\u001b[0m \u001b[1;32mNone\u001b[0m\u001b[1;33m:\u001b[0m\u001b[1;33m\u001b[0m\u001b[1;33m\u001b[0m\u001b[0m\n\u001b[1;32m-> 1599\u001b[1;33m             \u001b[1;32mreturn\u001b[0m \u001b[0mfunc\u001b[0m\u001b[1;33m(\u001b[0m\u001b[0max\u001b[0m\u001b[1;33m,\u001b[0m \u001b[1;33m*\u001b[0m\u001b[0mmap\u001b[0m\u001b[1;33m(\u001b[0m\u001b[0msanitize_sequence\u001b[0m\u001b[1;33m,\u001b[0m \u001b[0margs\u001b[0m\u001b[1;33m)\u001b[0m\u001b[1;33m,\u001b[0m \u001b[1;33m**\u001b[0m\u001b[0mkwargs\u001b[0m\u001b[1;33m)\u001b[0m\u001b[1;33m\u001b[0m\u001b[1;33m\u001b[0m\u001b[0m\n\u001b[0m\u001b[0;32m   1600\u001b[0m \u001b[1;33m\u001b[0m\u001b[0m\n\u001b[0;32m   1601\u001b[0m         \u001b[0mbound\u001b[0m \u001b[1;33m=\u001b[0m \u001b[0mnew_sig\u001b[0m\u001b[1;33m.\u001b[0m\u001b[0mbind\u001b[0m\u001b[1;33m(\u001b[0m\u001b[0max\u001b[0m\u001b[1;33m,\u001b[0m \u001b[1;33m*\u001b[0m\u001b[0margs\u001b[0m\u001b[1;33m,\u001b[0m \u001b[1;33m**\u001b[0m\u001b[0mkwargs\u001b[0m\u001b[1;33m)\u001b[0m\u001b[1;33m\u001b[0m\u001b[1;33m\u001b[0m\u001b[0m\n",
      "\u001b[1;32m~\\Anaconda3\\lib\\site-packages\\matplotlib\\axes\\_axes.py\u001b[0m in \u001b[0;36mscatter\u001b[1;34m(self, x, y, s, c, marker, cmap, norm, vmin, vmax, alpha, linewidths, verts, edgecolors, plotnonfinite, **kwargs)\u001b[0m\n\u001b[0;32m   4441\u001b[0m         \u001b[0my\u001b[0m \u001b[1;33m=\u001b[0m \u001b[0mnp\u001b[0m\u001b[1;33m.\u001b[0m\u001b[0mma\u001b[0m\u001b[1;33m.\u001b[0m\u001b[0mravel\u001b[0m\u001b[1;33m(\u001b[0m\u001b[0my\u001b[0m\u001b[1;33m)\u001b[0m\u001b[1;33m\u001b[0m\u001b[1;33m\u001b[0m\u001b[0m\n\u001b[0;32m   4442\u001b[0m         \u001b[1;32mif\u001b[0m \u001b[0mx\u001b[0m\u001b[1;33m.\u001b[0m\u001b[0msize\u001b[0m \u001b[1;33m!=\u001b[0m \u001b[0my\u001b[0m\u001b[1;33m.\u001b[0m\u001b[0msize\u001b[0m\u001b[1;33m:\u001b[0m\u001b[1;33m\u001b[0m\u001b[1;33m\u001b[0m\u001b[0m\n\u001b[1;32m-> 4443\u001b[1;33m             \u001b[1;32mraise\u001b[0m \u001b[0mValueError\u001b[0m\u001b[1;33m(\u001b[0m\u001b[1;34m\"x and y must be the same size\"\u001b[0m\u001b[1;33m)\u001b[0m\u001b[1;33m\u001b[0m\u001b[1;33m\u001b[0m\u001b[0m\n\u001b[0m\u001b[0;32m   4444\u001b[0m \u001b[1;33m\u001b[0m\u001b[0m\n\u001b[0;32m   4445\u001b[0m         \u001b[1;32mif\u001b[0m \u001b[0ms\u001b[0m \u001b[1;32mis\u001b[0m \u001b[1;32mNone\u001b[0m\u001b[1;33m:\u001b[0m\u001b[1;33m\u001b[0m\u001b[1;33m\u001b[0m\u001b[0m\n",
      "\u001b[1;31mValueError\u001b[0m: x and y must be the same size"
     ]
    },
    {
     "data": {
      "image/png": "[encoded data removed]",
      "text/plain": [
       "<Figure size 432x288 with 1 Axes>"
      ]
     },
     "metadata": {
      "needs_background": "light"
     },
     "output_type": "display_data"
    }
   ],
   "source": [
    "plt.scatter(epoch,obj)\n",
    "#print(np.array_equal(wopt,w))\n",
    "plt.title(\"Scatter Plot for n = 50, e = 0, learning rate = 1\")\n",
    "plt.ylabel(\"Errors\")\n",
    "plt.xlabel(\"Epoch\")"
   ]
  },
  {
   "cell_type": "code",
   "execution_count": 9,
   "metadata": {},
   "outputs": [
    {
     "name": "stdout",
     "output_type": "stream",
     "text": [
      "4306\n",
      "Percentage of testing error for training with n = 50, e = 0, learning rate = 1 is 43.059999999999995\n"
     ]
    }
   ],
   "source": [
    "count = error(xtest, dt, wopt, 10000)\n",
    "print(count)\n",
    "print(\"Percentage of testing error for training with n = 50, e = 0, learning rate = 1 is \" + str((count/10000)*100))"
   ]
  },
  {
   "cell_type": "code",
   "execution_count": 10,
   "metadata": {},
   "outputs": [
    {
     "data": {
      "text/plain": [
       "Text(0.5, 0, 'Epoch')"
      ]
     },
     "execution_count": 10,
     "metadata": {},
     "output_type": "execute_result"
    },
    {
     "data": {
      "image/png": "[encoded data removed]",
      "text/plain": [
       "<Figure size 432x288 with 1 Axes>"
      ]
     },
     "metadata": {
      "needs_background": "light"
     },
     "output_type": "display_data"
    }
   ],
   "source": [
    "# 2) g)\n",
    "wopt, errors = func(xtrain, d, w, 1, 0, 1000)\n",
    "epo =[]\n",
    "for i in range(len(errors)):\n",
    "    epo.append(i)\n",
    "plt.scatter(epo,errors)\n",
    "plt.title(\"Scatter Plot for n = 1000, e = 0, learning rate = 1\")\n",
    "plt.ylabel(\"Errors\")\n",
    "plt.xlabel(\"Epoch\")"
   ]
  },
  {
   "cell_type": "code",
   "execution_count": 11,
   "metadata": {},
   "outputs": [
    {
     "name": "stdout",
     "output_type": "stream",
     "text": [
      "1722\n",
      "Percentage of testing error for training with n = 1000, e = 0, learning rate = 1 is 17.22\n"
     ]
    }
   ],
   "source": [
    "count = error(xtest, dt, wopt, 10000)\n",
    "print(count)\n",
    "print(\"Percentage of testing error for training with n = 1000, e = 0, learning rate = 1 is \" + str((count/10000)*100))"
   ]
  },
  {
   "cell_type": "code",
   "execution_count": 12,
   "metadata": {},
   "outputs": [],
   "source": [
    "# 2) h)\n",
    "  \n",
    "def func60000(x,d,w, lr, n):\n",
    "    epoch = 0\n",
    "    errors = []\n",
    "    errors.append(error(x, d, w, n))\n",
    "    while epoch < 31:\n",
    "        count = 0\n",
    "        for i in range(n):\n",
    "            p = np.matmul(w, x[i])\n",
    "            y = np.array(af(p)).reshape(10,1)\n",
    "            if np.any(d[i] - y):\n",
    "                count += 1\n",
    "            w = w +  np.matmul(np.subtract(d[i],y),np.transpose(x[i])) * lr          \n",
    "        \n",
    "        errors.append(count)\n",
    "        epoch += 1\n",
    "    print(count)\n",
    "    return w, errors"
   ]
  },
  {
   "cell_type": "code",
   "execution_count": 13,
   "metadata": {},
   "outputs": [
    {
     "name": "stdout",
     "output_type": "stream",
     "text": [
      "6409\n"
     ]
    },
    {
     "data": {
      "text/plain": [
       "Text(0.5, 0, 'Epoch')"
      ]
     },
     "execution_count": 13,
     "metadata": {},
     "output_type": "execute_result"
    },
    {
     "data": {
      "image/png": "[encoded data removed]",
      "text/plain": [
       "<Figure size 432x288 with 1 Axes>"
      ]
     },
     "metadata": {
      "needs_background": "light"
     },
     "output_type": "display_data"
    }
   ],
   "source": [
    "wopt, errors = func60000(xtrain, d, w, 20, 60000)\n",
    "epo =[]\n",
    "for i in range(len(errors)):\n",
    "    epo.append(i)\n",
    "plt.scatter(epo,errors)\n",
    "plt.title(\"Scatter Plot for n = 60000, learning rate = 20\")\n",
    "plt.ylabel(\"Errors\")\n",
    "plt.xlabel(\"Epoch\")"
   ]
  },
  {
   "cell_type": "code",
   "execution_count": 14,
   "metadata": {},
   "outputs": [
    {
     "name": "stdout",
     "output_type": "stream",
     "text": [
      "1178\n",
      "Percentage of testing error for training with n = 60000, learning rate = 20 is 11.78\n"
     ]
    }
   ],
   "source": [
    "count = error(xtest, dt, wopt, 10000)\n",
    "print(count)\n",
    "print(\"Percentage of testing error for training with n = 60000, learning rate = 20 is \" + str((count/10000)*100))"
   ]
  },
  {
   "cell_type": "code",
   "execution_count": 21,
   "metadata": {},
   "outputs": [
    {
     "data": {
      "text/plain": [
       "Text(0.5, 0, 'Epoch')"
      ]
     },
     "execution_count": 21,
     "metadata": {},
     "output_type": "execute_result"
    },
    {
     "data": {
      "image/png": "[encoded data removed]",
      "text/plain": [
       "<Figure size 432x288 with 1 Axes>"
      ]
     },
     "metadata": {
      "needs_background": "light"
     },
     "output_type": "display_data"
    }
   ],
   "source": [
    "# 2) i)\n",
    "w = random.normal(size = (10,784))\n",
    "\n",
    "wopt, errors = func(xtrain, d, w, 1, 0.11, 60000)\n",
    "epo =[]\n",
    "for i in range(len(errors)):\n",
    "    epo.append(i)\n",
    "plt.scatter(epo,errors)\n",
    "plt.title(\"Scatter Plot for n = 60000, e = 0.11, learning rate = 1\")\n",
    "plt.ylabel(\"Errors\")\n",
    "plt.xlabel(\"Epoch\")"
   ]
  },
  {
   "cell_type": "code",
   "execution_count": 22,
   "metadata": {},
   "outputs": [
    {
     "name": "stdout",
     "output_type": "stream",
     "text": [
      "1313\n",
      "Percentage of testing error for training with n = 60000, e = 0.11, learning rate = 1 is 13.13\n"
     ]
    }
   ],
   "source": [
    "count = error(xtest, dt, wopt, 10000)\n",
    "print(count)\n",
    "print(\"Percentage of testing error for training with n = 60000, e = 0.11, learning rate = 1 is \" + str((count/10000)*100))"
   ]
  },
  {
   "cell_type": "code",
   "execution_count": 23,
   "metadata": {},
   "outputs": [
    {
     "data": {
      "text/plain": [
       "Text(0.5, 0, 'Epoch')"
      ]
     },
     "execution_count": 23,
     "metadata": {},
     "output_type": "execute_result"
    },
    {
     "data": {
      "image/png": "[encoded data removed]",
      "text/plain": [
       "<Figure size 432x288 with 1 Axes>"
      ]
     },
     "metadata": {
      "needs_background": "light"
     },
     "output_type": "display_data"
    }
   ],
   "source": [
    "w = random.normal(size = (10,784))\n",
    "\n",
    "wopt, errors = func(xtrain, d, w, 10, 0.11, 60000)\n",
    "epo =[]\n",
    "for i in range(len(errors)):\n",
    "    epo.append(i)\n",
    "plt.scatter(epo,errors)\n",
    "plt.title(\"Scatter Plot for n = 60000, e = 0.11, learning rate = 10\")\n",
    "plt.ylabel(\"Errors\")\n",
    "plt.xlabel(\"Epoch\")"
   ]
  },
  {
   "cell_type": "code",
   "execution_count": 24,
   "metadata": {},
   "outputs": [
    {
     "name": "stdout",
     "output_type": "stream",
     "text": [
      "1385\n",
      "Percentage of testing error for training with n = 60000, e = 0.11, learning rate = 10 is 13.850000000000001\n"
     ]
    }
   ],
   "source": [
    "count = error(xtest, dt, wopt, 10000)\n",
    "print(count)\n",
    "print(\"Percentage of testing error for training with n = 60000, e = 0.11, learning rate = 10 is \" + str((count/10000)*100))"
   ]
  },
  {
   "cell_type": "code",
   "execution_count": 25,
   "metadata": {},
   "outputs": [
    {
     "data": {
      "text/plain": [
       "Text(0.5, 0, 'Epoch')"
      ]
     },
     "execution_count": 25,
     "metadata": {},
     "output_type": "execute_result"
    },
    {
     "data": {
      "image/png": "[encoded data removed]",
      "text/plain": [
       "<Figure size 432x288 with 1 Axes>"
      ]
     },
     "metadata": {
      "needs_background": "light"
     },
     "output_type": "display_data"
    }
   ],
   "source": [
    "w = random.normal(size = (10,784))\n",
    "\n",
    "wopt, errors = func(xtrain, d, w, 20, 0.11, 60000)\n",
    "epo =[]\n",
    "for i in range(len(errors)):\n",
    "    epo.append(i)\n",
    "plt.scatter(epo,errors)\n",
    "plt.title(\"Scatter Plot for n = 60000, e = 0.11, learning rate = 20\")\n",
    "plt.ylabel(\"Errors\")\n",
    "plt.xlabel(\"Epoch\")"
   ]
  },
  {
   "cell_type": "code",
   "execution_count": 26,
   "metadata": {},
   "outputs": [
    {
     "name": "stdout",
     "output_type": "stream",
     "text": [
      "1320\n",
      "Percentage of testing error for training with n = 60000, e = 0.11, learning rate = 20 is 13.200000000000001\n"
     ]
    }
   ],
   "source": [
    "count = error(xtest, dt, wopt, 10000)\n",
    "print(count)\n",
    "print(\"Percentage of testing error for training with n = 60000, e = 0.11, learning rate = 20 is \" + str((count/10000)*100))"
   ]
  },
  {
   "cell_type": "code",
   "execution_count": null,
   "metadata": {},
   "outputs": [],
   "source": [
    "\n",
    "\n",
    "import numpy as np\n",
    "#np.random.seed(100)\n",
    "\n",
    "\n",
    "# Rectified linear Unit Activation Function\n",
    "def af(t):\n",
    "    if t >= 0: \n",
    "        return t\n",
    "    else:\n",
    "        return 0\n",
    "\n",
    "# Its derivative\n",
    "def af_derivative(p):\n",
    "    if p >= 0:\n",
    "        return 1\n",
    "    else:\n",
    "        return 0\n",
    "\n",
    "\n",
    "def mse(x, d, w, nLayers, nNodes):\n",
    "    c = 0\n",
    "    n = len(x)\n",
    "    #print(n)\n",
    "    for i in range(0,n):\n",
    "        prev = x[i] \n",
    "            \n",
    "        for j in range(nLayers):\n",
    "            u =[]\n",
    "            p =[]\n",
    "            for k in range(nNodes):\n",
    "                t = np.dot(w[j]['weights'][k], prev)\n",
    "                u.append(t)\n",
    "            for l in u:\n",
    "                p.append(af(l))\n",
    "            p.append(1)\n",
    "            prev = np.asarray(p)\n",
    "        y = np.dot(w[nLayers][\"weights\"][0], prev)\n",
    "        c += (d[i] - y)**2\n",
    "            \n",
    "    return c/n\n",
    "\n",
    "#np.random.seed(100)\n",
    "\n",
    "class NeuralNetwork:\n",
    "    \n",
    "    def __init__(self,x=[],y=[],numLayers=2,numNodes=2, numOutputs = 1, eta=0.001,maxIter=10000, ep = 0):\n",
    "        self.labels = y\n",
    "        self.nLayers = numLayers\n",
    "        self.nNodes = numNodes\n",
    "        self.numOutputs = numOutputs\n",
    "        self.eta = eta\n",
    "        self.maxIt = maxIter\n",
    "        self.ep = ep\n",
    "        #self.train()\n",
    "        #self.g = len(self.data[0])*numLayers + numLayers*numNodes + numNodes*numOutputs    \n",
    "        self.data = x\n",
    "        #print(len(self.data[0]))\n",
    "        self.weights = [{\"weights\":np.random.rand(self.nNodes, len(self.data[0]))}] #create the weights from the inputs to the first layer\n",
    "        for i in range(self.nLayers-1):\n",
    "            self.weights.append({\"weights\":np.random.rand(self.nNodes,self.nNodes+1)}) #create the random weights between internal layers\n",
    "            \n",
    "        if self.nLayers >= 0:\n",
    "            \n",
    "            self.weights.append({\"weights\":np.random.rand(self.numOutputs,self.nNodes+1)}) #create weights from final layer to output node\n",
    "        #return self.weights\n",
    "        \n",
    "        \n",
    "    def train(self):\n",
    "        \n",
    "\n",
    "        #print(self.weights)\n",
    "        temp_weights = self.weights\n",
    "        #print(temp_weights)\n",
    "        #print(len(self.weights[0]['weights']))\n",
    "        temp_eta = self.eta\n",
    "        temp2 = mse(self.data, self.labels, self.weights, self.nLayers, self.nNodes)\n",
    "        print(temp2)\n",
    "        #print(f) \n",
    "        e = 0\n",
    "        obj =[]\n",
    "        epoch = []\n",
    "        epoch.append(e)\n",
    "        obj.append(temp2)\n",
    "        cos = 100000000\n",
    "        #epd = 10000000\n",
    "        while e < self.maxIt:\n",
    "            #print(e)\n",
    "            prev = cos\n",
    "            for i in range(len(self.data)):\n",
    "                #print(i)\n",
    "                self.backprop(self.labels[i], self.data[i]) \n",
    "                for m in range(len(self.weights)):\n",
    "                    for j in range(len(self.weights[m]['weights'])):\n",
    "                        for k in range(len(self.weights[m]['weights'][j])):\n",
    "                            self.weights[m]['weights'][j][k] -= self.eta *self.weights[m]['g'][j][k]\n",
    "#                 print('\\n')\n",
    "#                 print(self.weights)\n",
    "#                 print(f)\n",
    "\n",
    "\n",
    "            cos = mse(self.data, self.labels, self.weights, self.nLayers,self.nNodes)\n",
    "            #e += 1\n",
    "#             epoch.append(e)\n",
    "#             obj.append(cos)\n",
    "            if cos > prev:\n",
    "                self.eta = 0.9*self.eta\n",
    "                if self.eta <= 0.00001:\n",
    "                    \n",
    "                    self.eta = temp_eta \n",
    "                    #print(self.eta)\n",
    "                    \n",
    "                obj =[]\n",
    "                epoch = []\n",
    "                e = 0\n",
    "                epoch.append(e)\n",
    "                print(temp_weights)\n",
    "                self.weights = temp_weights\n",
    "                temp_mse = mse(self.data, self.labels, temp_weights, self.nLayers,self.nNodes)\n",
    "                obj.append(temp_mse)\n",
    "                #print(temp_mse)                \n",
    "                cos = 100000000\n",
    "                #epd = 100000000\n",
    "\n",
    "            elif cos <= prev:\n",
    "                e += 1\n",
    "                epoch.append(e)\n",
    "                obj.append(cos)\n",
    "                #epd = abs(cos - prev)\n",
    "                #print(g)\n",
    "        #print(self.weights)\n",
    "        return self.weights, obj, epoch   \n",
    "       \n",
    "\n",
    "    def predict(self,x=[]):\n",
    "        prev = x\n",
    "        r =[]\n",
    "        \n",
    "        r.append(prev)\n",
    "        t =[]\n",
    "\n",
    "        for j in range(len(self.weights)-1):\n",
    "            l = []\n",
    "            s = []\n",
    "            for m in range(self.nNodes):\n",
    "                #print(self.weights[j][\"weights\"][m])\n",
    "                s.append(np.matmul(self.weights[j][\"weights\"][m], prev))\n",
    "            \n",
    "            for k in s:\n",
    "                l.append(af(k))\n",
    "            l.append(1)\n",
    "            prev = np.asarray(l)\n",
    "            t.append(s)\n",
    "            r.append(l)\n",
    "            \n",
    "        s =[]\n",
    "        p = np.matmul(self.weights[self.nLayers][\"weights\"][0], prev)\n",
    "        s.append(p)\n",
    "        q = af(p)\n",
    "        t.append(s)        \n",
    "        \n",
    "        return t,r, q\n",
    "        \n",
    "#     def feedforward(self, data):\n",
    "#         r =[]\n",
    "#         prev = data\n",
    "        \n",
    "#         r.append(prev)\n",
    "#         t =[]\n",
    "\n",
    "#         for j in range(self.nLayers):\n",
    "#             l = []\n",
    "#             s = []\n",
    "#             for m in range(self.nNodes):\n",
    "#                 #print(self.weights[j][\"weights\"][m])\n",
    "#                 s.append(np.matmul(self.weights[j][\"weights\"][m], prev))\n",
    "            \n",
    "#             for k in s:\n",
    "#                 l.append(af(k))\n",
    "#             l.append(1)\n",
    "#             prev = np.asarray(l)\n",
    "#             t.append(s)\n",
    "#             r.append(l)\n",
    "            \n",
    "#         s =[]\n",
    "#         p = np.matmul(self.weights[nLayers][\"weights\"][0], l)\n",
    "#         s.append(p)\n",
    "#         q = af(p)\n",
    "#         t.append(s)        \n",
    "        \n",
    "#         return t,r\n",
    "\n",
    "    def backprop(self, d, data):\n",
    "        der = []\n",
    "        #t,r= self.feedforward(data)\n",
    "        t,r,q = self.predict(data)\n",
    "#         print('\\n')\n",
    "#         print(\"t = \" + str(t))\n",
    "#         print('\\n')\n",
    "#         print('r = ' + str(r))  \n",
    "        \n",
    "        \n",
    "        for i in range(len(self.weights)-1):\n",
    "            a =[]\n",
    "            for m in range(self.nNodes):\n",
    "                a.append(af_derivative(t[i][m]))\n",
    "            der.append(a)\n",
    "        \n",
    "        diff = []\n",
    "        s =[]\n",
    "        s.append(af_derivative(t[nLayers][0]))\n",
    "        diff.append(d - q)\n",
    "        der.append(s)\n",
    "#         print(der)\n",
    "\n",
    "        for i in reversed(range(len(self.weights))):\n",
    "            layer = self.weights[i]\n",
    "            #print(layer)\n",
    "            errors = []\n",
    "            if i != len(self.weights)-1:\n",
    "                for j in range(len(layer['weights'])):\n",
    "                    error = 0\n",
    "                    \n",
    "                    for k in range(len(self.weights[i + 1]['weights'])):\n",
    "                        error += (self.weights[i + 1]['weights'][k][j] * self.weights[i + 1]['s'][k])\n",
    "                    errors.append(error)\n",
    "            else:\n",
    "                errors.append(diff[0])\n",
    "                \n",
    "            layer['s'] = []\n",
    "            for j in range(len(layer['weights'])):\n",
    "                layer['s'].append(errors[j]*der[i][j])\n",
    "                \n",
    "        for j in range(len(self.weights)):\n",
    "            layer = self.weights[j]\n",
    "            layer['g'] = []\n",
    "            for k in range(len(self.weights[j]['weights'])):\n",
    "                s =[]\n",
    "                for m in range(len(self.weights[j]['weights'][k])):\n",
    "                    s.append(((-(r[j][m])*self.weights[j]['s'][k])*2)/len(self.data))\n",
    "                layer['g'].append(s)\n",
    "\n",
    "        return 0.0"
   ]
  }
 ],
 "metadata": {
  "kernelspec": {
   "display_name": "Python 3",
   "language": "python",
   "name": "python3"
  },
  "language_info": {
   "codemirror_mode": {
    "name": "ipython",
    "version": 3
   },
   "file_extension": ".py",
   "mimetype": "text/x-python",
   "name": "python",
   "nbconvert_exporter": "python",
   "pygments_lexer": "ipython3",
   "version": "3.7.3"
  }
 },
 "nbformat": 4,
 "nbformat_minor": 4
}
