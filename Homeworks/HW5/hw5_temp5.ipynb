{
 "cells": [
  {
   "cell_type": "code",
   "execution_count": 1,
   "metadata": {},
   "outputs": [],
   "source": [
    "import numpy as np\n",
    "import matplotlib.pyplot as plt\n",
    "import pandas as pd\n",
    "from numpy import random\n",
    "import time\n",
    "from sklearn import *"
   ]
  },
  {
   "cell_type": "code",
   "execution_count": 2,
   "metadata": {},
   "outputs": [
    {
     "data": {
      "text/plain": [
       "(60000, 784)"
      ]
     },
     "execution_count": 2,
     "metadata": {},
     "output_type": "execute_result"
    }
   ],
   "source": [
    "from mnist import MNIST\n",
    "\n",
    "mndata = MNIST(r\"C:\\Users\\kalya\\OneDrive - University of Illinois at Chicago\\!UIC\\!Semesters\\2nd Sem\\Courses\\CS 559 NN\\Homeworks\\HW2\\Q2\\data\\t\")\n",
    "\n",
    "xtrain, ytrain = mndata.load_training()\n",
    "xtest, ytest = mndata.load_testing()\n",
    "xtrain = np.reshape(xtrain,(60000,784))\n",
    "xtest = np.reshape(xtest,(10000,784))\n",
    "ytrain = np.reshape(ytrain,(60000,1))\n",
    "ytest = np.reshape(ytest,(10000,1))\n",
    "xtrain = (xtrain)/255\n",
    "xtest = (xtest)/255\n",
    "xtrain.shape\n",
    "\n",
    "\n"
   ]
  },
  {
   "cell_type": "code",
   "execution_count": 3,
   "metadata": {},
   "outputs": [],
   "source": [
    "x_train = []\n",
    "x_test = []\n",
    "for i in range(len(xtrain)):\n",
    "    x_train.append(np.append(xtrain[i],1))\n",
    "\n",
    "for i in range(len(xtest)):\n",
    "    x_test.append(np.append(xtest[i],1))\n",
    "x_train = np.asarray(x_train)\n",
    "x_test = np.asarray(x_test)\n",
    "\n"
   ]
  },
  {
   "cell_type": "code",
   "execution_count": 4,
   "metadata": {},
   "outputs": [],
   "source": [
    "# x_test1 = pd.DataFrame(data = x_test.reshape(len(x_test),785))\n",
    "# ytest1 = pd.DataFrame(data = ytest.reshape(len(ytest),1))"
   ]
  },
  {
   "cell_type": "code",
   "execution_count": 5,
   "metadata": {},
   "outputs": [],
   "source": [
    "# x_test1.head()"
   ]
  },
  {
   "cell_type": "code",
   "execution_count": 6,
   "metadata": {},
   "outputs": [],
   "source": [
    "# x=[1,1]\n",
    "# np.linalg.norm(x)"
   ]
  },
  {
   "cell_type": "code",
   "execution_count": 7,
   "metadata": {},
   "outputs": [
    {
     "data": {
      "text/plain": [
       "array([[5],\n",
       "       [0],\n",
       "       [4],\n",
       "       ...,\n",
       "       [5],\n",
       "       [6],\n",
       "       [8]], dtype=uint8)"
      ]
     },
     "execution_count": 7,
     "metadata": {},
     "output_type": "execute_result"
    }
   ],
   "source": [
    "ytrain"
   ]
  },
  {
   "cell_type": "code",
   "execution_count": 20,
   "metadata": {},
   "outputs": [
    {
     "data": {
      "text/plain": [
       "array([0., 0., 0., 0., 0., 1., 0., 0., 0., 0.])"
      ]
     },
     "execution_count": 20,
     "metadata": {},
     "output_type": "execute_result"
    }
   ],
   "source": [
    "# x =[[0,1, 1],[1,0, 0],[1,1, 0], [0,0, 0]]\n",
    "# y=[4,1,2,3]\n",
    "# x = np.asarray(x)\n",
    "# y = np.asarray(y)\n",
    "\n",
    "d = np.zeros(shape = (len(xtrain),10))\n",
    "\n",
    "for i in range(len(ytrain)):\n",
    "    d[i][ytrain[i]] = 1\n",
    "\n",
    "dt = np.zeros(shape = (len(xtest),10))\n",
    "for i in range(len(ytest)):\n",
    "    dt[i][ytest[i]] = 1\n",
    "\n",
    "# d = np.zeros(shape = (len(x),10))\n",
    "# for i in range(len(y)):\n",
    "#     d[i][y[i]] = 1\n",
    "# xtrain = x\n",
    "# xtrain\n",
    "d[0]"
   ]
  },
  {
   "cell_type": "code",
   "execution_count": 21,
   "metadata": {},
   "outputs": [],
   "source": [
    "# # # d = np.zeros(shape = (len(xtrain),10))\n",
    "# # # for i in range(len(ytrain)):\n",
    "# # #     d[i][ytrain[i]] = 1\n",
    "\n",
    "# # # dt = np.zeros(shape = (len(xtest),10))\n",
    "# # # for i in range(len(ytest)):\n",
    "# # #     dt[i][ytest[i]] = 1\n",
    "\n",
    "# # #w = random.normal(size = (10,784))\n",
    "\n",
    "# d = np.zeros(shape = (len(xtrain)))\n",
    "# for i in range(len(ytrain)):\n",
    "#     d[i] = ytrain[i][0]\n",
    "\n",
    "# dt = np.zeros(shape = (len(xtest)))\n",
    "# for i in range(len(ytest)):\n",
    "#     dt[i] = ytest[i][0]"
   ]
  },
  {
   "cell_type": "code",
   "execution_count": 22,
   "metadata": {},
   "outputs": [
    {
     "data": {
      "text/plain": [
       "array([[0., 0., 0., ..., 0., 0., 0.],\n",
       "       [1., 0., 0., ..., 0., 0., 0.],\n",
       "       [0., 0., 0., ..., 0., 0., 0.],\n",
       "       ...,\n",
       "       [0., 0., 0., ..., 0., 0., 0.],\n",
       "       [0., 0., 0., ..., 0., 0., 0.],\n",
       "       [0., 0., 0., ..., 0., 1., 0.]])"
      ]
     },
     "execution_count": 22,
     "metadata": {},
     "output_type": "execute_result"
    }
   ],
   "source": [
    "d"
   ]
  },
  {
   "cell_type": "code",
   "execution_count": 23,
   "metadata": {},
   "outputs": [
    {
     "data": {
      "text/plain": [
       "array([[2., 2.],\n",
       "       [3., 3.]])"
      ]
     },
     "execution_count": 23,
     "metadata": {},
     "output_type": "execute_result"
    }
   ],
   "source": [
    "a = [[1.5, 2.5], [2.6, 3.3]]\n",
    "np.around(a)"
   ]
  },
  {
   "cell_type": "code",
   "execution_count": 24,
   "metadata": {},
   "outputs": [],
   "source": [
    "# weights = np.random.uniform(low =-2, high = 2, size = (784, 60000))\n",
    "# np.matmul(weights, x_train)"
   ]
  },
  {
   "cell_type": "code",
   "execution_count": 25,
   "metadata": {},
   "outputs": [
    {
     "data": {
      "text/plain": [
       "array([[0., 0., 0., ..., 0., 0., 0.],\n",
       "       [1., 0., 0., ..., 0., 0., 0.],\n",
       "       [0., 0., 0., ..., 0., 0., 0.],\n",
       "       ...,\n",
       "       [0., 0., 0., ..., 0., 0., 0.],\n",
       "       [0., 0., 0., ..., 0., 0., 0.],\n",
       "       [0., 0., 0., ..., 0., 1., 0.]])"
      ]
     },
     "execution_count": 25,
     "metadata": {},
     "output_type": "execute_result"
    }
   ],
   "source": [
    "d"
   ]
  },
  {
   "cell_type": "code",
   "execution_count": 26,
   "metadata": {},
   "outputs": [],
   "source": [
    "# t = np.asarray([1,2,3])*(np.asarray([4,5,6]))\n",
    "# t"
   ]
  },
  {
   "cell_type": "code",
   "execution_count": 232,
   "metadata": {},
   "outputs": [
    {
     "name": "stdout",
     "output_type": "stream",
     "text": [
      "[[1 2 3]]\n"
     ]
    },
    {
     "data": {
      "text/plain": [
       "array([[1, 2, 3],\n",
       "       [4, 5, 6],\n",
       "       [7, 8, 9]])"
      ]
     },
     "execution_count": 232,
     "metadata": {},
     "output_type": "execute_result"
    }
   ],
   "source": [
    "a=np.asarray([[1,2,3], [4,5,6]])\n",
    "print(a[:-1])\n",
    "c = np.asarray([[7,8,9]])\n",
    "b =np.append(a,c, axis=0)\n",
    "b"
   ]
  },
  {
   "cell_type": "code",
   "execution_count": 303,
   "metadata": {},
   "outputs": [],
   "source": [
    "class Neural_Network():\n",
    "    \n",
    "    def __init__(self, x=[[]], y=[], p=[[]], q=[], nHiddenLayers = 0, nHiddenNodes =0, numOutputs = 0, eta = 1, iter = 0, prec = 0):\n",
    "        self.data = x\n",
    "        self.labels = y\n",
    "        self.test = p\n",
    "        self.testlabels = q\n",
    "        self.nInputNodes = x.shape[1]\n",
    "        self.nHiddenLayers = nHiddenLayers\n",
    "        self.nHiddenNodes = nHiddenNodes\n",
    "        self.numOutputs = numOutputs\n",
    "        self.eta = eta\n",
    "        self.maxIt = iter\n",
    "        self.prec = prec\n",
    "        self.weights=[np.random.uniform(low = -2, high = 2, size = (self.nHiddenNodes, self.nInputNodes))]\n",
    "        for i in range(self.nHiddenLayers-1):\n",
    "            self.weights.append(np.random.uniform(low =-2, high = 2, size =(self.nHiddenNodes, self.nHiddenNodes+1))) \n",
    "        self.weights.append(np.random.uniform(low =-2, high = 2, size = (self.numOutputs, self.nHiddenNodes+1)))\n",
    "\n",
    "    # Sigmoid activation function for all layers except the output layer\n",
    "    def sigmoid(self, s):      \n",
    "        return 1/(1+np.exp(-s))\n",
    "\n",
    "    # Derivative of sigmoid for all layers except the output layer\n",
    "    def sigmoidPrime(self, s):\n",
    "        return s * (1 - s)\n",
    "\n",
    "    # Activation function for all the input data\n",
    "    def af_predict(self,s): \n",
    "#         t = 1/(1+np.exp(-s))\n",
    "        p =[]\n",
    "        for i in range(len(s)):\n",
    "            max = np.argmax(s[i])\n",
    "            y = np.zeros(len(s[i]))\n",
    "            y[max] = 1\n",
    "            p.append(y)\n",
    "        return np.asarray(p)\n",
    "    \n",
    "    # Activation function for the output layer of the feedforward graph\n",
    "    def af(self,s):\n",
    "#         t = 1/(1+np.exp(-s))\n",
    "        max = np.argmax(s[0])\n",
    "        y = np.zeros(self.numOutputs)\n",
    "        y[max] = 1\n",
    "#         temp = np.asarray(y).reshape(1,self.numOutputs)\n",
    "        return np.asarray(y)        \n",
    "    \n",
    "#     def decision_A(self,x):\n",
    "#         out =[]\n",
    "# #         print(x.shape)\n",
    "# #         print(f)\n",
    "#         for i in range(x.shape[0]):\n",
    "#             s =np.zeros(x.shape[1])            \n",
    "#             max = np.argmax(x[i])\n",
    "#             #print(max)\n",
    "#             s[max] = 1\n",
    "#             out.append(s)\n",
    "#         out = np.asarray(out)\n",
    "#         print(out.shape)\n",
    "#         print(f)\n",
    "#         return out\n",
    "\n",
    "    def misclassifications(self, x,y):\n",
    "        count = 0\n",
    "        for i in range(y.shape[0]): \n",
    "            if np.any(x[i]-y[i]):\n",
    "                count += 1                \n",
    "        return count\n",
    "    \n",
    "    def predict(self, data=[]):\n",
    "        prev = data.T\n",
    "             \n",
    "        for i in range(len(self.weights)-1):\n",
    "            temp = (np.matmul(self.weights[i], prev))\n",
    "            temp2 = self.sigmoid(temp)\n",
    "            y=[np.ones(temp2.shape[1])]\n",
    "            prev = np.append(y, temp2, axis = 0)\n",
    "#             print(prev.shape)\n",
    "#             print(f)\n",
    "        temp_f = np.matmul(self.weights[self.nHiddenLayers], prev)\n",
    "        temp4 = self.af_predict(np.transpose(temp_f))\n",
    "        return temp4\n",
    "    \n",
    "    def feedforward(self, x):\n",
    "#         print(x)\n",
    "        self.r = []\n",
    "        self.r.append(x)\n",
    "#         print(self.r)\n",
    "#         print(f)\n",
    "        prev = x.T        \n",
    "        for i in range(len(self.weights)-1):\n",
    "#             print(self.weights[i])\n",
    "#             print(prev)\n",
    "            temp = np.matmul(self.weights[i], prev)\n",
    "#             print(temp)\n",
    "            temp2 = self.sigmoid(temp)\n",
    "            prev = np.append([[1]], temp2).reshape(temp2.shape[0]+1,1)\n",
    "#             print(prev.shape)\n",
    "#             print(f)\n",
    "            self.r.append(prev)\n",
    "#             print(self.r)\n",
    "#             print('\\n')\n",
    "            \n",
    "#         print(self.weights[self.nHiddenLayers])\n",
    "#         print(prev)\n",
    "        temp_f = np.matmul(self.weights[self.nHiddenLayers], prev)\n",
    "        temp4 =self.af(temp_f.T)\n",
    "        return temp4\n",
    "\n",
    "    def backward(self, x, y):\n",
    "        self.gradient=[]\n",
    "#         print(x)\n",
    "#         print(y)\n",
    "#         print(f)\n",
    "        o = self.feedforward(x)\n",
    "#         print(o)\n",
    "        self.out_error = y - o\n",
    "#         print(self.out_error)\n",
    "#         print(f)\n",
    "\n",
    "        for i in reversed(range(len(self.weights))):\n",
    "            if i == 0 and i != len(self.weights)-1:\n",
    "                temp2 = temp.T.dot(self.weights[i+1]).T\n",
    "#                 print(self.sigmoidPrime(self.r[i+1]))\n",
    "                temp3 = temp2*self.sigmoidPrime(self.r[i+1])\n",
    "                temp4 = (temp3.dot(self.r[i]))*2/len(self.data)\n",
    "#                 print('w')\n",
    "#                 print(self.weights[i])\n",
    "#                 print((self.eta*temp4*2)/len(self.data))\n",
    "                self.gradient.append(self.eta*1.05*temp4[1:])\n",
    "                    \n",
    "            elif i > 0 and i<len(self.weights)-1:\n",
    "                temp2 = temp.T.dot(self.weights[i+1]).T\n",
    "                \n",
    "#                 print(self.sigmoidPrime(self.r[i+1]))\n",
    "                temp3 = temp2*self.sigmoidPrime(self.r[i+1])\n",
    "#                 print(temp3.shape)\n",
    "                temp4 = (temp3.dot(self.r[i].T))*2/len(self.data)\n",
    "#                 print('w')\n",
    "#                 print(self.weights[i])\n",
    "#                 print((self.eta*temp4*2)/len(self.data))\n",
    "                self.gradient.append(self.eta*1.05*temp4[1:])\n",
    "                temp = temp3[1:]\n",
    "                    \n",
    "            elif i == len(self.weights)-1:\n",
    "#                 print(self.weights)\n",
    "#                 print(self.out_error)\n",
    "#                 print(o)\n",
    "#                 print(self.af_derivative(o).T)\n",
    "                temp = self.out_error.reshape(self.numOutputs,1)\n",
    "#                 print(temp.shape)\n",
    "#                 print(f)\n",
    "#                 print(self.weights[i])\n",
    "                temp2 = self.r[i].dot(temp.T)*2/len(self.data)\n",
    "                self.gradient.append(self.eta*temp2.T)\n",
    "#                 print(self.weights[i])\n",
    "#                 print('\\n')\n",
    "\n",
    "        self.gradient = self.gradient[::-1]\n",
    "    \n",
    "        for i in range(len(self.weights)):\n",
    "            self.weights[i] += self.gradient[i]\n",
    "#         print(self.weights)\n",
    "#         print(f)\n",
    "\n",
    "    def train (self):        \n",
    "        #print(self.eta)\n",
    "#         print(self.weights[0].shape)\n",
    "#         print(f)\n",
    "        e = 0\n",
    "        obj_training =[]\n",
    "        obj_testing = []\n",
    "        epoch = []\n",
    "        mis_training = []\n",
    "        mis_testing =[]\n",
    "        epoch.append(e)\n",
    "        pred_train = self.predict(self.data)\n",
    "        pred_test = self.predict(self.test)\n",
    "        obj_training.append(((np.linalg.norm(self.labels - pred_train))**2)/len(self.data))\n",
    "        obj_testing.append(((np.linalg.norm(self.testlabels - pred_test))**2)/len(self.test))\n",
    "        mis_training.append(self.misclassifications(self.labels, pred_train))\n",
    "        mis_testing.append(self.misclassifications(self.testlabels, pred_test))\n",
    "        mse = 100000000000\n",
    "#         while e <= self.maxIt and mse >= self.prec:\n",
    "        while e <= self.maxIt and mse >= self.prec:\n",
    "            prev = mse\n",
    "#             print(prev)\n",
    "#             print(f)\n",
    "            e += 1\n",
    "            for i in range(len(self.data)):\n",
    "                self.backward(self.data[i].reshape(1,self.nInputNodes), self.labels[i])                \n",
    "#                 print(self.delta)\n",
    "#             print(self.weights)\n",
    "#             print(f)                \n",
    "#             print('after')\n",
    "#             print(self.weights)\n",
    "            pred_train = self.predict(self.data)\n",
    "            pred_test = self.predict(self.test)\n",
    "            mse = ((np.linalg.norm(self.labels - pred_train))**2)/len(self.data)\n",
    "            mse_test = ((np.linalg.norm(self.testlabels - pred_test))**2)/len(self.test)\n",
    "#             print(mse)\n",
    "#             print(f)            \n",
    "            obj_training.append(mse)\n",
    "            obj_testing.append(mse_test)\n",
    "            epoch.append(e)\n",
    "            mis_training.append(self.misclassifications(self.labels, pred_train))\n",
    "            mis_testing.append(self.misclassifications(self.testlabels, pred_test))\n",
    "            if mse >= prev:\n",
    "                self.eta = 0.7*self.eta\n",
    "            prev = mse\n",
    "        return self.weights, epoch, obj_training, mis_training, obj_testing, mis_testing"
   ]
  },
  {
   "cell_type": "markdown",
   "metadata": {},
   "source": [
    "# Hyperparameter Selection"
   ]
  },
  {
   "cell_type": "code",
   "execution_count": null,
   "metadata": {},
   "outputs": [],
   "source": [
    "# nHiddenLayers = 1\n",
    "# nHiddenNodes =2\n",
    "# numOutputs = 10\n",
    "# eta = 1\n",
    "# iter = 100\n",
    "# prec = 1.6\n",
    "#print(xtrain.shape)\n",
    "\n",
    "hid = [1,2]\n",
    "hidnodes= [64, 128]\n",
    "lrate = [10,12]\n",
    "a =[]\n",
    "b =[]\n",
    "c=[]\n",
    "q =[]\n",
    "\n",
    "weights =[]\n",
    "iter = 50\n",
    "numOutputs = 10\n",
    "prec = 0.2\n",
    "for i in hid:\n",
    "    for j in hidnodes:\n",
    "        for k in lrate:\n",
    "            #print([i,j,k])            \n",
    "            NN = Neural_Network(x_train, d, x_test, dt, i, j, numOutputs, k, iter, prec)\n",
    "            w, epoch, obj_training, mis_training, obj_testing, mis_testing = NN.train()\n",
    "            weights.append(w)\n",
    "            a.append(obj_training)\n",
    "            b.append(mis_training)\n",
    "            c.append(obj_testing)\n",
    "            q.append(mis_testing)"
   ]
  },
  {
   "cell_type": "code",
   "execution_count": null,
   "metadata": {},
   "outputs": [],
   "source": [
    "fig, ax = plt.subplots(2,4,figsize = (20,10))\n",
    "\n",
    "# for i in range(len(hid)):\n",
    "#     for j in range(len(hidnodes)):\n",
    "#         for k in range(len(lta)):\n",
    "k = 0\n",
    "for i in range(2):\n",
    "    for j in range(4):        \n",
    "        ax[i,j].scatter(epoch,a[k], s  = 7)        \n",
    "        ax[i,j].plot(epoch,a[k], label='Training')\n",
    "        ax[i,j].scatter(epoch,c[k], s  = 7, c ='r')\n",
    "        ax[i,j].plot(epoch, c[k], c='r',label='Testing')\n",
    "        ax[i,j].legend()\n",
    "        ax[i,j].title.set_text('Plot ' + str(k))\n",
    "        k += 1        "
   ]
  },
  {
   "cell_type": "code",
   "execution_count": null,
   "metadata": {},
   "outputs": [],
   "source": [
    "fig, ax = plt.subplots(8,2,figsize = (20,30))\n",
    "k = 0\n",
    "i = 0\n",
    "p=0\n",
    "while i < 8:\n",
    "    ax[i,0].scatter(epoch,b[k], s  = 7)\n",
    "    ax[i,0].plot(epoch,b[k], label='Training')\n",
    "    ax[i,0].legend()\n",
    "    ax[i,0].title.set_text('Training Plot ' + str(k))\n",
    "\n",
    "    ax[i,1].scatter(epoch,q[k], s  = 7, c ='r')\n",
    "    ax[i,1].plot(epoch, q[k], c='r',label='Testing')\n",
    "    ax[i,1].legend()\n",
    "    ax[i,1].title.set_text('testing Plot ' + str(k))\n",
    "    i += 1\n",
    "    k += 1"
   ]
  },
  {
   "cell_type": "code",
   "execution_count": 280,
   "metadata": {},
   "outputs": [],
   "source": [
    "\n",
    "# fig, ax = plt.subplots(figsize = (20,5))\n",
    "# plt.scatter(epoch,mis_training, s  = 7)\n",
    "# plt.plot(epoch,mis_training, label = 'training')\n",
    "# plt.title('Legend inside')\n",
    "# plt.show()\n",
    "\n",
    "# fig, ax = plt.subplots(figsize = (20,5))\n",
    "# plt.scatter(epoch,mis_testing, s  = 7, c ='r')\n",
    "# plt.plot(epoch,mis_testing, c='r',label='Testing')\n",
    "# plt.title('Legend inside')\n",
    "# ax.legend()\n",
    "\n",
    "# plt.xlabel(\"Epoch\")\n",
    "# plt.ylabel(\"MISC\")\n",
    "# plt.title('Plot: the number of epochs vs the misclassifications')\n",
    "# plt.show()"
   ]
  },
  {
   "cell_type": "code",
   "execution_count": null,
   "metadata": {},
   "outputs": [],
   "source": [
    "\n",
    "# fig, ax = plt.subplots(4,2,figsize = (20,5))\n",
    "\n",
    "# # for i in range(len(hid)):\n",
    "# #     for j in range(len(hidnodes)):\n",
    "# #         for k in range(len(lta)):\n",
    "            \n",
    "# plt.scatter(epoch,obj_training, s  = 7)\n",
    "# plt.scatter(epoch,obj_testing, s  = 7, c ='r')\n",
    "\n",
    "# ax[0,0].plot(epoch,obj_training, label='Training')\n",
    "# ax[0,0].plot(epoch,obj_testing, c='r',label='Testing')\n",
    "# plt.title('Legend inside')\n",
    "# ax.legend()\n",
    "\n",
    "\n",
    "# plt.xlabel(\"Epoch\")\n",
    "# plt.ylabel(\"MSE\")\n",
    "# plt.title('Plot: the number of epochs vs the MSE')\n",
    "# plt.show()"
   ]
  }
 ],
 "metadata": {
  "kernelspec": {
   "display_name": "Python 3",
   "language": "python",
   "name": "python3"
  },
  "language_info": {
   "codemirror_mode": {
    "name": "ipython",
    "version": 3
   },
   "file_extension": ".py",
   "mimetype": "text/x-python",
   "name": "python",
   "nbconvert_exporter": "python",
   "pygments_lexer": "ipython3",
   "version": "3.7.3"
  }
 },
 "nbformat": 4,
 "nbformat_minor": 4
}
