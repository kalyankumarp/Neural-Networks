{
 "cells": [
  {
   "cell_type": "code",
   "execution_count": 1,
   "metadata": {},
   "outputs": [],
   "source": [
    "import numpy as np\n",
    "import matplotlib.pyplot as plt\n",
    "import pandas as pd\n",
    "from numpy import random\n"
   ]
  },
  {
   "cell_type": "code",
   "execution_count": 2,
   "metadata": {},
   "outputs": [
    {
     "data": {
      "text/plain": [
       "(60000, 784, 1)"
      ]
     },
     "execution_count": 2,
     "metadata": {},
     "output_type": "execute_result"
    }
   ],
   "source": [
    "from mnist import MNIST\n",
    "\n",
    "mndata = MNIST(r\"C:\\Users\\kalya\\OneDrive - University of Illinois at Chicago\\!UIC\\!Semesters\\2nd Sem\\Courses\\CS 559 NN\\Homeworks\\HW2\\Q2\\data\\t\")\n",
    "\n",
    "xtrain, ytrain = mndata.load_training()\n",
    "xtest, ytest = mndata.load_testing()\n",
    "xtrain = np.reshape(xtrain,(60000,784,1))\n",
    "xtest = np.reshape(xtest,(10000,784,1))\n",
    "xtrain = (xtrain)/255\n",
    "xtest = (xtest)/255\n",
    "xtrain.shape\n",
    "\n",
    "\n"
   ]
  },
  {
   "cell_type": "code",
   "execution_count": 3,
   "metadata": {},
   "outputs": [],
   "source": [
    "w = random.normal(size = (10,784))\n",
    "\n",
    "d = np.zeros(shape = (len(xtrain),10))\n",
    "for i in range(len(ytrain)):\n",
    "    d[i][ytrain[i]] = 1\n",
    "\n",
    "dt = np.zeros(shape = (len(xtest),10))\n",
    "for i in range(len(ytest)):\n",
    "    dt[i][ytest[i]] = 1"
   ]
  },
  {
   "cell_type": "code",
   "execution_count": 4,
   "metadata": {},
   "outputs": [
    {
     "data": {
      "text/plain": [
       "(10, 1)"
      ]
     },
     "execution_count": 4,
     "metadata": {},
     "output_type": "execute_result"
    }
   ],
   "source": [
    "d = d.reshape(60000, 10,1)\n",
    "dt = dt.reshape(10000, 10,1)\n",
    "d[0].shape"
   ]
  },
  {
   "cell_type": "code",
   "execution_count": 5,
   "metadata": {},
   "outputs": [],
   "source": [
    "def af(x):\n",
    "    max = np.argmax(x)\n",
    "    y = []\n",
    "    for i in range(10) :\n",
    "        if(i == max):\n",
    "            y.append(1)\n",
    "        else :\n",
    "            y.append(0)\n",
    "    return y"
   ]
  },
  {
   "cell_type": "code",
   "execution_count": 6,
   "metadata": {},
   "outputs": [],
   "source": [
    "def error(x, d, w, n):\n",
    "    count = 0\n",
    "    for i in range(n):\n",
    "        p = np.matmul(w, x[i])\n",
    "        y = np.array(af(p)).reshape(10,1)\n",
    "        if np.any(d[i] - y):\n",
    "            count += 1\n",
    "    return count\n"
   ]
  },
  {
   "cell_type": "code",
   "execution_count": 7,
   "metadata": {},
   "outputs": [],
   "source": [
    "\n",
    "  \n",
    "def func(x,d,w, lr, e, n):\n",
    "    epoch = 0\n",
    "    errors = []\n",
    "    errors.append(error(x, d, w, n))\n",
    "    while errors[epoch]/n > e:\n",
    "        count = 0\n",
    "        for i in range(n):\n",
    "            p = np.matmul(w, x[i])\n",
    "            y = np.array(af(p)).reshape(10,1)\n",
    "            if np.any(d[i] - y):\n",
    "                count += 1\n",
    "            w = w +  np.matmul(np.subtract(d[i],y),np.transpose(x[i])) * lr          \n",
    "        errors.append(count)\n",
    "        epoch += 1\n",
    "    return w, errors"
   ]
  },
  {
   "cell_type": "code",
   "execution_count": 8,
   "metadata": {},
   "outputs": [
    {
     "data": {
      "text/plain": [
       "Text(0.5, 0, 'Epoch')"
      ]
     },
     "execution_count": 8,
     "metadata": {},
     "output_type": "execute_result"
    },
    {
     "data": {
      "image/png": "[encoded data removed]",
      "text/plain": [
       "<Figure size 432x288 with 1 Axes>"
      ]
     },
     "metadata": {
      "needs_background": "light"
     },
     "output_type": "display_data"
    }
   ],
   "source": [
    "# 2) f) \n",
    "wopt, errors = func(xtrain, d, w, 1, 0, 50)\n",
    "epo =[]\n",
    "for i in range(len(errors)):\n",
    "    epo.append(i)\n",
    "plt.scatter(epo,errors)\n",
    "#print(np.array_equal(wopt,w))\n",
    "plt.title(\"Scatter Plot for n = 50, e = 0, learning rate = 1\")\n",
    "plt.ylabel(\"Errors\")\n",
    "plt.xlabel(\"Epoch\")"
   ]
  },
  {
   "cell_type": "code",
   "execution_count": 9,
   "metadata": {},
   "outputs": [
    {
     "name": "stdout",
     "output_type": "stream",
     "text": [
      "4306\n",
      "Percentage of testing error for training with n = 50, e = 0, learning rate = 1 is 43.059999999999995\n"
     ]
    }
   ],
   "source": [
    "count = error(xtest, dt, wopt, 10000)\n",
    "print(count)\n",
    "print(\"Percentage of testing error for training with n = 50, e = 0, learning rate = 1 is \" + str((count/10000)*100))"
   ]
  },
  {
   "cell_type": "code",
   "execution_count": 10,
   "metadata": {},
   "outputs": [
    {
     "data": {
      "text/plain": [
       "Text(0.5, 0, 'Epoch')"
      ]
     },
     "execution_count": 10,
     "metadata": {},
     "output_type": "execute_result"
    },
    {
     "data": {
      "image/png": "[encoded data removed]",
      "text/plain": [
       "<Figure size 432x288 with 1 Axes>"
      ]
     },
     "metadata": {
      "needs_background": "light"
     },
     "output_type": "display_data"
    }
   ],
   "source": [
    "# 2) g)\n",
    "wopt, errors = func(xtrain, d, w, 1, 0, 1000)\n",
    "epo =[]\n",
    "for i in range(len(errors)):\n",
    "    epo.append(i)\n",
    "plt.scatter(epo,errors)\n",
    "plt.title(\"Scatter Plot for n = 1000, e = 0, learning rate = 1\")\n",
    "plt.ylabel(\"Errors\")\n",
    "plt.xlabel(\"Epoch\")"
   ]
  },
  {
   "cell_type": "code",
   "execution_count": 11,
   "metadata": {},
   "outputs": [
    {
     "name": "stdout",
     "output_type": "stream",
     "text": [
      "1722\n",
      "Percentage of testing error for training with n = 1000, e = 0, learning rate = 1 is 17.22\n"
     ]
    }
   ],
   "source": [
    "count = error(xtest, dt, wopt, 10000)\n",
    "print(count)\n",
    "print(\"Percentage of testing error for training with n = 1000, e = 0, learning rate = 1 is \" + str((count/10000)*100))"
   ]
  },
  {
   "cell_type": "code",
   "execution_count": 12,
   "metadata": {},
   "outputs": [],
   "source": [
    "# 2) h)\n",
    "  \n",
    "def func60000(x,d,w, lr, n):\n",
    "    epoch = 0\n",
    "    errors = []\n",
    "    errors.append(error(x, d, w, n))\n",
    "    while epoch < 31:\n",
    "        count = 0\n",
    "        for i in range(n):\n",
    "            p = np.matmul(w, x[i])\n",
    "            y = np.array(af(p)).reshape(10,1)\n",
    "            if np.any(d[i] - y):\n",
    "                count += 1\n",
    "            w = w +  np.matmul(np.subtract(d[i],y),np.transpose(x[i])) * lr          \n",
    "        \n",
    "        errors.append(count)\n",
    "        epoch += 1\n",
    "    print(count)\n",
    "    return w, errors"
   ]
  },
  {
   "cell_type": "code",
   "execution_count": 13,
   "metadata": {},
   "outputs": [
    {
     "name": "stdout",
     "output_type": "stream",
     "text": [
      "6409\n"
     ]
    },
    {
     "data": {
      "text/plain": [
       "Text(0.5, 0, 'Epoch')"
      ]
     },
     "execution_count": 13,
     "metadata": {},
     "output_type": "execute_result"
    },
    {
     "data": {
      "image/png": "[encoded data removed]",
      "text/plain": [
       "<Figure size 432x288 with 1 Axes>"
      ]
     },
     "metadata": {
      "needs_background": "light"
     },
     "output_type": "display_data"
    }
   ],
   "source": [
    "wopt, errors = func60000(xtrain, d, w, 20, 60000)\n",
    "epo =[]\n",
    "for i in range(len(errors)):\n",
    "    epo.append(i)\n",
    "plt.scatter(epo,errors)\n",
    "plt.title(\"Scatter Plot for n = 60000, learning rate = 20\")\n",
    "plt.ylabel(\"Errors\")\n",
    "plt.xlabel(\"Epoch\")"
   ]
  },
  {
   "cell_type": "code",
   "execution_count": 14,
   "metadata": {},
   "outputs": [
    {
     "name": "stdout",
     "output_type": "stream",
     "text": [
      "1178\n",
      "Percentage of testing error for training with n = 60000, learning rate = 20 is 11.78\n"
     ]
    }
   ],
   "source": [
    "count = error(xtest, dt, wopt, 10000)\n",
    "print(count)\n",
    "print(\"Percentage of testing error for training with n = 60000, learning rate = 20 is \" + str((count/10000)*100))"
   ]
  },
  {
   "cell_type": "code",
   "execution_count": 21,
   "metadata": {},
   "outputs": [
    {
     "data": {
      "text/plain": [
       "Text(0.5, 0, 'Epoch')"
      ]
     },
     "execution_count": 21,
     "metadata": {},
     "output_type": "execute_result"
    },
    {
     "data": {
      "image/png": "[encoded data removed]",
      "text/plain": [
       "<Figure size 432x288 with 1 Axes>"
      ]
     },
     "metadata": {
      "needs_background": "light"
     },
     "output_type": "display_data"
    }
   ],
   "source": [
    "# 2) i)\n",
    "w = random.normal(size = (10,784))\n",
    "\n",
    "wopt, errors = func(xtrain, d, w, 1, 0.11, 60000)\n",
    "epo =[]\n",
    "for i in range(len(errors)):\n",
    "    epo.append(i)\n",
    "plt.scatter(epo,errors)\n",
    "plt.title(\"Scatter Plot for n = 60000, e = 0.11, learning rate = 1\")\n",
    "plt.ylabel(\"Errors\")\n",
    "plt.xlabel(\"Epoch\")"
   ]
  },
  {
   "cell_type": "code",
   "execution_count": 22,
   "metadata": {},
   "outputs": [
    {
     "name": "stdout",
     "output_type": "stream",
     "text": [
      "1313\n",
      "Percentage of testing error for training with n = 60000, e = 0.11, learning rate = 1 is 13.13\n"
     ]
    }
   ],
   "source": [
    "count = error(xtest, dt, wopt, 10000)\n",
    "print(count)\n",
    "print(\"Percentage of testing error for training with n = 60000, e = 0.11, learning rate = 1 is \" + str((count/10000)*100))"
   ]
  },
  {
   "cell_type": "code",
   "execution_count": 23,
   "metadata": {},
   "outputs": [
    {
     "data": {
      "text/plain": [
       "Text(0.5, 0, 'Epoch')"
      ]
     },
     "execution_count": 23,
     "metadata": {},
     "output_type": "execute_result"
    },
    {
     "data": {
      "image/png": "[encoded data removed]",
      "text/plain": [
       "<Figure size 432x288 with 1 Axes>"
      ]
     },
     "metadata": {
      "needs_background": "light"
     },
     "output_type": "display_data"
    }
   ],
   "source": [
    "w = random.normal(size = (10,784))\n",
    "\n",
    "wopt, errors = func(xtrain, d, w, 10, 0.11, 60000)\n",
    "epo =[]\n",
    "for i in range(len(errors)):\n",
    "    epo.append(i)\n",
    "plt.scatter(epo,errors)\n",
    "plt.title(\"Scatter Plot for n = 60000, e = 0.11, learning rate = 10\")\n",
    "plt.ylabel(\"Errors\")\n",
    "plt.xlabel(\"Epoch\")"
   ]
  },
  {
   "cell_type": "code",
   "execution_count": 24,
   "metadata": {},
   "outputs": [
    {
     "name": "stdout",
     "output_type": "stream",
     "text": [
      "1385\n",
      "Percentage of testing error for training with n = 60000, e = 0.11, learning rate = 10 is 13.850000000000001\n"
     ]
    }
   ],
   "source": [
    "count = error(xtest, dt, wopt, 10000)\n",
    "print(count)\n",
    "print(\"Percentage of testing error for training with n = 60000, e = 0.11, learning rate = 10 is \" + str((count/10000)*100))"
   ]
  },
  {
   "cell_type": "code",
   "execution_count": 25,
   "metadata": {},
   "outputs": [
    {
     "data": {
      "text/plain": [
       "Text(0.5, 0, 'Epoch')"
      ]
     },
     "execution_count": 25,
     "metadata": {},
     "output_type": "execute_result"
    },
    {
     "data": {
      "image/png": "[encoded data removed]",
      "text/plain": [
       "<Figure size 432x288 with 1 Axes>"
      ]
     },
     "metadata": {
      "needs_background": "light"
     },
     "output_type": "display_data"
    }
   ],
   "source": [
    "w = random.normal(size = (10,784))\n",
    "\n",
    "wopt, errors = func(xtrain, d, w, 20, 0.11, 60000)\n",
    "epo =[]\n",
    "for i in range(len(errors)):\n",
    "    epo.append(i)\n",
    "plt.scatter(epo,errors)\n",
    "plt.title(\"Scatter Plot for n = 60000, e = 0.11, learning rate = 20\")\n",
    "plt.ylabel(\"Errors\")\n",
    "plt.xlabel(\"Epoch\")"
   ]
  },
  {
   "cell_type": "code",
   "execution_count": 26,
   "metadata": {},
   "outputs": [
    {
     "name": "stdout",
     "output_type": "stream",
     "text": [
      "1320\n",
      "Percentage of testing error for training with n = 60000, e = 0.11, learning rate = 20 is 13.200000000000001\n"
     ]
    }
   ],
   "source": [
    "count = error(xtest, dt, wopt, 10000)\n",
    "print(count)\n",
    "print(\"Percentage of testing error for training with n = 60000, e = 0.11, learning rate = 20 is \" + str((count/10000)*100))"
   ]
  },
  {
   "cell_type": "code",
   "execution_count": null,
   "metadata": {},
   "outputs": [],
   "source": []
  }
 ],
 "metadata": {
  "kernelspec": {
   "display_name": "Python 3",
   "language": "python",
   "name": "python3"
  },
  "language_info": {
   "codemirror_mode": {
    "name": "ipython",
    "version": 3
   },
   "file_extension": ".py",
   "mimetype": "text/x-python",
   "name": "python",
   "nbconvert_exporter": "python",
   "pygments_lexer": "ipython3",
   "version": "3.7.3"
  }
 },
 "nbformat": 4,
 "nbformat_minor": 4
}
