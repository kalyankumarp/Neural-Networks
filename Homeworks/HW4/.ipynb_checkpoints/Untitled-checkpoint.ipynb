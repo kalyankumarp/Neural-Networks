{
 "cells": [
  {
   "cell_type": "code",
   "execution_count": 71,
   "metadata": {},
   "outputs": [],
   "source": [
    "import numpy as np\n",
    "from math import *\n",
    "import matplotlib.pyplot as plt"
   ]
  },
  {
   "cell_type": "markdown",
   "metadata": {},
   "source": [
    "# Q 1 and 2"
   ]
  },
  {
   "cell_type": "code",
   "execution_count": 72,
   "metadata": {},
   "outputs": [],
   "source": [
    "# Inputs\n",
    "n= 300\n",
    "x = np.random.uniform(low =0, high = 1,  size = n)\n",
    "# Vector Fields\n",
    "v = np.random.uniform(low = -0.1, high = 0.1, size = n)\n",
    "#v"
   ]
  },
  {
   "cell_type": "markdown",
   "metadata": {},
   "source": [
    "# Q 3"
   ]
  },
  {
   "cell_type": "code",
   "execution_count": 73,
   "metadata": {},
   "outputs": [
    {
     "data": {
      "image/png": "[encoded data removed]",
      "text/plain": [
       "<Figure size 720x360 with 1 Axes>"
      ]
     },
     "metadata": {
      "needs_background": "light"
     },
     "output_type": "display_data"
    }
   ],
   "source": [
    "d = []\n",
    "for i in range(0,n):\n",
    "    d.append(sin(20*x[i]) + 3*x[i] + v[i])\n",
    "d = np.asarray(d)\n",
    "# d\n",
    "fig, ax = plt.subplots(figsize = (10,5))\n",
    "plt.scatter(x,d, s  = 7)\n",
    "plt.show()"
   ]
  },
  {
   "cell_type": "code",
   "execution_count": 74,
   "metadata": {},
   "outputs": [],
   "source": [
    "\n",
    "N = 24\n",
    "w = np.random.uniform(low = -1, high  = 1, size = 3*N + 1)\n",
    "#w"
   ]
  },
  {
   "cell_type": "code",
   "execution_count": 75,
   "metadata": {},
   "outputs": [],
   "source": [
    "# Derivative of tanh(v)\n",
    "\n",
    "def der(x):\n",
    "    return 1-(tanh(x)**2)"
   ]
  },
  {
   "cell_type": "code",
   "execution_count": 76,
   "metadata": {},
   "outputs": [],
   "source": [
    "def mse(x, d, w, n,N):\n",
    "    c = 0\n",
    "    u = []\n",
    "    for i in range(0,n):\n",
    "        p = []\n",
    "        j = 0\n",
    "        while j < 3*N and len(p)<24:\n",
    "            u.append((w[j+1]*x[i])+w[j])\n",
    "            p.append(tanh((w[j+1]*x[i])+w[j]))\n",
    "            j += 2\n",
    "        sum  = 0\n",
    "        #print(p)\n",
    "        for k in range(len(p)):\n",
    "            sum += w[j+k] * p[k]\n",
    "        y = sum + w[3*N]\n",
    "        c += (d[i] - y)**2\n",
    "            \n",
    "    return c/n"
   ]
  },
  {
   "cell_type": "code",
   "execution_count": 77,
   "metadata": {},
   "outputs": [
    {
     "data": {
      "text/plain": [
       "4.6149872141123005"
      ]
     },
     "execution_count": 77,
     "metadata": {},
     "output_type": "execute_result"
    }
   ],
   "source": [
    "cos = mse(x, d, w, n,N)\n",
    "cos"
   ]
  },
  {
   "cell_type": "markdown",
   "metadata": {},
   "source": [
    "# Q 4"
   ]
  },
  {
   "cell_type": "code",
   "execution_count": 78,
   "metadata": {},
   "outputs": [],
   "source": [
    "# Forward Propagation\n",
    "\n",
    "def forw_prop(w, x, n, N):\n",
    "    u = []\n",
    "    p = []\n",
    "    j = 0\n",
    "    while j < 3*N and len(p)<24:\n",
    "        u.append((w[j+1]*x)+w[j])\n",
    "        p.append(tanh((w[j+1]*x)+w[j]))\n",
    "        j += 2\n",
    "    sum  = 0\n",
    "    #print(p)\n",
    "    for k in range(len(p)):\n",
    "        sum += w[j+k] * p[k]\n",
    "    y = sum + w[3*N]\n",
    "    \n",
    "    return y,u"
   ]
  },
  {
   "cell_type": "code",
   "execution_count": 79,
   "metadata": {},
   "outputs": [],
   "source": [
    "# y,u = forw_prop(w0,x[1],n, N)\n",
    "# print(y)\n",
    "# print(d[0])\n",
    "# print(u)"
   ]
  },
  {
   "cell_type": "code",
   "execution_count": 80,
   "metadata": {},
   "outputs": [],
   "source": [
    "#Back Propagation\n",
    "def back_prop(d,x,w, n, N):\n",
    "    g =[]\n",
    "    y, u = forw_prop(w, x, n, N)\n",
    "    diff = d - y\n",
    "    i = 0\n",
    "    j = 0\n",
    "    while i < 3*N+1:\n",
    "        if i % 2 == 0 and i < 48:\n",
    "            m = -(der(u[j])*w[48+j])*diff\n",
    "            #print(m)\n",
    "            g.append(m)\n",
    "        elif i % 2 != 0 and i < 48:\n",
    "            g.append(-(der(u[j])*w[48+j])*diff)\n",
    "            j += 1\n",
    "        elif i >= 48 and i < 3*N + 1:\n",
    "            g.append(-diff)\n",
    "        else:\n",
    "            g.append(-diff)\n",
    "        i += 1\n",
    "    \n",
    "    g = np.asarray(g)\n",
    "    return (2*g)/n"
   ]
  },
  {
   "cell_type": "code",
   "execution_count": 81,
   "metadata": {},
   "outputs": [],
   "source": [
    "# g = back_prop(d[2],x[2], w, n, N)\n",
    "# w = w - 0.45*g\n",
    "# y,u = forw_prop(w,x[2],n, N)\n",
    "# print(y)\n",
    "# print(d[0])\n",
    "# print(u)"
   ]
  },
  {
   "cell_type": "code",
   "execution_count": 82,
   "metadata": {},
   "outputs": [],
   "source": [
    "def alg(x, d, w, lr, n, N, iter):\n",
    "    t = w\n",
    "    obj =[]\n",
    "    epoch = []\n",
    "    e = 0\n",
    "    epoch.append(e)\n",
    "    obj.append(mse(x, d, w, n,N))\n",
    "    cos = 100000000\n",
    "    while e < iter:\n",
    "        prev = cos\n",
    "        i = 0\n",
    "        while i < len(x):\n",
    "            g = back_prop(d[i], x[i], w, n, N)\n",
    "            w =  w - lr*g\n",
    "            i += 1\n",
    "        cos = mse(x, d, w, n,N)\n",
    "        if cos > prev:\n",
    "            lr = 0.9*lr\n",
    "            obj =[]\n",
    "            epoch = []\n",
    "            e = 0\n",
    "            epoch.append(e)\n",
    "            obj.append(mse(x, d, t, n,N))\n",
    "            cos = 100000000\n",
    "            \n",
    "        elif cos <= prev:\n",
    "            e += 1\n",
    "            epoch.append(e)\n",
    "            obj.append(mse(x, d, w, n,N))\n",
    "            #print(g)\n",
    "    return w, obj, epoch"
   ]
  },
  {
   "cell_type": "code",
   "execution_count": 83,
   "metadata": {},
   "outputs": [],
   "source": [
    "w0, cf, epoch= alg(x,d,w,1, n,N, 500)"
   ]
  },
  {
   "cell_type": "markdown",
   "metadata": {},
   "source": [
    "# Plot: the number of epochs vs the MSE in the backpropagation algorithm."
   ]
  },
  {
   "cell_type": "code",
   "execution_count": 90,
   "metadata": {},
   "outputs": [
    {
     "data": {
      "image/png": "[encoded data removed]",
      "text/plain": [
       "<Figure size 1440x360 with 1 Axes>"
      ]
     },
     "metadata": {
      "needs_background": "light"
     },
     "output_type": "display_data"
    }
   ],
   "source": [
    "fig, ax = plt.subplots(figsize = (20,5))\n",
    "plt.scatter(epoch,cf, s  = 7)\n",
    "plt.plot(epoch,cf)\n",
    "plt.xlabel(\"Epoch\")\n",
    "plt.ylabel(\"MSE\")\n",
    "plt.title('Plot: the number of epochs vs the MSE in the backpropagation algorithm')\n",
    "plt.show()"
   ]
  },
  {
   "cell_type": "code",
   "execution_count": 88,
   "metadata": {},
   "outputs": [],
   "source": [
    "\n",
    "\n",
    "def forw_prop1(w, x, n, N):\n",
    "    y =[]\n",
    "    u = []\n",
    "    for i in range(0,n):\n",
    "        p = []\n",
    "        j = 0\n",
    "        while j < 3*N and len(p)<24:\n",
    "            u.append((w[j+1]*x[i])+w[j])\n",
    "            p.append(tanh((w[j+1]*x[i])+w[j]))\n",
    "            j += 2\n",
    "        sum  = 0\n",
    "        #print(p)\n",
    "        for i in range(len(p)):\n",
    "            sum += w[j+i] * p[i]\n",
    "        y.append(sum + w[3*N])\n",
    "\n",
    "    y = np.asarray(y)\n",
    "    return y"
   ]
  },
  {
   "cell_type": "markdown",
   "metadata": {},
   "source": [
    "# Q 5"
   ]
  },
  {
   "cell_type": "code",
   "execution_count": 91,
   "metadata": {},
   "outputs": [
    {
     "data": {
      "image/png": "[encoded data removed]",
      "text/plain": [
       "<Figure size 1080x360 with 1 Axes>"
      ]
     },
     "metadata": {
      "needs_background": "light"
     },
     "output_type": "display_data"
    }
   ],
   "source": [
    "# Fit \n",
    "\n",
    "y = forw_prop1(w0,x,n,N)\n",
    "#print(y)\n",
    "fig, ax = plt.subplots(figsize = (15,5))\n",
    "plt.scatter(x,d, s  = 7)\n",
    "plt.plot(x,y)\n",
    "plt.xlabel(\"x\")\n",
    "plt.show()"
   ]
  },
  {
   "cell_type": "code",
   "execution_count": 17,
   "metadata": {},
   "outputs": [],
   "source": [
    "# def error(x, d, w, n,N):\n",
    "#     count = 0\n",
    "#     u = []\n",
    "#     for i in range(0,n):\n",
    "#         p = []\n",
    "#         j = 0\n",
    "#         while j < 3*N and len(p)<24:\n",
    "#             u.append((w[j+1]*x[i])+w[j])\n",
    "#             p.append(tanh((w[j+1]*x[i])+w[j]))\n",
    "#             j += 2\n",
    "#         sum  = 0\n",
    "#         #print(p)\n",
    "#         for k in range(len(p)):\n",
    "#             sum += w[j+k] * p[k]\n",
    "#         if d[i] != (sum + w[3*N]):\n",
    "#             count += 1\n",
    "            \n",
    "#     return count"
   ]
  },
  {
   "cell_type": "code",
   "execution_count": 18,
   "metadata": {},
   "outputs": [],
   "source": [
    "# lr = 0.5\n",
    "# e = 290\n",
    "# epoch = 0\n",
    "# errors = []\n",
    "# errors.append(error(x, d, w, n, N))\n",
    "# cos = 100000000\n",
    "# while errors[epoch] > e:\n",
    "#     prev = cos\n",
    "#     for i in range(len(x)):\n",
    "#         w =  w - lr*back_prop(d[i], x[i], w, n, N)\n",
    "#     errors.append(error(x, d, w, n, N))\n",
    "#     epoch += 1\n",
    "#     cos = cost(x, d, w, n,N)\n",
    "#     if cos > prev:\n",
    "#         lr = 0.9*lr\n",
    "#         #print(w)"
   ]
  },
  {
   "cell_type": "code",
   "execution_count": 19,
   "metadata": {},
   "outputs": [],
   "source": [
    "#w"
   ]
  },
  {
   "cell_type": "code",
   "execution_count": 20,
   "metadata": {},
   "outputs": [],
   "source": [
    "# # Forward Propagation\n",
    "\n",
    "# def forw_prop(w, x, n, N):\n",
    "#     y =[]\n",
    "#     u = []\n",
    "#     for i in range(0,n):\n",
    "#         p = []\n",
    "#         j = 0\n",
    "#         while j < 3*N and len(p)<24:\n",
    "#             u.append((w[j+1]*x[i])+w[j])\n",
    "#             p.append(tanh((w[j+1]*x[i])+w[j]))\n",
    "#             j += 2\n",
    "#         sum  = 0\n",
    "#         #print(p)\n",
    "#         for i in range(len(p)):\n",
    "#             sum += w[j+i] * p[i]\n",
    "#         y.append(sum + w[3*N])\n",
    "\n",
    "#     y = np.asarray(y)\n",
    "#     return y,u"
   ]
  },
  {
   "cell_type": "code",
   "execution_count": 21,
   "metadata": {},
   "outputs": [],
   "source": [
    "# #Back Propagation\n",
    "# def back_prop(d,x,w, n, N):\n",
    "#     g =[]\n",
    "#     y, u = forw_prop(w, x, n, N)\n",
    "#     diff = d - y\n",
    "#     i = 0\n",
    "#     j = 0\n",
    "#     while i < 3*N+2:\n",
    "#         if i % 2 == 0 and i < 48:\n",
    "#             g.append(-(der(u[j])*w[48+j])*diff[j])\n",
    "#             i += 1\n",
    "#         elif i % 2 != 0 and i < 48:\n",
    "#             g.append(-(der(u[j])*w[48+j])*diff[j])\n",
    "#             i += 1\n",
    "#             j += 1\n",
    "#         elif i >= 48 and i < 3*N + 1:\n",
    "#             g.append(-diff[j])\n",
    "#             i += 1\n",
    "#         else:\n",
    "#             g.append(-diff[j])\n",
    "#             i += 1\n",
    "#     return g"
   ]
  }
 ],
 "metadata": {
  "kernelspec": {
   "display_name": "Python 3",
   "language": "python",
   "name": "python3"
  },
  "language_info": {
   "codemirror_mode": {
    "name": "ipython",
    "version": 3
   },
   "file_extension": ".py",
   "mimetype": "text/x-python",
   "name": "python",
   "nbconvert_exporter": "python",
   "pygments_lexer": "ipython3",
   "version": "3.7.3"
  }
 },
 "nbformat": 4,
 "nbformat_minor": 4
}
